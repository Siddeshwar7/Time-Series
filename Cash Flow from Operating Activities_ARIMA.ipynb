{
 "cells": [
  {
   "cell_type": "code",
   "execution_count": 1,
   "id": "86cdbdc7",
   "metadata": {},
   "outputs": [],
   "source": [
    "#importing the Library\n",
    "import numpy as np\n",
    "import matplotlib.pyplot as plt\n",
    "import statsmodels.api as sms\n",
    "import pandas as pd\n",
    "\n",
    "%matplotlib inline"
   ]
  },
  {
   "cell_type": "code",
   "execution_count": 2,
   "id": "531d8a93",
   "metadata": {},
   "outputs": [],
   "source": [
    "#importing the dataset \n",
    "df_cf=pd.read_csv(\"C:/Users/Admin/Documents/Coca_cola_Cashflow_statement.csv\")"
   ]
  },
  {
   "cell_type": "code",
   "execution_count": 3,
   "id": "33e3c5d4",
   "metadata": {},
   "outputs": [
    {
     "data": {
      "text/html": [
       "<div>\n",
       "<style scoped>\n",
       "    .dataframe tbody tr th:only-of-type {\n",
       "        vertical-align: middle;\n",
       "    }\n",
       "\n",
       "    .dataframe tbody tr th {\n",
       "        vertical-align: top;\n",
       "    }\n",
       "\n",
       "    .dataframe thead th {\n",
       "        text-align: right;\n",
       "    }\n",
       "</style>\n",
       "<table border=\"1\" class=\"dataframe\">\n",
       "  <thead>\n",
       "    <tr style=\"text-align: right;\">\n",
       "      <th></th>\n",
       "      <th>DT</th>\n",
       "      <th>Cash_Flow_from_Investing_Activities</th>\n",
       "      <th>Cash Flow from Operating Activities</th>\n",
       "      <th>Cash Flow from Financial Activities</th>\n",
       "      <th>Net Cash Flow</th>\n",
       "    </tr>\n",
       "  </thead>\n",
       "  <tbody>\n",
       "    <tr>\n",
       "      <th>0</th>\n",
       "      <td>31-03-2009</td>\n",
       "      <td>-599</td>\n",
       "      <td>3923.0</td>\n",
       "      <td>-975.0</td>\n",
       "      <td>1295.0</td>\n",
       "    </tr>\n",
       "    <tr>\n",
       "      <th>1</th>\n",
       "      <td>30-06-2009</td>\n",
       "      <td>-565</td>\n",
       "      <td>623.0</td>\n",
       "      <td>-297.0</td>\n",
       "      <td>-2344.0</td>\n",
       "    </tr>\n",
       "    <tr>\n",
       "      <th>2</th>\n",
       "      <td>30-09-2009</td>\n",
       "      <td>-396</td>\n",
       "      <td>3394.0</td>\n",
       "      <td>-195.0</td>\n",
       "      <td>-1617.0</td>\n",
       "    </tr>\n",
       "    <tr>\n",
       "      <th>3</th>\n",
       "      <td>31-12-2009</td>\n",
       "      <td>-2589</td>\n",
       "      <td>3706.0</td>\n",
       "      <td>-1629.0</td>\n",
       "      <td>2113.0</td>\n",
       "    </tr>\n",
       "    <tr>\n",
       "      <th>4</th>\n",
       "      <td>31-03-2010</td>\n",
       "      <td>-1368</td>\n",
       "      <td>3889.0</td>\n",
       "      <td>-5326.0</td>\n",
       "      <td>704.0</td>\n",
       "    </tr>\n",
       "  </tbody>\n",
       "</table>\n",
       "</div>"
      ],
      "text/plain": [
       "           DT  Cash_Flow_from_Investing_Activities  \\\n",
       "0  31-03-2009                                 -599   \n",
       "1  30-06-2009                                 -565   \n",
       "2  30-09-2009                                 -396   \n",
       "3  31-12-2009                                -2589   \n",
       "4  31-03-2010                                -1368   \n",
       "\n",
       "   Cash Flow from Operating Activities  Cash Flow from Financial Activities  \\\n",
       "0                               3923.0                               -975.0   \n",
       "1                                623.0                               -297.0   \n",
       "2                               3394.0                               -195.0   \n",
       "3                               3706.0                              -1629.0   \n",
       "4                               3889.0                              -5326.0   \n",
       "\n",
       "   Net Cash Flow  \n",
       "0         1295.0  \n",
       "1        -2344.0  \n",
       "2        -1617.0  \n",
       "3         2113.0  \n",
       "4          704.0  "
      ]
     },
     "execution_count": 3,
     "metadata": {},
     "output_type": "execute_result"
    }
   ],
   "source": [
    "df_cf.head()"
   ]
  },
  {
   "cell_type": "code",
   "execution_count": 4,
   "id": "9caeff35",
   "metadata": {},
   "outputs": [
    {
     "data": {
      "text/plain": [
       "DT                                     0\n",
       "Cash_Flow_from_Investing_Activities    0\n",
       "Cash Flow from Operating Activities    0\n",
       "Cash Flow from Financial Activities    0\n",
       "Net Cash Flow                          0\n",
       "dtype: int64"
      ]
     },
     "execution_count": 4,
     "metadata": {},
     "output_type": "execute_result"
    }
   ],
   "source": [
    "#checking for null values\n",
    "df_cf.isnull().sum()"
   ]
  },
  {
   "cell_type": "code",
   "execution_count": 5,
   "id": "7fc43889",
   "metadata": {},
   "outputs": [
    {
     "data": {
      "text/html": [
       "<div>\n",
       "<style scoped>\n",
       "    .dataframe tbody tr th:only-of-type {\n",
       "        vertical-align: middle;\n",
       "    }\n",
       "\n",
       "    .dataframe tbody tr th {\n",
       "        vertical-align: top;\n",
       "    }\n",
       "\n",
       "    .dataframe thead th {\n",
       "        text-align: right;\n",
       "    }\n",
       "</style>\n",
       "<table border=\"1\" class=\"dataframe\">\n",
       "  <thead>\n",
       "    <tr style=\"text-align: right;\">\n",
       "      <th></th>\n",
       "      <th>DT</th>\n",
       "      <th>Cash_Flow_from_Investing_Activities</th>\n",
       "      <th>Cash Flow from Operating Activities</th>\n",
       "      <th>Cash Flow from Financial Activities</th>\n",
       "      <th>Net Cash Flow</th>\n",
       "    </tr>\n",
       "  </thead>\n",
       "  <tbody>\n",
       "    <tr>\n",
       "      <th>49</th>\n",
       "      <td>30-06-2021</td>\n",
       "      <td>2034</td>\n",
       "      <td>1326.0</td>\n",
       "      <td>-1043.0</td>\n",
       "      <td>-1337.0</td>\n",
       "    </tr>\n",
       "    <tr>\n",
       "      <th>50</th>\n",
       "      <td>30-09-2021</td>\n",
       "      <td>166</td>\n",
       "      <td>1916.0</td>\n",
       "      <td>-1409.0</td>\n",
       "      <td>-1825.0</td>\n",
       "    </tr>\n",
       "    <tr>\n",
       "      <th>51</th>\n",
       "      <td>31-12-2021</td>\n",
       "      <td>-4684</td>\n",
       "      <td>2608.0</td>\n",
       "      <td>-1026.0</td>\n",
       "      <td>1199.0</td>\n",
       "    </tr>\n",
       "    <tr>\n",
       "      <th>52</th>\n",
       "      <td>31-03-2022</td>\n",
       "      <td>146</td>\n",
       "      <td>2789.0</td>\n",
       "      <td>-1675.0</td>\n",
       "      <td>831.0</td>\n",
       "    </tr>\n",
       "    <tr>\n",
       "      <th>53</th>\n",
       "      <td>30-06-2022</td>\n",
       "      <td>-1291</td>\n",
       "      <td>873.0</td>\n",
       "      <td>1817.0</td>\n",
       "      <td>2115.0</td>\n",
       "    </tr>\n",
       "  </tbody>\n",
       "</table>\n",
       "</div>"
      ],
      "text/plain": [
       "            DT  Cash_Flow_from_Investing_Activities  \\\n",
       "49  30-06-2021                                 2034   \n",
       "50  30-09-2021                                  166   \n",
       "51  31-12-2021                                -4684   \n",
       "52  31-03-2022                                  146   \n",
       "53  30-06-2022                                -1291   \n",
       "\n",
       "    Cash Flow from Operating Activities  Cash Flow from Financial Activities  \\\n",
       "49                               1326.0                              -1043.0   \n",
       "50                               1916.0                              -1409.0   \n",
       "51                               2608.0                              -1026.0   \n",
       "52                               2789.0                              -1675.0   \n",
       "53                                873.0                               1817.0   \n",
       "\n",
       "    Net Cash Flow  \n",
       "49        -1337.0  \n",
       "50        -1825.0  \n",
       "51         1199.0  \n",
       "52          831.0  \n",
       "53         2115.0  "
      ]
     },
     "execution_count": 5,
     "metadata": {},
     "output_type": "execute_result"
    }
   ],
   "source": [
    "df_cf.tail()"
   ]
  },
  {
   "cell_type": "code",
   "execution_count": 6,
   "id": "96375d98",
   "metadata": {},
   "outputs": [
    {
     "name": "stdout",
     "output_type": "stream",
     "text": [
      "<class 'pandas.core.frame.DataFrame'>\n",
      "RangeIndex: 54 entries, 0 to 53\n",
      "Data columns (total 5 columns):\n",
      " #   Column                               Non-Null Count  Dtype  \n",
      "---  ------                               --------------  -----  \n",
      " 0   DT                                   54 non-null     object \n",
      " 1   Cash_Flow_from_Investing_Activities  54 non-null     int64  \n",
      " 2   Cash Flow from Operating Activities  54 non-null     float64\n",
      " 3   Cash Flow from Financial Activities  54 non-null     float64\n",
      " 4   Net Cash Flow                        54 non-null     float64\n",
      "dtypes: float64(3), int64(1), object(1)\n",
      "memory usage: 2.2+ KB\n"
     ]
    }
   ],
   "source": [
    "df_cf.info()"
   ]
  },
  {
   "cell_type": "code",
   "execution_count": 7,
   "id": "e0da8d80",
   "metadata": {},
   "outputs": [
    {
     "name": "stderr",
     "output_type": "stream",
     "text": [
      "C:\\Users\\Admin\\AppData\\Local\\Temp\\ipykernel_11764\\905396716.py:2: UserWarning: Parsing '31-03-2009' in DD/MM/YYYY format. Provide format or specify infer_datetime_format=True for consistent parsing.\n",
      "  df_cf[\"DT\"]=pd.to_datetime(df_cf[\"DT\"])\n",
      "C:\\Users\\Admin\\AppData\\Local\\Temp\\ipykernel_11764\\905396716.py:2: UserWarning: Parsing '30-06-2009' in DD/MM/YYYY format. Provide format or specify infer_datetime_format=True for consistent parsing.\n",
      "  df_cf[\"DT\"]=pd.to_datetime(df_cf[\"DT\"])\n",
      "C:\\Users\\Admin\\AppData\\Local\\Temp\\ipykernel_11764\\905396716.py:2: UserWarning: Parsing '30-09-2009' in DD/MM/YYYY format. Provide format or specify infer_datetime_format=True for consistent parsing.\n",
      "  df_cf[\"DT\"]=pd.to_datetime(df_cf[\"DT\"])\n",
      "C:\\Users\\Admin\\AppData\\Local\\Temp\\ipykernel_11764\\905396716.py:2: UserWarning: Parsing '31-12-2009' in DD/MM/YYYY format. Provide format or specify infer_datetime_format=True for consistent parsing.\n",
      "  df_cf[\"DT\"]=pd.to_datetime(df_cf[\"DT\"])\n",
      "C:\\Users\\Admin\\AppData\\Local\\Temp\\ipykernel_11764\\905396716.py:2: UserWarning: Parsing '31-03-2010' in DD/MM/YYYY format. Provide format or specify infer_datetime_format=True for consistent parsing.\n",
      "  df_cf[\"DT\"]=pd.to_datetime(df_cf[\"DT\"])\n",
      "C:\\Users\\Admin\\AppData\\Local\\Temp\\ipykernel_11764\\905396716.py:2: UserWarning: Parsing '30-06-2010' in DD/MM/YYYY format. Provide format or specify infer_datetime_format=True for consistent parsing.\n",
      "  df_cf[\"DT\"]=pd.to_datetime(df_cf[\"DT\"])\n",
      "C:\\Users\\Admin\\AppData\\Local\\Temp\\ipykernel_11764\\905396716.py:2: UserWarning: Parsing '30-09-2010' in DD/MM/YYYY format. Provide format or specify infer_datetime_format=True for consistent parsing.\n",
      "  df_cf[\"DT\"]=pd.to_datetime(df_cf[\"DT\"])\n",
      "C:\\Users\\Admin\\AppData\\Local\\Temp\\ipykernel_11764\\905396716.py:2: UserWarning: Parsing '31-12-2010' in DD/MM/YYYY format. Provide format or specify infer_datetime_format=True for consistent parsing.\n",
      "  df_cf[\"DT\"]=pd.to_datetime(df_cf[\"DT\"])\n",
      "C:\\Users\\Admin\\AppData\\Local\\Temp\\ipykernel_11764\\905396716.py:2: UserWarning: Parsing '31-03-2011' in DD/MM/YYYY format. Provide format or specify infer_datetime_format=True for consistent parsing.\n",
      "  df_cf[\"DT\"]=pd.to_datetime(df_cf[\"DT\"])\n",
      "C:\\Users\\Admin\\AppData\\Local\\Temp\\ipykernel_11764\\905396716.py:2: UserWarning: Parsing '30-06-2011' in DD/MM/YYYY format. Provide format or specify infer_datetime_format=True for consistent parsing.\n",
      "  df_cf[\"DT\"]=pd.to_datetime(df_cf[\"DT\"])\n",
      "C:\\Users\\Admin\\AppData\\Local\\Temp\\ipykernel_11764\\905396716.py:2: UserWarning: Parsing '30-09-2011' in DD/MM/YYYY format. Provide format or specify infer_datetime_format=True for consistent parsing.\n",
      "  df_cf[\"DT\"]=pd.to_datetime(df_cf[\"DT\"])\n",
      "C:\\Users\\Admin\\AppData\\Local\\Temp\\ipykernel_11764\\905396716.py:2: UserWarning: Parsing '31-12-2011' in DD/MM/YYYY format. Provide format or specify infer_datetime_format=True for consistent parsing.\n",
      "  df_cf[\"DT\"]=pd.to_datetime(df_cf[\"DT\"])\n",
      "C:\\Users\\Admin\\AppData\\Local\\Temp\\ipykernel_11764\\905396716.py:2: UserWarning: Parsing '31-03-2012' in DD/MM/YYYY format. Provide format or specify infer_datetime_format=True for consistent parsing.\n",
      "  df_cf[\"DT\"]=pd.to_datetime(df_cf[\"DT\"])\n",
      "C:\\Users\\Admin\\AppData\\Local\\Temp\\ipykernel_11764\\905396716.py:2: UserWarning: Parsing '30-06-2012' in DD/MM/YYYY format. Provide format or specify infer_datetime_format=True for consistent parsing.\n",
      "  df_cf[\"DT\"]=pd.to_datetime(df_cf[\"DT\"])\n",
      "C:\\Users\\Admin\\AppData\\Local\\Temp\\ipykernel_11764\\905396716.py:2: UserWarning: Parsing '30-09-2012' in DD/MM/YYYY format. Provide format or specify infer_datetime_format=True for consistent parsing.\n",
      "  df_cf[\"DT\"]=pd.to_datetime(df_cf[\"DT\"])\n",
      "C:\\Users\\Admin\\AppData\\Local\\Temp\\ipykernel_11764\\905396716.py:2: UserWarning: Parsing '31-12-2012' in DD/MM/YYYY format. Provide format or specify infer_datetime_format=True for consistent parsing.\n",
      "  df_cf[\"DT\"]=pd.to_datetime(df_cf[\"DT\"])\n",
      "C:\\Users\\Admin\\AppData\\Local\\Temp\\ipykernel_11764\\905396716.py:2: UserWarning: Parsing '31-03-2013' in DD/MM/YYYY format. Provide format or specify infer_datetime_format=True for consistent parsing.\n",
      "  df_cf[\"DT\"]=pd.to_datetime(df_cf[\"DT\"])\n",
      "C:\\Users\\Admin\\AppData\\Local\\Temp\\ipykernel_11764\\905396716.py:2: UserWarning: Parsing '30-06-2013' in DD/MM/YYYY format. Provide format or specify infer_datetime_format=True for consistent parsing.\n",
      "  df_cf[\"DT\"]=pd.to_datetime(df_cf[\"DT\"])\n",
      "C:\\Users\\Admin\\AppData\\Local\\Temp\\ipykernel_11764\\905396716.py:2: UserWarning: Parsing '30-09-2013' in DD/MM/YYYY format. Provide format or specify infer_datetime_format=True for consistent parsing.\n",
      "  df_cf[\"DT\"]=pd.to_datetime(df_cf[\"DT\"])\n",
      "C:\\Users\\Admin\\AppData\\Local\\Temp\\ipykernel_11764\\905396716.py:2: UserWarning: Parsing '31-12-2013' in DD/MM/YYYY format. Provide format or specify infer_datetime_format=True for consistent parsing.\n",
      "  df_cf[\"DT\"]=pd.to_datetime(df_cf[\"DT\"])\n",
      "C:\\Users\\Admin\\AppData\\Local\\Temp\\ipykernel_11764\\905396716.py:2: UserWarning: Parsing '31-03-2014' in DD/MM/YYYY format. Provide format or specify infer_datetime_format=True for consistent parsing.\n",
      "  df_cf[\"DT\"]=pd.to_datetime(df_cf[\"DT\"])\n",
      "C:\\Users\\Admin\\AppData\\Local\\Temp\\ipykernel_11764\\905396716.py:2: UserWarning: Parsing '30-06-2014' in DD/MM/YYYY format. Provide format or specify infer_datetime_format=True for consistent parsing.\n",
      "  df_cf[\"DT\"]=pd.to_datetime(df_cf[\"DT\"])\n",
      "C:\\Users\\Admin\\AppData\\Local\\Temp\\ipykernel_11764\\905396716.py:2: UserWarning: Parsing '30-09-2014' in DD/MM/YYYY format. Provide format or specify infer_datetime_format=True for consistent parsing.\n",
      "  df_cf[\"DT\"]=pd.to_datetime(df_cf[\"DT\"])\n",
      "C:\\Users\\Admin\\AppData\\Local\\Temp\\ipykernel_11764\\905396716.py:2: UserWarning: Parsing '31-12-2014' in DD/MM/YYYY format. Provide format or specify infer_datetime_format=True for consistent parsing.\n",
      "  df_cf[\"DT\"]=pd.to_datetime(df_cf[\"DT\"])\n",
      "C:\\Users\\Admin\\AppData\\Local\\Temp\\ipykernel_11764\\905396716.py:2: UserWarning: Parsing '31-03-2015' in DD/MM/YYYY format. Provide format or specify infer_datetime_format=True for consistent parsing.\n",
      "  df_cf[\"DT\"]=pd.to_datetime(df_cf[\"DT\"])\n",
      "C:\\Users\\Admin\\AppData\\Local\\Temp\\ipykernel_11764\\905396716.py:2: UserWarning: Parsing '30-06-2015' in DD/MM/YYYY format. Provide format or specify infer_datetime_format=True for consistent parsing.\n",
      "  df_cf[\"DT\"]=pd.to_datetime(df_cf[\"DT\"])\n",
      "C:\\Users\\Admin\\AppData\\Local\\Temp\\ipykernel_11764\\905396716.py:2: UserWarning: Parsing '30-09-2015' in DD/MM/YYYY format. Provide format or specify infer_datetime_format=True for consistent parsing.\n",
      "  df_cf[\"DT\"]=pd.to_datetime(df_cf[\"DT\"])\n",
      "C:\\Users\\Admin\\AppData\\Local\\Temp\\ipykernel_11764\\905396716.py:2: UserWarning: Parsing '31-12-2015' in DD/MM/YYYY format. Provide format or specify infer_datetime_format=True for consistent parsing.\n",
      "  df_cf[\"DT\"]=pd.to_datetime(df_cf[\"DT\"])\n",
      "C:\\Users\\Admin\\AppData\\Local\\Temp\\ipykernel_11764\\905396716.py:2: UserWarning: Parsing '31-03-2016' in DD/MM/YYYY format. Provide format or specify infer_datetime_format=True for consistent parsing.\n",
      "  df_cf[\"DT\"]=pd.to_datetime(df_cf[\"DT\"])\n",
      "C:\\Users\\Admin\\AppData\\Local\\Temp\\ipykernel_11764\\905396716.py:2: UserWarning: Parsing '30-06-2016' in DD/MM/YYYY format. Provide format or specify infer_datetime_format=True for consistent parsing.\n",
      "  df_cf[\"DT\"]=pd.to_datetime(df_cf[\"DT\"])\n",
      "C:\\Users\\Admin\\AppData\\Local\\Temp\\ipykernel_11764\\905396716.py:2: UserWarning: Parsing '30-09-2016' in DD/MM/YYYY format. Provide format or specify infer_datetime_format=True for consistent parsing.\n",
      "  df_cf[\"DT\"]=pd.to_datetime(df_cf[\"DT\"])\n",
      "C:\\Users\\Admin\\AppData\\Local\\Temp\\ipykernel_11764\\905396716.py:2: UserWarning: Parsing '31-12-2016' in DD/MM/YYYY format. Provide format or specify infer_datetime_format=True for consistent parsing.\n",
      "  df_cf[\"DT\"]=pd.to_datetime(df_cf[\"DT\"])\n",
      "C:\\Users\\Admin\\AppData\\Local\\Temp\\ipykernel_11764\\905396716.py:2: UserWarning: Parsing '31-03-2017' in DD/MM/YYYY format. Provide format or specify infer_datetime_format=True for consistent parsing.\n",
      "  df_cf[\"DT\"]=pd.to_datetime(df_cf[\"DT\"])\n",
      "C:\\Users\\Admin\\AppData\\Local\\Temp\\ipykernel_11764\\905396716.py:2: UserWarning: Parsing '30-06-2017' in DD/MM/YYYY format. Provide format or specify infer_datetime_format=True for consistent parsing.\n",
      "  df_cf[\"DT\"]=pd.to_datetime(df_cf[\"DT\"])\n",
      "C:\\Users\\Admin\\AppData\\Local\\Temp\\ipykernel_11764\\905396716.py:2: UserWarning: Parsing '30-09-2017' in DD/MM/YYYY format. Provide format or specify infer_datetime_format=True for consistent parsing.\n",
      "  df_cf[\"DT\"]=pd.to_datetime(df_cf[\"DT\"])\n",
      "C:\\Users\\Admin\\AppData\\Local\\Temp\\ipykernel_11764\\905396716.py:2: UserWarning: Parsing '31-12-2017' in DD/MM/YYYY format. Provide format or specify infer_datetime_format=True for consistent parsing.\n",
      "  df_cf[\"DT\"]=pd.to_datetime(df_cf[\"DT\"])\n",
      "C:\\Users\\Admin\\AppData\\Local\\Temp\\ipykernel_11764\\905396716.py:2: UserWarning: Parsing '31-03-2018' in DD/MM/YYYY format. Provide format or specify infer_datetime_format=True for consistent parsing.\n",
      "  df_cf[\"DT\"]=pd.to_datetime(df_cf[\"DT\"])\n",
      "C:\\Users\\Admin\\AppData\\Local\\Temp\\ipykernel_11764\\905396716.py:2: UserWarning: Parsing '30-06-2018' in DD/MM/YYYY format. Provide format or specify infer_datetime_format=True for consistent parsing.\n",
      "  df_cf[\"DT\"]=pd.to_datetime(df_cf[\"DT\"])\n",
      "C:\\Users\\Admin\\AppData\\Local\\Temp\\ipykernel_11764\\905396716.py:2: UserWarning: Parsing '30-09-2018' in DD/MM/YYYY format. Provide format or specify infer_datetime_format=True for consistent parsing.\n",
      "  df_cf[\"DT\"]=pd.to_datetime(df_cf[\"DT\"])\n",
      "C:\\Users\\Admin\\AppData\\Local\\Temp\\ipykernel_11764\\905396716.py:2: UserWarning: Parsing '31-12-2018' in DD/MM/YYYY format. Provide format or specify infer_datetime_format=True for consistent parsing.\n",
      "  df_cf[\"DT\"]=pd.to_datetime(df_cf[\"DT\"])\n",
      "C:\\Users\\Admin\\AppData\\Local\\Temp\\ipykernel_11764\\905396716.py:2: UserWarning: Parsing '31-03-2019' in DD/MM/YYYY format. Provide format or specify infer_datetime_format=True for consistent parsing.\n",
      "  df_cf[\"DT\"]=pd.to_datetime(df_cf[\"DT\"])\n",
      "C:\\Users\\Admin\\AppData\\Local\\Temp\\ipykernel_11764\\905396716.py:2: UserWarning: Parsing '30-06-2019' in DD/MM/YYYY format. Provide format or specify infer_datetime_format=True for consistent parsing.\n",
      "  df_cf[\"DT\"]=pd.to_datetime(df_cf[\"DT\"])\n",
      "C:\\Users\\Admin\\AppData\\Local\\Temp\\ipykernel_11764\\905396716.py:2: UserWarning: Parsing '30-09-2019' in DD/MM/YYYY format. Provide format or specify infer_datetime_format=True for consistent parsing.\n",
      "  df_cf[\"DT\"]=pd.to_datetime(df_cf[\"DT\"])\n",
      "C:\\Users\\Admin\\AppData\\Local\\Temp\\ipykernel_11764\\905396716.py:2: UserWarning: Parsing '31-12-2019' in DD/MM/YYYY format. Provide format or specify infer_datetime_format=True for consistent parsing.\n",
      "  df_cf[\"DT\"]=pd.to_datetime(df_cf[\"DT\"])\n",
      "C:\\Users\\Admin\\AppData\\Local\\Temp\\ipykernel_11764\\905396716.py:2: UserWarning: Parsing '31-03-2020' in DD/MM/YYYY format. Provide format or specify infer_datetime_format=True for consistent parsing.\n",
      "  df_cf[\"DT\"]=pd.to_datetime(df_cf[\"DT\"])\n",
      "C:\\Users\\Admin\\AppData\\Local\\Temp\\ipykernel_11764\\905396716.py:2: UserWarning: Parsing '30-06-2020' in DD/MM/YYYY format. Provide format or specify infer_datetime_format=True for consistent parsing.\n",
      "  df_cf[\"DT\"]=pd.to_datetime(df_cf[\"DT\"])\n",
      "C:\\Users\\Admin\\AppData\\Local\\Temp\\ipykernel_11764\\905396716.py:2: UserWarning: Parsing '30-09-2020' in DD/MM/YYYY format. Provide format or specify infer_datetime_format=True for consistent parsing.\n",
      "  df_cf[\"DT\"]=pd.to_datetime(df_cf[\"DT\"])\n",
      "C:\\Users\\Admin\\AppData\\Local\\Temp\\ipykernel_11764\\905396716.py:2: UserWarning: Parsing '31-12-2020' in DD/MM/YYYY format. Provide format or specify infer_datetime_format=True for consistent parsing.\n",
      "  df_cf[\"DT\"]=pd.to_datetime(df_cf[\"DT\"])\n",
      "C:\\Users\\Admin\\AppData\\Local\\Temp\\ipykernel_11764\\905396716.py:2: UserWarning: Parsing '31-03-2021' in DD/MM/YYYY format. Provide format or specify infer_datetime_format=True for consistent parsing.\n",
      "  df_cf[\"DT\"]=pd.to_datetime(df_cf[\"DT\"])\n",
      "C:\\Users\\Admin\\AppData\\Local\\Temp\\ipykernel_11764\\905396716.py:2: UserWarning: Parsing '30-06-2021' in DD/MM/YYYY format. Provide format or specify infer_datetime_format=True for consistent parsing.\n",
      "  df_cf[\"DT\"]=pd.to_datetime(df_cf[\"DT\"])\n",
      "C:\\Users\\Admin\\AppData\\Local\\Temp\\ipykernel_11764\\905396716.py:2: UserWarning: Parsing '30-09-2021' in DD/MM/YYYY format. Provide format or specify infer_datetime_format=True for consistent parsing.\n",
      "  df_cf[\"DT\"]=pd.to_datetime(df_cf[\"DT\"])\n",
      "C:\\Users\\Admin\\AppData\\Local\\Temp\\ipykernel_11764\\905396716.py:2: UserWarning: Parsing '31-12-2021' in DD/MM/YYYY format. Provide format or specify infer_datetime_format=True for consistent parsing.\n",
      "  df_cf[\"DT\"]=pd.to_datetime(df_cf[\"DT\"])\n",
      "C:\\Users\\Admin\\AppData\\Local\\Temp\\ipykernel_11764\\905396716.py:2: UserWarning: Parsing '31-03-2022' in DD/MM/YYYY format. Provide format or specify infer_datetime_format=True for consistent parsing.\n",
      "  df_cf[\"DT\"]=pd.to_datetime(df_cf[\"DT\"])\n",
      "C:\\Users\\Admin\\AppData\\Local\\Temp\\ipykernel_11764\\905396716.py:2: UserWarning: Parsing '30-06-2022' in DD/MM/YYYY format. Provide format or specify infer_datetime_format=True for consistent parsing.\n",
      "  df_cf[\"DT\"]=pd.to_datetime(df_cf[\"DT\"])\n"
     ]
    }
   ],
   "source": [
    "# changing dt data type to datetime format\n",
    "df_cf[\"DT\"]=pd.to_datetime(df_cf[\"DT\"])"
   ]
  },
  {
   "cell_type": "code",
   "execution_count": 8,
   "id": "112b6ccb",
   "metadata": {},
   "outputs": [],
   "source": [
    "#setting dt as the index\n",
    "df_cf.set_index(\"DT\",inplace=True)"
   ]
  },
  {
   "cell_type": "code",
   "execution_count": 9,
   "id": "b0442153",
   "metadata": {},
   "outputs": [],
   "source": [
    "del df_cf[\"Cash_Flow_from_Investing_Activities\"],df_cf[\"Cash Flow from Financial Activities\"],df_cf[\"Net Cash Flow\"]"
   ]
  },
  {
   "cell_type": "code",
   "execution_count": 10,
   "id": "ce16578e",
   "metadata": {},
   "outputs": [
    {
     "data": {
      "text/plain": [
       "<AxesSubplot:xlabel='DT'>"
      ]
     },
     "execution_count": 10,
     "metadata": {},
     "output_type": "execute_result"
    },
    {
     "data": {
      "image/png": "[encoded data removed]",
      "text/plain": [
       "<Figure size 432x288 with 1 Axes>"
      ]
     },
     "metadata": {
      "needs_background": "light"
     },
     "output_type": "display_data"
    }
   ],
   "source": [
    "df_cf['Cash Flow from Operating Activities'].plot()"
   ]
  },
  {
   "cell_type": "code",
   "execution_count": 11,
   "id": "110cb8e0",
   "metadata": {},
   "outputs": [],
   "source": [
    "from statsmodels.tsa.stattools import adfuller"
   ]
  },
  {
   "cell_type": "code",
   "execution_count": 12,
   "id": "8e424b67",
   "metadata": {},
   "outputs": [],
   "source": [
    "def adf_test(series):\n",
    "    result=adfuller(series)\n",
    "    print('ADF Statistics: {}'.format(result[0]))\n",
    "    print('p- value: {}'.format(result[1]))\n",
    "    if result[1] <= 0.05:\n",
    "        print(\"strong evidence against the null hypothesis, reject the null hypothesis. Data has no unit root and is stationary\")\n",
    "    else:\n",
    "        print(\"weak evidence against null hypothesis, time series has a unit root, indicating it is non-stationary \")"
   ]
  },
  {
   "cell_type": "code",
   "execution_count": 13,
   "id": "5d8b2ff3",
   "metadata": {},
   "outputs": [
    {
     "name": "stdout",
     "output_type": "stream",
     "text": [
      "ADF Statistics: -2.091072520754911\n",
      "p- value: 0.24811950550933165\n",
      "weak evidence against null hypothesis, time series has a unit root, indicating it is non-stationary \n"
     ]
    }
   ],
   "source": [
    "adf_test(df_cf['Cash Flow from Operating Activities'])"
   ]
  },
  {
   "cell_type": "code",
   "execution_count": 14,
   "id": "82a0fac1",
   "metadata": {},
   "outputs": [],
   "source": [
    "## Use Techniques Differencing\n",
    "df_cf['Cash Flow from Operating Activities1']=df_cf['Cash Flow from Operating Activities']-df_cf['Cash Flow from Operating Activities'].shift(1)"
   ]
  },
  {
   "cell_type": "code",
   "execution_count": 15,
   "id": "20b9b7b3",
   "metadata": {},
   "outputs": [
    {
     "data": {
      "text/html": [
       "<div>\n",
       "<style scoped>\n",
       "    .dataframe tbody tr th:only-of-type {\n",
       "        vertical-align: middle;\n",
       "    }\n",
       "\n",
       "    .dataframe tbody tr th {\n",
       "        vertical-align: top;\n",
       "    }\n",
       "\n",
       "    .dataframe thead th {\n",
       "        text-align: right;\n",
       "    }\n",
       "</style>\n",
       "<table border=\"1\" class=\"dataframe\">\n",
       "  <thead>\n",
       "    <tr style=\"text-align: right;\">\n",
       "      <th></th>\n",
       "      <th>Cash Flow from Operating Activities</th>\n",
       "      <th>Cash Flow from Operating Activities1</th>\n",
       "    </tr>\n",
       "    <tr>\n",
       "      <th>DT</th>\n",
       "      <th></th>\n",
       "      <th></th>\n",
       "    </tr>\n",
       "  </thead>\n",
       "  <tbody>\n",
       "    <tr>\n",
       "      <th>2009-03-31</th>\n",
       "      <td>3923.0</td>\n",
       "      <td>NaN</td>\n",
       "    </tr>\n",
       "    <tr>\n",
       "      <th>2009-06-30</th>\n",
       "      <td>623.0</td>\n",
       "      <td>-3300.0</td>\n",
       "    </tr>\n",
       "    <tr>\n",
       "      <th>2009-09-30</th>\n",
       "      <td>3394.0</td>\n",
       "      <td>2771.0</td>\n",
       "    </tr>\n",
       "    <tr>\n",
       "      <th>2009-12-31</th>\n",
       "      <td>3706.0</td>\n",
       "      <td>312.0</td>\n",
       "    </tr>\n",
       "    <tr>\n",
       "      <th>2010-03-31</th>\n",
       "      <td>3889.0</td>\n",
       "      <td>183.0</td>\n",
       "    </tr>\n",
       "  </tbody>\n",
       "</table>\n",
       "</div>"
      ],
      "text/plain": [
       "            Cash Flow from Operating Activities  \\\n",
       "DT                                                \n",
       "2009-03-31                               3923.0   \n",
       "2009-06-30                                623.0   \n",
       "2009-09-30                               3394.0   \n",
       "2009-12-31                               3706.0   \n",
       "2010-03-31                               3889.0   \n",
       "\n",
       "            Cash Flow from Operating Activities1  \n",
       "DT                                                \n",
       "2009-03-31                                   NaN  \n",
       "2009-06-30                               -3300.0  \n",
       "2009-09-30                                2771.0  \n",
       "2009-12-31                                 312.0  \n",
       "2010-03-31                                 183.0  "
      ]
     },
     "execution_count": 15,
     "metadata": {},
     "output_type": "execute_result"
    }
   ],
   "source": [
    "df_cf.head()"
   ]
  },
  {
   "cell_type": "code",
   "execution_count": 16,
   "id": "6dc76ecb",
   "metadata": {},
   "outputs": [
    {
     "name": "stdout",
     "output_type": "stream",
     "text": [
      "ADF Statistics: -4.569625504057866\n",
      "p- value: 0.00014688590110160571\n",
      "strong evidence against the null hypothesis, reject the null hypothesis. Data has no unit root and is stationary\n"
     ]
    }
   ],
   "source": [
    "adf_test(df_cf['Cash Flow from Operating Activities1'].dropna())"
   ]
  },
  {
   "cell_type": "code",
   "execution_count": 17,
   "id": "0af7add8",
   "metadata": {},
   "outputs": [],
   "source": [
    "from statsmodels.graphics.tsaplots import plot_acf,plot_pacf"
   ]
  },
  {
   "cell_type": "code",
   "execution_count": 18,
   "id": "a15dfd78",
   "metadata": {},
   "outputs": [
    {
     "data": {
      "image/png": "[encoded data removed]",
      "text/plain": [
       "<Figure size 432x288 with 1 Axes>"
      ]
     },
     "metadata": {
      "needs_background": "light"
     },
     "output_type": "display_data"
    }
   ],
   "source": [
    "acf = plot_acf(df_cf[\"Cash Flow from Operating Activities1\"].dropna())"
   ]
  },
  {
   "cell_type": "code",
   "execution_count": 19,
   "id": "1dc77a46",
   "metadata": {},
   "outputs": [
    {
     "name": "stderr",
     "output_type": "stream",
     "text": [
      "C:\\Users\\Admin\\anaconda3\\lib\\site-packages\\statsmodels\\graphics\\tsaplots.py:348: FutureWarning: The default method 'yw' can produce PACF values outside of the [-1,1] interval. After 0.13, the default will change tounadjusted Yule-Walker ('ywm'). You can use this method now by setting method='ywm'.\n",
      "  warnings.warn(\n"
     ]
    },
    {
     "data": {
      "image/png": "[encoded data removed]",
      "text/plain": [
       "<Figure size 432x288 with 1 Axes>"
      ]
     },
     "metadata": {
      "needs_background": "light"
     },
     "output_type": "display_data"
    }
   ],
   "source": [
    "pacf12 = plot_pacf(df_cf[\"Cash Flow from Operating Activities1\"].dropna())"
   ]
  },
  {
   "cell_type": "code",
   "execution_count": 20,
   "id": "ae360b92",
   "metadata": {},
   "outputs": [],
   "source": [
    "from datetime import datetime,timedelta\n",
    "train_dataset_end=datetime(2019,12,31)\n",
    "test_dataset_end=datetime(2022,6,30)"
   ]
  },
  {
   "cell_type": "code",
   "execution_count": 21,
   "id": "e3eb5f4d",
   "metadata": {},
   "outputs": [],
   "source": [
    "train_data=df_cf[:train_dataset_end]\n",
    "test_data=df_cf[train_dataset_end+timedelta(days=1):test_dataset_end]"
   ]
  },
  {
   "cell_type": "code",
   "execution_count": 22,
   "id": "b74c5226",
   "metadata": {},
   "outputs": [],
   "source": [
    "##prediction\n",
    "pred_start_date=test_data.index[0]\n",
    "pred_end_date=test_data.index[-1]"
   ]
  },
  {
   "cell_type": "code",
   "execution_count": 23,
   "id": "750c6af1",
   "metadata": {},
   "outputs": [
    {
     "data": {
      "text/html": [
       "<div>\n",
       "<style scoped>\n",
       "    .dataframe tbody tr th:only-of-type {\n",
       "        vertical-align: middle;\n",
       "    }\n",
       "\n",
       "    .dataframe tbody tr th {\n",
       "        vertical-align: top;\n",
       "    }\n",
       "\n",
       "    .dataframe thead th {\n",
       "        text-align: right;\n",
       "    }\n",
       "</style>\n",
       "<table border=\"1\" class=\"dataframe\">\n",
       "  <thead>\n",
       "    <tr style=\"text-align: right;\">\n",
       "      <th></th>\n",
       "      <th>Cash Flow from Operating Activities</th>\n",
       "      <th>Cash Flow from Operating Activities1</th>\n",
       "    </tr>\n",
       "    <tr>\n",
       "      <th>DT</th>\n",
       "      <th></th>\n",
       "      <th></th>\n",
       "    </tr>\n",
       "  </thead>\n",
       "  <tbody>\n",
       "    <tr>\n",
       "      <th>2020-03-31</th>\n",
       "      <td>3184.0</td>\n",
       "      <td>26.0</td>\n",
       "    </tr>\n",
       "    <tr>\n",
       "      <th>2020-06-30</th>\n",
       "      <td>458.0</td>\n",
       "      <td>-2726.0</td>\n",
       "    </tr>\n",
       "    <tr>\n",
       "      <th>2020-09-30</th>\n",
       "      <td>2308.0</td>\n",
       "      <td>1850.0</td>\n",
       "    </tr>\n",
       "    <tr>\n",
       "      <th>2020-12-31</th>\n",
       "      <td>2914.0</td>\n",
       "      <td>606.0</td>\n",
       "    </tr>\n",
       "    <tr>\n",
       "      <th>2021-03-31</th>\n",
       "      <td>2984.0</td>\n",
       "      <td>70.0</td>\n",
       "    </tr>\n",
       "    <tr>\n",
       "      <th>2021-06-30</th>\n",
       "      <td>1326.0</td>\n",
       "      <td>-1658.0</td>\n",
       "    </tr>\n",
       "    <tr>\n",
       "      <th>2021-09-30</th>\n",
       "      <td>1916.0</td>\n",
       "      <td>590.0</td>\n",
       "    </tr>\n",
       "    <tr>\n",
       "      <th>2021-12-31</th>\n",
       "      <td>2608.0</td>\n",
       "      <td>692.0</td>\n",
       "    </tr>\n",
       "    <tr>\n",
       "      <th>2022-03-31</th>\n",
       "      <td>2789.0</td>\n",
       "      <td>181.0</td>\n",
       "    </tr>\n",
       "    <tr>\n",
       "      <th>2022-06-30</th>\n",
       "      <td>873.0</td>\n",
       "      <td>-1916.0</td>\n",
       "    </tr>\n",
       "  </tbody>\n",
       "</table>\n",
       "</div>"
      ],
      "text/plain": [
       "            Cash Flow from Operating Activities  \\\n",
       "DT                                                \n",
       "2020-03-31                               3184.0   \n",
       "2020-06-30                                458.0   \n",
       "2020-09-30                               2308.0   \n",
       "2020-12-31                               2914.0   \n",
       "2021-03-31                               2984.0   \n",
       "2021-06-30                               1326.0   \n",
       "2021-09-30                               1916.0   \n",
       "2021-12-31                               2608.0   \n",
       "2022-03-31                               2789.0   \n",
       "2022-06-30                                873.0   \n",
       "\n",
       "            Cash Flow from Operating Activities1  \n",
       "DT                                                \n",
       "2020-03-31                                  26.0  \n",
       "2020-06-30                               -2726.0  \n",
       "2020-09-30                                1850.0  \n",
       "2020-12-31                                 606.0  \n",
       "2021-03-31                                  70.0  \n",
       "2021-06-30                               -1658.0  \n",
       "2021-09-30                                 590.0  \n",
       "2021-12-31                                 692.0  \n",
       "2022-03-31                                 181.0  \n",
       "2022-06-30                               -1916.0  "
      ]
     },
     "execution_count": 23,
     "metadata": {},
     "output_type": "execute_result"
    }
   ],
   "source": [
    "test_data"
   ]
  },
  {
   "cell_type": "code",
   "execution_count": 24,
   "id": "61aaa492",
   "metadata": {},
   "outputs": [],
   "source": [
    "## create a ARIMA model\n",
    "from statsmodels.tsa.arima.model import ARIMA"
   ]
  },
  {
   "cell_type": "code",
   "execution_count": 25,
   "id": "47e1e274",
   "metadata": {},
   "outputs": [
    {
     "name": "stderr",
     "output_type": "stream",
     "text": [
      "C:\\Users\\Admin\\anaconda3\\lib\\site-packages\\statsmodels\\tsa\\base\\tsa_model.py:471: ValueWarning: No frequency information was provided, so inferred frequency Q-DEC will be used.\n",
      "  self._init_dates(dates, freq)\n",
      "C:\\Users\\Admin\\anaconda3\\lib\\site-packages\\statsmodels\\tsa\\base\\tsa_model.py:471: ValueWarning: No frequency information was provided, so inferred frequency Q-DEC will be used.\n",
      "  self._init_dates(dates, freq)\n",
      "C:\\Users\\Admin\\anaconda3\\lib\\site-packages\\statsmodels\\tsa\\base\\tsa_model.py:471: ValueWarning: No frequency information was provided, so inferred frequency Q-DEC will be used.\n",
      "  self._init_dates(dates, freq)\n"
     ]
    }
   ],
   "source": [
    "model_ARIMA=ARIMA(train_data['Cash Flow from Operating Activities1'],order=(7,1,1))"
   ]
  },
  {
   "cell_type": "code",
   "execution_count": 26,
   "id": "8a47ee21",
   "metadata": {},
   "outputs": [
    {
     "name": "stderr",
     "output_type": "stream",
     "text": [
      "C:\\Users\\Admin\\anaconda3\\lib\\site-packages\\statsmodels\\tsa\\statespace\\sarimax.py:966: UserWarning: Non-stationary starting autoregressive parameters found. Using zeros as starting parameters.\n",
      "  warn('Non-stationary starting autoregressive parameters'\n",
      "C:\\Users\\Admin\\anaconda3\\lib\\site-packages\\statsmodels\\tsa\\statespace\\sarimax.py:978: UserWarning: Non-invertible starting MA parameters found. Using zeros as starting parameters.\n",
      "  warn('Non-invertible starting MA parameters found.'\n",
      "C:\\Users\\Admin\\anaconda3\\lib\\site-packages\\statsmodels\\base\\model.py:604: ConvergenceWarning: Maximum Likelihood optimization failed to converge. Check mle_retvals\n",
      "  warnings.warn(\"Maximum Likelihood optimization failed to \"\n"
     ]
    }
   ],
   "source": [
    "model_Arima_fit=model_ARIMA.fit()"
   ]
  },
  {
   "cell_type": "code",
   "execution_count": 27,
   "id": "2d248dad",
   "metadata": {
    "scrolled": true
   },
   "outputs": [
    {
     "data": {
      "text/html": [
       "<table class=\"simpletable\">\n",
       "<caption>SARIMAX Results</caption>\n",
       "<tr>\n",
       "  <th>Dep. Variable:</th>   <td>Cash Flow from Operating Activities1</td> <th>  No. Observations:  </th>    <td>44</td>   \n",
       "</tr>\n",
       "<tr>\n",
       "  <th>Model:</th>                      <td>ARIMA(7, 1, 1)</td>            <th>  Log Likelihood     </th> <td>-335.989</td>\n",
       "</tr>\n",
       "<tr>\n",
       "  <th>Date:</th>                      <td>Tue, 27 Sep 2022</td>           <th>  AIC                </th>  <td>689.979</td>\n",
       "</tr>\n",
       "<tr>\n",
       "  <th>Time:</th>                          <td>15:56:41</td>               <th>  BIC                </th>  <td>705.830</td>\n",
       "</tr>\n",
       "<tr>\n",
       "  <th>Sample:</th>                       <td>03-31-2009</td>              <th>  HQIC               </th>  <td>695.824</td>\n",
       "</tr>\n",
       "<tr>\n",
       "  <th></th>                             <td>- 12-31-2019</td>             <th>                     </th>     <td> </td>   \n",
       "</tr>\n",
       "<tr>\n",
       "  <th>Covariance Type:</th>                  <td>opg</td>                 <th>                     </th>     <td> </td>   \n",
       "</tr>\n",
       "</table>\n",
       "<table class=\"simpletable\">\n",
       "<tr>\n",
       "     <td></td>       <th>coef</th>     <th>std err</th>      <th>z</th>      <th>P>|z|</th>  <th>[0.025</th>    <th>0.975]</th>  \n",
       "</tr>\n",
       "<tr>\n",
       "  <th>ar.L1</th>  <td>   -1.0655</td> <td>    0.235</td> <td>   -4.527</td> <td> 0.000</td> <td>   -1.527</td> <td>   -0.604</td>\n",
       "</tr>\n",
       "<tr>\n",
       "  <th>ar.L2</th>  <td>   -1.0619</td> <td>    0.288</td> <td>   -3.685</td> <td> 0.000</td> <td>   -1.627</td> <td>   -0.497</td>\n",
       "</tr>\n",
       "<tr>\n",
       "  <th>ar.L3</th>  <td>   -1.3958</td> <td>    0.346</td> <td>   -4.032</td> <td> 0.000</td> <td>   -2.074</td> <td>   -0.717</td>\n",
       "</tr>\n",
       "<tr>\n",
       "  <th>ar.L4</th>  <td>   -0.9771</td> <td>    0.452</td> <td>   -2.161</td> <td> 0.031</td> <td>   -1.863</td> <td>   -0.091</td>\n",
       "</tr>\n",
       "<tr>\n",
       "  <th>ar.L5</th>  <td>   -0.8816</td> <td>    0.242</td> <td>   -3.637</td> <td> 0.000</td> <td>   -1.357</td> <td>   -0.406</td>\n",
       "</tr>\n",
       "<tr>\n",
       "  <th>ar.L6</th>  <td>   -0.8901</td> <td>    0.193</td> <td>   -4.615</td> <td> 0.000</td> <td>   -1.268</td> <td>   -0.512</td>\n",
       "</tr>\n",
       "<tr>\n",
       "  <th>ar.L7</th>  <td>   -0.5599</td> <td>    0.147</td> <td>   -3.819</td> <td> 0.000</td> <td>   -0.847</td> <td>   -0.273</td>\n",
       "</tr>\n",
       "<tr>\n",
       "  <th>ma.L1</th>  <td>   -0.4771</td> <td>    0.209</td> <td>   -2.280</td> <td> 0.023</td> <td>   -0.887</td> <td>   -0.067</td>\n",
       "</tr>\n",
       "<tr>\n",
       "  <th>sigma2</th> <td> 2.475e+05</td> <td> 7.23e+04</td> <td>    3.422</td> <td> 0.001</td> <td> 1.06e+05</td> <td> 3.89e+05</td>\n",
       "</tr>\n",
       "</table>\n",
       "<table class=\"simpletable\">\n",
       "<tr>\n",
       "  <th>Ljung-Box (L1) (Q):</th>     <td>0.05</td> <th>  Jarque-Bera (JB):  </th> <td>0.89</td>\n",
       "</tr>\n",
       "<tr>\n",
       "  <th>Prob(Q):</th>                <td>0.82</td> <th>  Prob(JB):          </th> <td>0.64</td>\n",
       "</tr>\n",
       "<tr>\n",
       "  <th>Heteroskedasticity (H):</th> <td>0.48</td> <th>  Skew:              </th> <td>0.15</td>\n",
       "</tr>\n",
       "<tr>\n",
       "  <th>Prob(H) (two-sided):</th>    <td>0.19</td> <th>  Kurtosis:          </th> <td>2.36</td>\n",
       "</tr>\n",
       "</table><br/><br/>Warnings:<br/>[1] Covariance matrix calculated using the outer product of gradients (complex-step)."
      ],
      "text/plain": [
       "<class 'statsmodels.iolib.summary.Summary'>\n",
       "\"\"\"\n",
       "                                        SARIMAX Results                                         \n",
       "================================================================================================\n",
       "Dep. Variable:     Cash Flow from Operating Activities1   No. Observations:                   44\n",
       "Model:                                   ARIMA(7, 1, 1)   Log Likelihood                -335.989\n",
       "Date:                                  Tue, 27 Sep 2022   AIC                            689.979\n",
       "Time:                                          15:56:41   BIC                            705.830\n",
       "Sample:                                      03-31-2009   HQIC                           695.824\n",
       "                                           - 12-31-2019                                         \n",
       "Covariance Type:                                    opg                                         \n",
       "==============================================================================\n",
       "                 coef    std err          z      P>|z|      [0.025      0.975]\n",
       "------------------------------------------------------------------------------\n",
       "ar.L1         -1.0655      0.235     -4.527      0.000      -1.527      -0.604\n",
       "ar.L2         -1.0619      0.288     -3.685      0.000      -1.627      -0.497\n",
       "ar.L3         -1.3958      0.346     -4.032      0.000      -2.074      -0.717\n",
       "ar.L4         -0.9771      0.452     -2.161      0.031      -1.863      -0.091\n",
       "ar.L5         -0.8816      0.242     -3.637      0.000      -1.357      -0.406\n",
       "ar.L6         -0.8901      0.193     -4.615      0.000      -1.268      -0.512\n",
       "ar.L7         -0.5599      0.147     -3.819      0.000      -0.847      -0.273\n",
       "ma.L1         -0.4771      0.209     -2.280      0.023      -0.887      -0.067\n",
       "sigma2      2.475e+05   7.23e+04      3.422      0.001    1.06e+05    3.89e+05\n",
       "===================================================================================\n",
       "Ljung-Box (L1) (Q):                   0.05   Jarque-Bera (JB):                 0.89\n",
       "Prob(Q):                              0.82   Prob(JB):                         0.64\n",
       "Heteroskedasticity (H):               0.48   Skew:                             0.15\n",
       "Prob(H) (two-sided):                  0.19   Kurtosis:                         2.36\n",
       "===================================================================================\n",
       "\n",
       "Warnings:\n",
       "[1] Covariance matrix calculated using the outer product of gradients (complex-step).\n",
       "\"\"\""
      ]
     },
     "execution_count": 27,
     "metadata": {},
     "output_type": "execute_result"
    }
   ],
   "source": [
    "model_Arima_fit.summary()"
   ]
  },
  {
   "cell_type": "code",
   "execution_count": 28,
   "id": "8b0d6df4",
   "metadata": {},
   "outputs": [
    {
     "name": "stdout",
     "output_type": "stream",
     "text": [
      "2020-03-31 00:00:00\n",
      "2022-06-30 00:00:00\n"
     ]
    }
   ],
   "source": [
    "##prediction\n",
    "pred_start_date=test_data.index[0]\n",
    "pred_end_date=test_data.index[-1]\n",
    "print(pred_start_date)\n",
    "print(pred_end_date)"
   ]
  },
  {
   "cell_type": "code",
   "execution_count": 29,
   "id": "4a44ffea",
   "metadata": {},
   "outputs": [],
   "source": [
    "pred=model_Arima_fit.predict(start=pred_start_date,end=pred_end_date)\n",
    "residuals=test_data['Cash Flow from Operating Activities1']-pred"
   ]
  },
  {
   "cell_type": "code",
   "execution_count": 30,
   "id": "64203025",
   "metadata": {},
   "outputs": [
    {
     "data": {
      "text/plain": [
       "2020-03-31     131.890682\n",
       "2020-06-30   -2988.522919\n",
       "2020-09-30    2229.006487\n",
       "2020-12-31     724.586267\n",
       "2021-03-31       0.430082\n",
       "2021-06-30   -3052.000333\n",
       "2021-09-30    1986.072169\n",
       "2021-12-31     714.880196\n",
       "2022-03-31     117.042450\n",
       "2022-06-30   -2889.955754\n",
       "Freq: Q-DEC, Name: predicted_mean, dtype: float64"
      ]
     },
     "execution_count": 30,
     "metadata": {},
     "output_type": "execute_result"
    }
   ],
   "source": [
    "pred"
   ]
  },
  {
   "cell_type": "code",
   "execution_count": 31,
   "id": "123c76a7",
   "metadata": {},
   "outputs": [
    {
     "data": {
      "text/plain": [
       "DT\n",
       "2020-03-31    -105.890682\n",
       "2020-06-30     262.522919\n",
       "2020-09-30    -379.006487\n",
       "2020-12-31    -118.586267\n",
       "2021-03-31      69.569918\n",
       "2021-06-30    1394.000333\n",
       "2021-09-30   -1396.072169\n",
       "2021-12-31     -22.880196\n",
       "2022-03-31      63.957550\n",
       "2022-06-30     973.955754\n",
       "dtype: float64"
      ]
     },
     "execution_count": 31,
     "metadata": {},
     "output_type": "execute_result"
    }
   ],
   "source": [
    "residuals"
   ]
  },
  {
   "cell_type": "code",
   "execution_count": 32,
   "id": "b0d66cd9",
   "metadata": {},
   "outputs": [
    {
     "data": {
      "text/plain": [
       "<AxesSubplot:ylabel='Density'>"
      ]
     },
     "execution_count": 32,
     "metadata": {},
     "output_type": "execute_result"
    },
    {
     "data": {
      "image/png": "[encoded data removed]",
      "text/plain": [
       "<Figure size 432x288 with 1 Axes>"
      ]
     },
     "metadata": {
      "needs_background": "light"
     },
     "output_type": "display_data"
    }
   ],
   "source": [
    "model_Arima_fit.resid.plot(kind='kde')"
   ]
  },
  {
   "cell_type": "code",
   "execution_count": 33,
   "id": "7540708f",
   "metadata": {},
   "outputs": [
    {
     "name": "stderr",
     "output_type": "stream",
     "text": [
      "C:\\Users\\Admin\\AppData\\Local\\Temp\\ipykernel_11764\\95659616.py:1: SettingWithCopyWarning: \n",
      "A value is trying to be set on a copy of a slice from a DataFrame.\n",
      "Try using .loc[row_indexer,col_indexer] = value instead\n",
      "\n",
      "See the caveats in the documentation: https://pandas.pydata.org/pandas-docs/stable/user_guide/indexing.html#returning-a-view-versus-a-copy\n",
      "  test_data['Predicted_ARIMA']=pred\n"
     ]
    }
   ],
   "source": [
    "test_data['Predicted_ARIMA']=pred"
   ]
  },
  {
   "cell_type": "code",
   "execution_count": 34,
   "id": "e26d7117",
   "metadata": {
    "scrolled": true
   },
   "outputs": [
    {
     "data": {
      "text/plain": [
       "<AxesSubplot:xlabel='DT'>"
      ]
     },
     "execution_count": 34,
     "metadata": {},
     "output_type": "execute_result"
    },
    {
     "data": {
      "image/png": "[encoded data removed]",
      "text/plain": [
       "<Figure size 1080x360 with 1 Axes>"
      ]
     },
     "metadata": {
      "needs_background": "light"
     },
     "output_type": "display_data"
    }
   ],
   "source": [
    "test_data[['Cash Flow from Operating Activities1','Predicted_ARIMA']].plot(figsize=(15,5))"
   ]
  },
  {
   "cell_type": "code",
   "execution_count": 35,
   "id": "1de8ed67",
   "metadata": {},
   "outputs": [
    {
     "data": {
      "text/html": [
       "<div>\n",
       "<style scoped>\n",
       "    .dataframe tbody tr th:only-of-type {\n",
       "        vertical-align: middle;\n",
       "    }\n",
       "\n",
       "    .dataframe tbody tr th {\n",
       "        vertical-align: top;\n",
       "    }\n",
       "\n",
       "    .dataframe thead th {\n",
       "        text-align: right;\n",
       "    }\n",
       "</style>\n",
       "<table border=\"1\" class=\"dataframe\">\n",
       "  <thead>\n",
       "    <tr style=\"text-align: right;\">\n",
       "      <th></th>\n",
       "      <th>Cash Flow from Operating Activities</th>\n",
       "      <th>Cash Flow from Operating Activities1</th>\n",
       "      <th>Predicted_ARIMA</th>\n",
       "    </tr>\n",
       "    <tr>\n",
       "      <th>DT</th>\n",
       "      <th></th>\n",
       "      <th></th>\n",
       "      <th></th>\n",
       "    </tr>\n",
       "  </thead>\n",
       "  <tbody>\n",
       "    <tr>\n",
       "      <th>2020-03-31</th>\n",
       "      <td>3184.0</td>\n",
       "      <td>26.0</td>\n",
       "      <td>131.890682</td>\n",
       "    </tr>\n",
       "    <tr>\n",
       "      <th>2020-06-30</th>\n",
       "      <td>458.0</td>\n",
       "      <td>-2726.0</td>\n",
       "      <td>-2988.522919</td>\n",
       "    </tr>\n",
       "    <tr>\n",
       "      <th>2020-09-30</th>\n",
       "      <td>2308.0</td>\n",
       "      <td>1850.0</td>\n",
       "      <td>2229.006487</td>\n",
       "    </tr>\n",
       "    <tr>\n",
       "      <th>2020-12-31</th>\n",
       "      <td>2914.0</td>\n",
       "      <td>606.0</td>\n",
       "      <td>724.586267</td>\n",
       "    </tr>\n",
       "    <tr>\n",
       "      <th>2021-03-31</th>\n",
       "      <td>2984.0</td>\n",
       "      <td>70.0</td>\n",
       "      <td>0.430082</td>\n",
       "    </tr>\n",
       "    <tr>\n",
       "      <th>2021-06-30</th>\n",
       "      <td>1326.0</td>\n",
       "      <td>-1658.0</td>\n",
       "      <td>-3052.000333</td>\n",
       "    </tr>\n",
       "    <tr>\n",
       "      <th>2021-09-30</th>\n",
       "      <td>1916.0</td>\n",
       "      <td>590.0</td>\n",
       "      <td>1986.072169</td>\n",
       "    </tr>\n",
       "    <tr>\n",
       "      <th>2021-12-31</th>\n",
       "      <td>2608.0</td>\n",
       "      <td>692.0</td>\n",
       "      <td>714.880196</td>\n",
       "    </tr>\n",
       "    <tr>\n",
       "      <th>2022-03-31</th>\n",
       "      <td>2789.0</td>\n",
       "      <td>181.0</td>\n",
       "      <td>117.042450</td>\n",
       "    </tr>\n",
       "    <tr>\n",
       "      <th>2022-06-30</th>\n",
       "      <td>873.0</td>\n",
       "      <td>-1916.0</td>\n",
       "      <td>-2889.955754</td>\n",
       "    </tr>\n",
       "  </tbody>\n",
       "</table>\n",
       "</div>"
      ],
      "text/plain": [
       "            Cash Flow from Operating Activities  \\\n",
       "DT                                                \n",
       "2020-03-31                               3184.0   \n",
       "2020-06-30                                458.0   \n",
       "2020-09-30                               2308.0   \n",
       "2020-12-31                               2914.0   \n",
       "2021-03-31                               2984.0   \n",
       "2021-06-30                               1326.0   \n",
       "2021-09-30                               1916.0   \n",
       "2021-12-31                               2608.0   \n",
       "2022-03-31                               2789.0   \n",
       "2022-06-30                                873.0   \n",
       "\n",
       "            Cash Flow from Operating Activities1  Predicted_ARIMA  \n",
       "DT                                                                 \n",
       "2020-03-31                                  26.0       131.890682  \n",
       "2020-06-30                               -2726.0     -2988.522919  \n",
       "2020-09-30                                1850.0      2229.006487  \n",
       "2020-12-31                                 606.0       724.586267  \n",
       "2021-03-31                                  70.0         0.430082  \n",
       "2021-06-30                               -1658.0     -3052.000333  \n",
       "2021-09-30                                 590.0      1986.072169  \n",
       "2021-12-31                                 692.0       714.880196  \n",
       "2022-03-31                                 181.0       117.042450  \n",
       "2022-06-30                               -1916.0     -2889.955754  "
      ]
     },
     "execution_count": 35,
     "metadata": {},
     "output_type": "execute_result"
    }
   ],
   "source": [
    "test_data"
   ]
  },
  {
   "cell_type": "code",
   "execution_count": 36,
   "id": "22860da8",
   "metadata": {},
   "outputs": [
    {
     "data": {
      "text/plain": [
       "<AxesSubplot:xlabel='DT'>"
      ]
     },
     "execution_count": 36,
     "metadata": {},
     "output_type": "execute_result"
    },
    {
     "data": {
      "image/png": "[encoded data removed]",
      "text/plain": [
       "<Figure size 1080x360 with 1 Axes>"
      ]
     },
     "metadata": {
      "needs_background": "light"
     },
     "output_type": "display_data"
    }
   ],
   "source": [
    "test_data[['Cash Flow from Operating Activities1','Predicted_ARIMA']].plot.bar(figsize=(15,5))"
   ]
  },
  {
   "cell_type": "code",
   "execution_count": 37,
   "id": "c58aabdc",
   "metadata": {},
   "outputs": [],
   "source": [
    "from pandas.tseries.offsets import DateOffset\n",
    "future_dates=[test_data.index[-1]+ DateOffset(months=x)for x in range(0,24)]"
   ]
  },
  {
   "cell_type": "code",
   "execution_count": 38,
   "id": "65a39c41",
   "metadata": {},
   "outputs": [
    {
     "data": {
      "text/plain": [
       "[Timestamp('2022-06-30 00:00:00'),\n",
       " Timestamp('2022-07-30 00:00:00'),\n",
       " Timestamp('2022-08-30 00:00:00'),\n",
       " Timestamp('2022-09-30 00:00:00'),\n",
       " Timestamp('2022-10-30 00:00:00'),\n",
       " Timestamp('2022-11-30 00:00:00'),\n",
       " Timestamp('2022-12-30 00:00:00'),\n",
       " Timestamp('2023-01-30 00:00:00'),\n",
       " Timestamp('2023-02-28 00:00:00'),\n",
       " Timestamp('2023-03-30 00:00:00'),\n",
       " Timestamp('2023-04-30 00:00:00'),\n",
       " Timestamp('2023-05-30 00:00:00'),\n",
       " Timestamp('2023-06-30 00:00:00'),\n",
       " Timestamp('2023-07-30 00:00:00'),\n",
       " Timestamp('2023-08-30 00:00:00'),\n",
       " Timestamp('2023-09-30 00:00:00'),\n",
       " Timestamp('2023-10-30 00:00:00'),\n",
       " Timestamp('2023-11-30 00:00:00'),\n",
       " Timestamp('2023-12-30 00:00:00'),\n",
       " Timestamp('2024-01-30 00:00:00'),\n",
       " Timestamp('2024-02-29 00:00:00'),\n",
       " Timestamp('2024-03-30 00:00:00'),\n",
       " Timestamp('2024-04-30 00:00:00'),\n",
       " Timestamp('2024-05-30 00:00:00')]"
      ]
     },
     "execution_count": 38,
     "metadata": {},
     "output_type": "execute_result"
    }
   ],
   "source": [
    "future_dates"
   ]
  },
  {
   "cell_type": "code",
   "execution_count": 39,
   "id": "2d8a4389",
   "metadata": {},
   "outputs": [],
   "source": [
    "future_datest_df=pd.DataFrame(index=future_dates[1:],columns=test_data.columns)"
   ]
  },
  {
   "cell_type": "code",
   "execution_count": 40,
   "id": "7c9fa7ad",
   "metadata": {},
   "outputs": [
    {
     "data": {
      "text/html": [
       "<div>\n",
       "<style scoped>\n",
       "    .dataframe tbody tr th:only-of-type {\n",
       "        vertical-align: middle;\n",
       "    }\n",
       "\n",
       "    .dataframe tbody tr th {\n",
       "        vertical-align: top;\n",
       "    }\n",
       "\n",
       "    .dataframe thead th {\n",
       "        text-align: right;\n",
       "    }\n",
       "</style>\n",
       "<table border=\"1\" class=\"dataframe\">\n",
       "  <thead>\n",
       "    <tr style=\"text-align: right;\">\n",
       "      <th></th>\n",
       "      <th>Cash Flow from Operating Activities</th>\n",
       "      <th>Cash Flow from Operating Activities1</th>\n",
       "      <th>Predicted_ARIMA</th>\n",
       "    </tr>\n",
       "  </thead>\n",
       "  <tbody>\n",
       "    <tr>\n",
       "      <th>2022-07-30</th>\n",
       "      <td>NaN</td>\n",
       "      <td>NaN</td>\n",
       "      <td>NaN</td>\n",
       "    </tr>\n",
       "    <tr>\n",
       "      <th>2022-08-30</th>\n",
       "      <td>NaN</td>\n",
       "      <td>NaN</td>\n",
       "      <td>NaN</td>\n",
       "    </tr>\n",
       "    <tr>\n",
       "      <th>2022-09-30</th>\n",
       "      <td>NaN</td>\n",
       "      <td>NaN</td>\n",
       "      <td>NaN</td>\n",
       "    </tr>\n",
       "    <tr>\n",
       "      <th>2022-10-30</th>\n",
       "      <td>NaN</td>\n",
       "      <td>NaN</td>\n",
       "      <td>NaN</td>\n",
       "    </tr>\n",
       "    <tr>\n",
       "      <th>2022-11-30</th>\n",
       "      <td>NaN</td>\n",
       "      <td>NaN</td>\n",
       "      <td>NaN</td>\n",
       "    </tr>\n",
       "    <tr>\n",
       "      <th>2022-12-30</th>\n",
       "      <td>NaN</td>\n",
       "      <td>NaN</td>\n",
       "      <td>NaN</td>\n",
       "    </tr>\n",
       "    <tr>\n",
       "      <th>2023-01-30</th>\n",
       "      <td>NaN</td>\n",
       "      <td>NaN</td>\n",
       "      <td>NaN</td>\n",
       "    </tr>\n",
       "    <tr>\n",
       "      <th>2023-02-28</th>\n",
       "      <td>NaN</td>\n",
       "      <td>NaN</td>\n",
       "      <td>NaN</td>\n",
       "    </tr>\n",
       "    <tr>\n",
       "      <th>2023-03-30</th>\n",
       "      <td>NaN</td>\n",
       "      <td>NaN</td>\n",
       "      <td>NaN</td>\n",
       "    </tr>\n",
       "    <tr>\n",
       "      <th>2023-04-30</th>\n",
       "      <td>NaN</td>\n",
       "      <td>NaN</td>\n",
       "      <td>NaN</td>\n",
       "    </tr>\n",
       "    <tr>\n",
       "      <th>2023-05-30</th>\n",
       "      <td>NaN</td>\n",
       "      <td>NaN</td>\n",
       "      <td>NaN</td>\n",
       "    </tr>\n",
       "    <tr>\n",
       "      <th>2023-06-30</th>\n",
       "      <td>NaN</td>\n",
       "      <td>NaN</td>\n",
       "      <td>NaN</td>\n",
       "    </tr>\n",
       "    <tr>\n",
       "      <th>2023-07-30</th>\n",
       "      <td>NaN</td>\n",
       "      <td>NaN</td>\n",
       "      <td>NaN</td>\n",
       "    </tr>\n",
       "    <tr>\n",
       "      <th>2023-08-30</th>\n",
       "      <td>NaN</td>\n",
       "      <td>NaN</td>\n",
       "      <td>NaN</td>\n",
       "    </tr>\n",
       "    <tr>\n",
       "      <th>2023-09-30</th>\n",
       "      <td>NaN</td>\n",
       "      <td>NaN</td>\n",
       "      <td>NaN</td>\n",
       "    </tr>\n",
       "    <tr>\n",
       "      <th>2023-10-30</th>\n",
       "      <td>NaN</td>\n",
       "      <td>NaN</td>\n",
       "      <td>NaN</td>\n",
       "    </tr>\n",
       "    <tr>\n",
       "      <th>2023-11-30</th>\n",
       "      <td>NaN</td>\n",
       "      <td>NaN</td>\n",
       "      <td>NaN</td>\n",
       "    </tr>\n",
       "    <tr>\n",
       "      <th>2023-12-30</th>\n",
       "      <td>NaN</td>\n",
       "      <td>NaN</td>\n",
       "      <td>NaN</td>\n",
       "    </tr>\n",
       "    <tr>\n",
       "      <th>2024-01-30</th>\n",
       "      <td>NaN</td>\n",
       "      <td>NaN</td>\n",
       "      <td>NaN</td>\n",
       "    </tr>\n",
       "    <tr>\n",
       "      <th>2024-02-29</th>\n",
       "      <td>NaN</td>\n",
       "      <td>NaN</td>\n",
       "      <td>NaN</td>\n",
       "    </tr>\n",
       "    <tr>\n",
       "      <th>2024-03-30</th>\n",
       "      <td>NaN</td>\n",
       "      <td>NaN</td>\n",
       "      <td>NaN</td>\n",
       "    </tr>\n",
       "    <tr>\n",
       "      <th>2024-04-30</th>\n",
       "      <td>NaN</td>\n",
       "      <td>NaN</td>\n",
       "      <td>NaN</td>\n",
       "    </tr>\n",
       "    <tr>\n",
       "      <th>2024-05-30</th>\n",
       "      <td>NaN</td>\n",
       "      <td>NaN</td>\n",
       "      <td>NaN</td>\n",
       "    </tr>\n",
       "  </tbody>\n",
       "</table>\n",
       "</div>"
      ],
      "text/plain": [
       "           Cash Flow from Operating Activities  \\\n",
       "2022-07-30                                 NaN   \n",
       "2022-08-30                                 NaN   \n",
       "2022-09-30                                 NaN   \n",
       "2022-10-30                                 NaN   \n",
       "2022-11-30                                 NaN   \n",
       "2022-12-30                                 NaN   \n",
       "2023-01-30                                 NaN   \n",
       "2023-02-28                                 NaN   \n",
       "2023-03-30                                 NaN   \n",
       "2023-04-30                                 NaN   \n",
       "2023-05-30                                 NaN   \n",
       "2023-06-30                                 NaN   \n",
       "2023-07-30                                 NaN   \n",
       "2023-08-30                                 NaN   \n",
       "2023-09-30                                 NaN   \n",
       "2023-10-30                                 NaN   \n",
       "2023-11-30                                 NaN   \n",
       "2023-12-30                                 NaN   \n",
       "2024-01-30                                 NaN   \n",
       "2024-02-29                                 NaN   \n",
       "2024-03-30                                 NaN   \n",
       "2024-04-30                                 NaN   \n",
       "2024-05-30                                 NaN   \n",
       "\n",
       "           Cash Flow from Operating Activities1 Predicted_ARIMA  \n",
       "2022-07-30                                  NaN             NaN  \n",
       "2022-08-30                                  NaN             NaN  \n",
       "2022-09-30                                  NaN             NaN  \n",
       "2022-10-30                                  NaN             NaN  \n",
       "2022-11-30                                  NaN             NaN  \n",
       "2022-12-30                                  NaN             NaN  \n",
       "2023-01-30                                  NaN             NaN  \n",
       "2023-02-28                                  NaN             NaN  \n",
       "2023-03-30                                  NaN             NaN  \n",
       "2023-04-30                                  NaN             NaN  \n",
       "2023-05-30                                  NaN             NaN  \n",
       "2023-06-30                                  NaN             NaN  \n",
       "2023-07-30                                  NaN             NaN  \n",
       "2023-08-30                                  NaN             NaN  \n",
       "2023-09-30                                  NaN             NaN  \n",
       "2023-10-30                                  NaN             NaN  \n",
       "2023-11-30                                  NaN             NaN  \n",
       "2023-12-30                                  NaN             NaN  \n",
       "2024-01-30                                  NaN             NaN  \n",
       "2024-02-29                                  NaN             NaN  \n",
       "2024-03-30                                  NaN             NaN  \n",
       "2024-04-30                                  NaN             NaN  \n",
       "2024-05-30                                  NaN             NaN  "
      ]
     },
     "execution_count": 40,
     "metadata": {},
     "output_type": "execute_result"
    }
   ],
   "source": [
    "future_datest_df"
   ]
  },
  {
   "cell_type": "code",
   "execution_count": 41,
   "id": "99de30d9",
   "metadata": {},
   "outputs": [],
   "source": [
    "future_df=pd.concat([test_data,future_datest_df])"
   ]
  },
  {
   "cell_type": "code",
   "execution_count": 42,
   "id": "f90fd173",
   "metadata": {},
   "outputs": [
    {
     "data": {
      "text/html": [
       "<div>\n",
       "<style scoped>\n",
       "    .dataframe tbody tr th:only-of-type {\n",
       "        vertical-align: middle;\n",
       "    }\n",
       "\n",
       "    .dataframe tbody tr th {\n",
       "        vertical-align: top;\n",
       "    }\n",
       "\n",
       "    .dataframe thead th {\n",
       "        text-align: right;\n",
       "    }\n",
       "</style>\n",
       "<table border=\"1\" class=\"dataframe\">\n",
       "  <thead>\n",
       "    <tr style=\"text-align: right;\">\n",
       "      <th></th>\n",
       "      <th>Cash Flow from Operating Activities</th>\n",
       "      <th>Cash Flow from Operating Activities1</th>\n",
       "      <th>Predicted_ARIMA</th>\n",
       "    </tr>\n",
       "  </thead>\n",
       "  <tbody>\n",
       "    <tr>\n",
       "      <th>2020-03-31</th>\n",
       "      <td>3184.0</td>\n",
       "      <td>26.0</td>\n",
       "      <td>131.890682</td>\n",
       "    </tr>\n",
       "    <tr>\n",
       "      <th>2020-06-30</th>\n",
       "      <td>458.0</td>\n",
       "      <td>-2726.0</td>\n",
       "      <td>-2988.522919</td>\n",
       "    </tr>\n",
       "    <tr>\n",
       "      <th>2020-09-30</th>\n",
       "      <td>2308.0</td>\n",
       "      <td>1850.0</td>\n",
       "      <td>2229.006487</td>\n",
       "    </tr>\n",
       "    <tr>\n",
       "      <th>2020-12-31</th>\n",
       "      <td>2914.0</td>\n",
       "      <td>606.0</td>\n",
       "      <td>724.586267</td>\n",
       "    </tr>\n",
       "    <tr>\n",
       "      <th>2021-03-31</th>\n",
       "      <td>2984.0</td>\n",
       "      <td>70.0</td>\n",
       "      <td>0.430082</td>\n",
       "    </tr>\n",
       "    <tr>\n",
       "      <th>2021-06-30</th>\n",
       "      <td>1326.0</td>\n",
       "      <td>-1658.0</td>\n",
       "      <td>-3052.000333</td>\n",
       "    </tr>\n",
       "    <tr>\n",
       "      <th>2021-09-30</th>\n",
       "      <td>1916.0</td>\n",
       "      <td>590.0</td>\n",
       "      <td>1986.072169</td>\n",
       "    </tr>\n",
       "    <tr>\n",
       "      <th>2021-12-31</th>\n",
       "      <td>2608.0</td>\n",
       "      <td>692.0</td>\n",
       "      <td>714.880196</td>\n",
       "    </tr>\n",
       "    <tr>\n",
       "      <th>2022-03-31</th>\n",
       "      <td>2789.0</td>\n",
       "      <td>181.0</td>\n",
       "      <td>117.04245</td>\n",
       "    </tr>\n",
       "    <tr>\n",
       "      <th>2022-06-30</th>\n",
       "      <td>873.0</td>\n",
       "      <td>-1916.0</td>\n",
       "      <td>-2889.955754</td>\n",
       "    </tr>\n",
       "    <tr>\n",
       "      <th>2022-07-30</th>\n",
       "      <td>NaN</td>\n",
       "      <td>NaN</td>\n",
       "      <td>NaN</td>\n",
       "    </tr>\n",
       "    <tr>\n",
       "      <th>2022-08-30</th>\n",
       "      <td>NaN</td>\n",
       "      <td>NaN</td>\n",
       "      <td>NaN</td>\n",
       "    </tr>\n",
       "    <tr>\n",
       "      <th>2022-09-30</th>\n",
       "      <td>NaN</td>\n",
       "      <td>NaN</td>\n",
       "      <td>NaN</td>\n",
       "    </tr>\n",
       "    <tr>\n",
       "      <th>2022-10-30</th>\n",
       "      <td>NaN</td>\n",
       "      <td>NaN</td>\n",
       "      <td>NaN</td>\n",
       "    </tr>\n",
       "    <tr>\n",
       "      <th>2022-11-30</th>\n",
       "      <td>NaN</td>\n",
       "      <td>NaN</td>\n",
       "      <td>NaN</td>\n",
       "    </tr>\n",
       "    <tr>\n",
       "      <th>2022-12-30</th>\n",
       "      <td>NaN</td>\n",
       "      <td>NaN</td>\n",
       "      <td>NaN</td>\n",
       "    </tr>\n",
       "    <tr>\n",
       "      <th>2023-01-30</th>\n",
       "      <td>NaN</td>\n",
       "      <td>NaN</td>\n",
       "      <td>NaN</td>\n",
       "    </tr>\n",
       "    <tr>\n",
       "      <th>2023-02-28</th>\n",
       "      <td>NaN</td>\n",
       "      <td>NaN</td>\n",
       "      <td>NaN</td>\n",
       "    </tr>\n",
       "    <tr>\n",
       "      <th>2023-03-30</th>\n",
       "      <td>NaN</td>\n",
       "      <td>NaN</td>\n",
       "      <td>NaN</td>\n",
       "    </tr>\n",
       "    <tr>\n",
       "      <th>2023-04-30</th>\n",
       "      <td>NaN</td>\n",
       "      <td>NaN</td>\n",
       "      <td>NaN</td>\n",
       "    </tr>\n",
       "    <tr>\n",
       "      <th>2023-05-30</th>\n",
       "      <td>NaN</td>\n",
       "      <td>NaN</td>\n",
       "      <td>NaN</td>\n",
       "    </tr>\n",
       "    <tr>\n",
       "      <th>2023-06-30</th>\n",
       "      <td>NaN</td>\n",
       "      <td>NaN</td>\n",
       "      <td>NaN</td>\n",
       "    </tr>\n",
       "    <tr>\n",
       "      <th>2023-07-30</th>\n",
       "      <td>NaN</td>\n",
       "      <td>NaN</td>\n",
       "      <td>NaN</td>\n",
       "    </tr>\n",
       "    <tr>\n",
       "      <th>2023-08-30</th>\n",
       "      <td>NaN</td>\n",
       "      <td>NaN</td>\n",
       "      <td>NaN</td>\n",
       "    </tr>\n",
       "    <tr>\n",
       "      <th>2023-09-30</th>\n",
       "      <td>NaN</td>\n",
       "      <td>NaN</td>\n",
       "      <td>NaN</td>\n",
       "    </tr>\n",
       "    <tr>\n",
       "      <th>2023-10-30</th>\n",
       "      <td>NaN</td>\n",
       "      <td>NaN</td>\n",
       "      <td>NaN</td>\n",
       "    </tr>\n",
       "    <tr>\n",
       "      <th>2023-11-30</th>\n",
       "      <td>NaN</td>\n",
       "      <td>NaN</td>\n",
       "      <td>NaN</td>\n",
       "    </tr>\n",
       "    <tr>\n",
       "      <th>2023-12-30</th>\n",
       "      <td>NaN</td>\n",
       "      <td>NaN</td>\n",
       "      <td>NaN</td>\n",
       "    </tr>\n",
       "    <tr>\n",
       "      <th>2024-01-30</th>\n",
       "      <td>NaN</td>\n",
       "      <td>NaN</td>\n",
       "      <td>NaN</td>\n",
       "    </tr>\n",
       "    <tr>\n",
       "      <th>2024-02-29</th>\n",
       "      <td>NaN</td>\n",
       "      <td>NaN</td>\n",
       "      <td>NaN</td>\n",
       "    </tr>\n",
       "    <tr>\n",
       "      <th>2024-03-30</th>\n",
       "      <td>NaN</td>\n",
       "      <td>NaN</td>\n",
       "      <td>NaN</td>\n",
       "    </tr>\n",
       "    <tr>\n",
       "      <th>2024-04-30</th>\n",
       "      <td>NaN</td>\n",
       "      <td>NaN</td>\n",
       "      <td>NaN</td>\n",
       "    </tr>\n",
       "    <tr>\n",
       "      <th>2024-05-30</th>\n",
       "      <td>NaN</td>\n",
       "      <td>NaN</td>\n",
       "      <td>NaN</td>\n",
       "    </tr>\n",
       "  </tbody>\n",
       "</table>\n",
       "</div>"
      ],
      "text/plain": [
       "           Cash Flow from Operating Activities  \\\n",
       "2020-03-31                              3184.0   \n",
       "2020-06-30                               458.0   \n",
       "2020-09-30                              2308.0   \n",
       "2020-12-31                              2914.0   \n",
       "2021-03-31                              2984.0   \n",
       "2021-06-30                              1326.0   \n",
       "2021-09-30                              1916.0   \n",
       "2021-12-31                              2608.0   \n",
       "2022-03-31                              2789.0   \n",
       "2022-06-30                               873.0   \n",
       "2022-07-30                                 NaN   \n",
       "2022-08-30                                 NaN   \n",
       "2022-09-30                                 NaN   \n",
       "2022-10-30                                 NaN   \n",
       "2022-11-30                                 NaN   \n",
       "2022-12-30                                 NaN   \n",
       "2023-01-30                                 NaN   \n",
       "2023-02-28                                 NaN   \n",
       "2023-03-30                                 NaN   \n",
       "2023-04-30                                 NaN   \n",
       "2023-05-30                                 NaN   \n",
       "2023-06-30                                 NaN   \n",
       "2023-07-30                                 NaN   \n",
       "2023-08-30                                 NaN   \n",
       "2023-09-30                                 NaN   \n",
       "2023-10-30                                 NaN   \n",
       "2023-11-30                                 NaN   \n",
       "2023-12-30                                 NaN   \n",
       "2024-01-30                                 NaN   \n",
       "2024-02-29                                 NaN   \n",
       "2024-03-30                                 NaN   \n",
       "2024-04-30                                 NaN   \n",
       "2024-05-30                                 NaN   \n",
       "\n",
       "           Cash Flow from Operating Activities1 Predicted_ARIMA  \n",
       "2020-03-31                                 26.0      131.890682  \n",
       "2020-06-30                              -2726.0    -2988.522919  \n",
       "2020-09-30                               1850.0     2229.006487  \n",
       "2020-12-31                                606.0      724.586267  \n",
       "2021-03-31                                 70.0        0.430082  \n",
       "2021-06-30                              -1658.0    -3052.000333  \n",
       "2021-09-30                                590.0     1986.072169  \n",
       "2021-12-31                                692.0      714.880196  \n",
       "2022-03-31                                181.0       117.04245  \n",
       "2022-06-30                              -1916.0    -2889.955754  \n",
       "2022-07-30                                  NaN             NaN  \n",
       "2022-08-30                                  NaN             NaN  \n",
       "2022-09-30                                  NaN             NaN  \n",
       "2022-10-30                                  NaN             NaN  \n",
       "2022-11-30                                  NaN             NaN  \n",
       "2022-12-30                                  NaN             NaN  \n",
       "2023-01-30                                  NaN             NaN  \n",
       "2023-02-28                                  NaN             NaN  \n",
       "2023-03-30                                  NaN             NaN  \n",
       "2023-04-30                                  NaN             NaN  \n",
       "2023-05-30                                  NaN             NaN  \n",
       "2023-06-30                                  NaN             NaN  \n",
       "2023-07-30                                  NaN             NaN  \n",
       "2023-08-30                                  NaN             NaN  \n",
       "2023-09-30                                  NaN             NaN  \n",
       "2023-10-30                                  NaN             NaN  \n",
       "2023-11-30                                  NaN             NaN  \n",
       "2023-12-30                                  NaN             NaN  \n",
       "2024-01-30                                  NaN             NaN  \n",
       "2024-02-29                                  NaN             NaN  \n",
       "2024-03-30                                  NaN             NaN  \n",
       "2024-04-30                                  NaN             NaN  \n",
       "2024-05-30                                  NaN             NaN  "
      ]
     },
     "execution_count": 42,
     "metadata": {},
     "output_type": "execute_result"
    }
   ],
   "source": [
    "future_df"
   ]
  },
  {
   "cell_type": "code",
   "execution_count": 43,
   "id": "1eda88f2",
   "metadata": {},
   "outputs": [
    {
     "name": "stdout",
     "output_type": "stream",
     "text": [
      "2022-07-30 00:00:00\n",
      "2024-05-30 00:00:00\n"
     ]
    }
   ],
   "source": [
    "##prediction\n",
    "pred_start_date=future_datest_df.index[0]\n",
    "pred_end_date=future_datest_df.index[-1]\n",
    "print(pred_start_date)\n",
    "print(pred_end_date)"
   ]
  },
  {
   "cell_type": "code",
   "execution_count": 44,
   "id": "05e6200e",
   "metadata": {},
   "outputs": [],
   "source": [
    "pred_future=model_Arima_fit.predict(start=pred_start_date,end=pred_end_date)\n",
    "residuals=test_data['Cash Flow from Operating Activities1']-pred"
   ]
  },
  {
   "cell_type": "code",
   "execution_count": 45,
   "id": "80b99f13",
   "metadata": {},
   "outputs": [
    {
     "data": {
      "text/plain": [
       "2022-09-30    1978.741384\n",
       "2022-12-31     741.596376\n",
       "2023-03-31      16.563540\n",
       "2023-06-30   -2917.495210\n",
       "2023-09-30    1843.444573\n",
       "2023-12-31     826.091098\n",
       "2024-03-31      99.060567\n",
       "2024-06-30   -2810.460524\n",
       "Freq: Q-DEC, Name: predicted_mean, dtype: float64"
      ]
     },
     "execution_count": 45,
     "metadata": {},
     "output_type": "execute_result"
    }
   ],
   "source": [
    "pred_future"
   ]
  },
  {
   "cell_type": "code",
   "execution_count": 49,
   "id": "e1dcc60c",
   "metadata": {},
   "outputs": [
    {
     "data": {
      "text/plain": [
       "<AxesSubplot:>"
      ]
     },
     "execution_count": 49,
     "metadata": {},
     "output_type": "execute_result"
    },
    {
     "data": {
      "image/png": "[encoded data removed]",
      "text/plain": [
       "<Figure size 1440x1080 with 1 Axes>"
      ]
     },
     "metadata": {
      "needs_background": "light"
     },
     "output_type": "display_data"
    }
   ],
   "source": [
    "pred_future.plot.bar(figsize=(20,15))"
   ]
  },
  {
   "cell_type": "code",
   "execution_count": null,
   "id": "7bcdbfa7",
   "metadata": {},
   "outputs": [],
   "source": []
  }
 ],
 "metadata": {
  "kernelspec": {
   "display_name": "Python 3 (ipykernel)",
   "language": "python",
   "name": "python3"
  },
  "language_info": {
   "codemirror_mode": {
    "name": "ipython",
    "version": 3
   },
   "file_extension": ".py",
   "mimetype": "text/x-python",
   "name": "python",
   "nbconvert_exporter": "python",
   "pygments_lexer": "ipython3",
   "version": "3.9.12"
  }
 },
 "nbformat": 4,
 "nbformat_minor": 5
}

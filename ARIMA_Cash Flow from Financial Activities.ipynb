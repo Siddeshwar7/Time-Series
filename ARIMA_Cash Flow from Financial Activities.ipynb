{
 "cells": [
  {
   "cell_type": "code",
   "execution_count": 1,
   "id": "86cdbdc7",
   "metadata": {},
   "outputs": [],
   "source": [
    "#importing the Library\n",
    "import numpy as np\n",
    "import matplotlib.pyplot as plt\n",
    "import statsmodels.api as sms\n",
    "import pandas as pd\n",
    "\n",
    "%matplotlib inline"
   ]
  },
  {
   "cell_type": "code",
   "execution_count": 2,
   "id": "531d8a93",
   "metadata": {},
   "outputs": [],
   "source": [
    "#importing the dataset \n",
    "df_cf=pd.read_csv(\"C:/Users/Admin/Documents/Coca_cola_Cashflow_statement.csv\")"
   ]
  },
  {
   "cell_type": "code",
   "execution_count": 3,
   "id": "33e3c5d4",
   "metadata": {},
   "outputs": [
    {
     "data": {
      "text/html": [
       "<div>\n",
       "<style scoped>\n",
       "    .dataframe tbody tr th:only-of-type {\n",
       "        vertical-align: middle;\n",
       "    }\n",
       "\n",
       "    .dataframe tbody tr th {\n",
       "        vertical-align: top;\n",
       "    }\n",
       "\n",
       "    .dataframe thead th {\n",
       "        text-align: right;\n",
       "    }\n",
       "</style>\n",
       "<table border=\"1\" class=\"dataframe\">\n",
       "  <thead>\n",
       "    <tr style=\"text-align: right;\">\n",
       "      <th></th>\n",
       "      <th>DT</th>\n",
       "      <th>Cash_Flow_from_Investing_Activities</th>\n",
       "      <th>Cash Flow from Operating Activities</th>\n",
       "      <th>Cash Flow from Financial Activities</th>\n",
       "      <th>Net Cash Flow</th>\n",
       "    </tr>\n",
       "  </thead>\n",
       "  <tbody>\n",
       "    <tr>\n",
       "      <th>0</th>\n",
       "      <td>31-03-2009</td>\n",
       "      <td>-599</td>\n",
       "      <td>3923.0</td>\n",
       "      <td>-975.0</td>\n",
       "      <td>1295.0</td>\n",
       "    </tr>\n",
       "    <tr>\n",
       "      <th>1</th>\n",
       "      <td>30-06-2009</td>\n",
       "      <td>-565</td>\n",
       "      <td>623.0</td>\n",
       "      <td>-297.0</td>\n",
       "      <td>-2344.0</td>\n",
       "    </tr>\n",
       "    <tr>\n",
       "      <th>2</th>\n",
       "      <td>30-09-2009</td>\n",
       "      <td>-396</td>\n",
       "      <td>3394.0</td>\n",
       "      <td>-195.0</td>\n",
       "      <td>-1617.0</td>\n",
       "    </tr>\n",
       "    <tr>\n",
       "      <th>3</th>\n",
       "      <td>31-12-2009</td>\n",
       "      <td>-2589</td>\n",
       "      <td>3706.0</td>\n",
       "      <td>-1629.0</td>\n",
       "      <td>2113.0</td>\n",
       "    </tr>\n",
       "    <tr>\n",
       "      <th>4</th>\n",
       "      <td>31-03-2010</td>\n",
       "      <td>-1368</td>\n",
       "      <td>3889.0</td>\n",
       "      <td>-5326.0</td>\n",
       "      <td>704.0</td>\n",
       "    </tr>\n",
       "  </tbody>\n",
       "</table>\n",
       "</div>"
      ],
      "text/plain": [
       "           DT  Cash_Flow_from_Investing_Activities  \\\n",
       "0  31-03-2009                                 -599   \n",
       "1  30-06-2009                                 -565   \n",
       "2  30-09-2009                                 -396   \n",
       "3  31-12-2009                                -2589   \n",
       "4  31-03-2010                                -1368   \n",
       "\n",
       "   Cash Flow from Operating Activities  Cash Flow from Financial Activities  \\\n",
       "0                               3923.0                               -975.0   \n",
       "1                                623.0                               -297.0   \n",
       "2                               3394.0                               -195.0   \n",
       "3                               3706.0                              -1629.0   \n",
       "4                               3889.0                              -5326.0   \n",
       "\n",
       "   Net Cash Flow  \n",
       "0         1295.0  \n",
       "1        -2344.0  \n",
       "2        -1617.0  \n",
       "3         2113.0  \n",
       "4          704.0  "
      ]
     },
     "execution_count": 3,
     "metadata": {},
     "output_type": "execute_result"
    }
   ],
   "source": [
    "df_cf.head()"
   ]
  },
  {
   "cell_type": "code",
   "execution_count": 4,
   "id": "9caeff35",
   "metadata": {},
   "outputs": [
    {
     "data": {
      "text/plain": [
       "DT                                     0\n",
       "Cash_Flow_from_Investing_Activities    0\n",
       "Cash Flow from Operating Activities    0\n",
       "Cash Flow from Financial Activities    0\n",
       "Net Cash Flow                          0\n",
       "dtype: int64"
      ]
     },
     "execution_count": 4,
     "metadata": {},
     "output_type": "execute_result"
    }
   ],
   "source": [
    "#checking for null values\n",
    "df_cf.isnull().sum()"
   ]
  },
  {
   "cell_type": "code",
   "execution_count": 5,
   "id": "7fc43889",
   "metadata": {},
   "outputs": [
    {
     "data": {
      "text/html": [
       "<div>\n",
       "<style scoped>\n",
       "    .dataframe tbody tr th:only-of-type {\n",
       "        vertical-align: middle;\n",
       "    }\n",
       "\n",
       "    .dataframe tbody tr th {\n",
       "        vertical-align: top;\n",
       "    }\n",
       "\n",
       "    .dataframe thead th {\n",
       "        text-align: right;\n",
       "    }\n",
       "</style>\n",
       "<table border=\"1\" class=\"dataframe\">\n",
       "  <thead>\n",
       "    <tr style=\"text-align: right;\">\n",
       "      <th></th>\n",
       "      <th>DT</th>\n",
       "      <th>Cash_Flow_from_Investing_Activities</th>\n",
       "      <th>Cash Flow from Operating Activities</th>\n",
       "      <th>Cash Flow from Financial Activities</th>\n",
       "      <th>Net Cash Flow</th>\n",
       "    </tr>\n",
       "  </thead>\n",
       "  <tbody>\n",
       "    <tr>\n",
       "      <th>49</th>\n",
       "      <td>30-06-2021</td>\n",
       "      <td>2034</td>\n",
       "      <td>1326.0</td>\n",
       "      <td>-1043.0</td>\n",
       "      <td>-1337.0</td>\n",
       "    </tr>\n",
       "    <tr>\n",
       "      <th>50</th>\n",
       "      <td>30-09-2021</td>\n",
       "      <td>166</td>\n",
       "      <td>1916.0</td>\n",
       "      <td>-1409.0</td>\n",
       "      <td>-1825.0</td>\n",
       "    </tr>\n",
       "    <tr>\n",
       "      <th>51</th>\n",
       "      <td>31-12-2021</td>\n",
       "      <td>-4684</td>\n",
       "      <td>2608.0</td>\n",
       "      <td>-1026.0</td>\n",
       "      <td>1199.0</td>\n",
       "    </tr>\n",
       "    <tr>\n",
       "      <th>52</th>\n",
       "      <td>31-03-2022</td>\n",
       "      <td>146</td>\n",
       "      <td>2789.0</td>\n",
       "      <td>-1675.0</td>\n",
       "      <td>831.0</td>\n",
       "    </tr>\n",
       "    <tr>\n",
       "      <th>53</th>\n",
       "      <td>30-06-2022</td>\n",
       "      <td>-1291</td>\n",
       "      <td>873.0</td>\n",
       "      <td>1817.0</td>\n",
       "      <td>2115.0</td>\n",
       "    </tr>\n",
       "  </tbody>\n",
       "</table>\n",
       "</div>"
      ],
      "text/plain": [
       "            DT  Cash_Flow_from_Investing_Activities  \\\n",
       "49  30-06-2021                                 2034   \n",
       "50  30-09-2021                                  166   \n",
       "51  31-12-2021                                -4684   \n",
       "52  31-03-2022                                  146   \n",
       "53  30-06-2022                                -1291   \n",
       "\n",
       "    Cash Flow from Operating Activities  Cash Flow from Financial Activities  \\\n",
       "49                               1326.0                              -1043.0   \n",
       "50                               1916.0                              -1409.0   \n",
       "51                               2608.0                              -1026.0   \n",
       "52                               2789.0                              -1675.0   \n",
       "53                                873.0                               1817.0   \n",
       "\n",
       "    Net Cash Flow  \n",
       "49        -1337.0  \n",
       "50        -1825.0  \n",
       "51         1199.0  \n",
       "52          831.0  \n",
       "53         2115.0  "
      ]
     },
     "execution_count": 5,
     "metadata": {},
     "output_type": "execute_result"
    }
   ],
   "source": [
    "df_cf.tail()"
   ]
  },
  {
   "cell_type": "code",
   "execution_count": 6,
   "id": "96375d98",
   "metadata": {},
   "outputs": [
    {
     "name": "stdout",
     "output_type": "stream",
     "text": [
      "<class 'pandas.core.frame.DataFrame'>\n",
      "RangeIndex: 54 entries, 0 to 53\n",
      "Data columns (total 5 columns):\n",
      " #   Column                               Non-Null Count  Dtype  \n",
      "---  ------                               --------------  -----  \n",
      " 0   DT                                   54 non-null     object \n",
      " 1   Cash_Flow_from_Investing_Activities  54 non-null     int64  \n",
      " 2   Cash Flow from Operating Activities  54 non-null     float64\n",
      " 3   Cash Flow from Financial Activities  54 non-null     float64\n",
      " 4   Net Cash Flow                        54 non-null     float64\n",
      "dtypes: float64(3), int64(1), object(1)\n",
      "memory usage: 2.2+ KB\n"
     ]
    }
   ],
   "source": [
    "df_cf.info()"
   ]
  },
  {
   "cell_type": "code",
   "execution_count": 7,
   "id": "e0da8d80",
   "metadata": {},
   "outputs": [
    {
     "name": "stderr",
     "output_type": "stream",
     "text": [
      "C:\\Users\\Admin\\AppData\\Local\\Temp\\ipykernel_2488\\905396716.py:2: UserWarning: Parsing '31-03-2009' in DD/MM/YYYY format. Provide format or specify infer_datetime_format=True for consistent parsing.\n",
      "  df_cf[\"DT\"]=pd.to_datetime(df_cf[\"DT\"])\n",
      "C:\\Users\\Admin\\AppData\\Local\\Temp\\ipykernel_2488\\905396716.py:2: UserWarning: Parsing '30-06-2009' in DD/MM/YYYY format. Provide format or specify infer_datetime_format=True for consistent parsing.\n",
      "  df_cf[\"DT\"]=pd.to_datetime(df_cf[\"DT\"])\n",
      "C:\\Users\\Admin\\AppData\\Local\\Temp\\ipykernel_2488\\905396716.py:2: UserWarning: Parsing '30-09-2009' in DD/MM/YYYY format. Provide format or specify infer_datetime_format=True for consistent parsing.\n",
      "  df_cf[\"DT\"]=pd.to_datetime(df_cf[\"DT\"])\n",
      "C:\\Users\\Admin\\AppData\\Local\\Temp\\ipykernel_2488\\905396716.py:2: UserWarning: Parsing '31-12-2009' in DD/MM/YYYY format. Provide format or specify infer_datetime_format=True for consistent parsing.\n",
      "  df_cf[\"DT\"]=pd.to_datetime(df_cf[\"DT\"])\n",
      "C:\\Users\\Admin\\AppData\\Local\\Temp\\ipykernel_2488\\905396716.py:2: UserWarning: Parsing '31-03-2010' in DD/MM/YYYY format. Provide format or specify infer_datetime_format=True for consistent parsing.\n",
      "  df_cf[\"DT\"]=pd.to_datetime(df_cf[\"DT\"])\n",
      "C:\\Users\\Admin\\AppData\\Local\\Temp\\ipykernel_2488\\905396716.py:2: UserWarning: Parsing '30-06-2010' in DD/MM/YYYY format. Provide format or specify infer_datetime_format=True for consistent parsing.\n",
      "  df_cf[\"DT\"]=pd.to_datetime(df_cf[\"DT\"])\n",
      "C:\\Users\\Admin\\AppData\\Local\\Temp\\ipykernel_2488\\905396716.py:2: UserWarning: Parsing '30-09-2010' in DD/MM/YYYY format. Provide format or specify infer_datetime_format=True for consistent parsing.\n",
      "  df_cf[\"DT\"]=pd.to_datetime(df_cf[\"DT\"])\n",
      "C:\\Users\\Admin\\AppData\\Local\\Temp\\ipykernel_2488\\905396716.py:2: UserWarning: Parsing '31-12-2010' in DD/MM/YYYY format. Provide format or specify infer_datetime_format=True for consistent parsing.\n",
      "  df_cf[\"DT\"]=pd.to_datetime(df_cf[\"DT\"])\n",
      "C:\\Users\\Admin\\AppData\\Local\\Temp\\ipykernel_2488\\905396716.py:2: UserWarning: Parsing '31-03-2011' in DD/MM/YYYY format. Provide format or specify infer_datetime_format=True for consistent parsing.\n",
      "  df_cf[\"DT\"]=pd.to_datetime(df_cf[\"DT\"])\n",
      "C:\\Users\\Admin\\AppData\\Local\\Temp\\ipykernel_2488\\905396716.py:2: UserWarning: Parsing '30-06-2011' in DD/MM/YYYY format. Provide format or specify infer_datetime_format=True for consistent parsing.\n",
      "  df_cf[\"DT\"]=pd.to_datetime(df_cf[\"DT\"])\n",
      "C:\\Users\\Admin\\AppData\\Local\\Temp\\ipykernel_2488\\905396716.py:2: UserWarning: Parsing '30-09-2011' in DD/MM/YYYY format. Provide format or specify infer_datetime_format=True for consistent parsing.\n",
      "  df_cf[\"DT\"]=pd.to_datetime(df_cf[\"DT\"])\n",
      "C:\\Users\\Admin\\AppData\\Local\\Temp\\ipykernel_2488\\905396716.py:2: UserWarning: Parsing '31-12-2011' in DD/MM/YYYY format. Provide format or specify infer_datetime_format=True for consistent parsing.\n",
      "  df_cf[\"DT\"]=pd.to_datetime(df_cf[\"DT\"])\n",
      "C:\\Users\\Admin\\AppData\\Local\\Temp\\ipykernel_2488\\905396716.py:2: UserWarning: Parsing '31-03-2012' in DD/MM/YYYY format. Provide format or specify infer_datetime_format=True for consistent parsing.\n",
      "  df_cf[\"DT\"]=pd.to_datetime(df_cf[\"DT\"])\n",
      "C:\\Users\\Admin\\AppData\\Local\\Temp\\ipykernel_2488\\905396716.py:2: UserWarning: Parsing '30-06-2012' in DD/MM/YYYY format. Provide format or specify infer_datetime_format=True for consistent parsing.\n",
      "  df_cf[\"DT\"]=pd.to_datetime(df_cf[\"DT\"])\n",
      "C:\\Users\\Admin\\AppData\\Local\\Temp\\ipykernel_2488\\905396716.py:2: UserWarning: Parsing '30-09-2012' in DD/MM/YYYY format. Provide format or specify infer_datetime_format=True for consistent parsing.\n",
      "  df_cf[\"DT\"]=pd.to_datetime(df_cf[\"DT\"])\n",
      "C:\\Users\\Admin\\AppData\\Local\\Temp\\ipykernel_2488\\905396716.py:2: UserWarning: Parsing '31-12-2012' in DD/MM/YYYY format. Provide format or specify infer_datetime_format=True for consistent parsing.\n",
      "  df_cf[\"DT\"]=pd.to_datetime(df_cf[\"DT\"])\n",
      "C:\\Users\\Admin\\AppData\\Local\\Temp\\ipykernel_2488\\905396716.py:2: UserWarning: Parsing '31-03-2013' in DD/MM/YYYY format. Provide format or specify infer_datetime_format=True for consistent parsing.\n",
      "  df_cf[\"DT\"]=pd.to_datetime(df_cf[\"DT\"])\n",
      "C:\\Users\\Admin\\AppData\\Local\\Temp\\ipykernel_2488\\905396716.py:2: UserWarning: Parsing '30-06-2013' in DD/MM/YYYY format. Provide format or specify infer_datetime_format=True for consistent parsing.\n",
      "  df_cf[\"DT\"]=pd.to_datetime(df_cf[\"DT\"])\n",
      "C:\\Users\\Admin\\AppData\\Local\\Temp\\ipykernel_2488\\905396716.py:2: UserWarning: Parsing '30-09-2013' in DD/MM/YYYY format. Provide format or specify infer_datetime_format=True for consistent parsing.\n",
      "  df_cf[\"DT\"]=pd.to_datetime(df_cf[\"DT\"])\n",
      "C:\\Users\\Admin\\AppData\\Local\\Temp\\ipykernel_2488\\905396716.py:2: UserWarning: Parsing '31-12-2013' in DD/MM/YYYY format. Provide format or specify infer_datetime_format=True for consistent parsing.\n",
      "  df_cf[\"DT\"]=pd.to_datetime(df_cf[\"DT\"])\n",
      "C:\\Users\\Admin\\AppData\\Local\\Temp\\ipykernel_2488\\905396716.py:2: UserWarning: Parsing '31-03-2014' in DD/MM/YYYY format. Provide format or specify infer_datetime_format=True for consistent parsing.\n",
      "  df_cf[\"DT\"]=pd.to_datetime(df_cf[\"DT\"])\n",
      "C:\\Users\\Admin\\AppData\\Local\\Temp\\ipykernel_2488\\905396716.py:2: UserWarning: Parsing '30-06-2014' in DD/MM/YYYY format. Provide format or specify infer_datetime_format=True for consistent parsing.\n",
      "  df_cf[\"DT\"]=pd.to_datetime(df_cf[\"DT\"])\n",
      "C:\\Users\\Admin\\AppData\\Local\\Temp\\ipykernel_2488\\905396716.py:2: UserWarning: Parsing '30-09-2014' in DD/MM/YYYY format. Provide format or specify infer_datetime_format=True for consistent parsing.\n",
      "  df_cf[\"DT\"]=pd.to_datetime(df_cf[\"DT\"])\n",
      "C:\\Users\\Admin\\AppData\\Local\\Temp\\ipykernel_2488\\905396716.py:2: UserWarning: Parsing '31-12-2014' in DD/MM/YYYY format. Provide format or specify infer_datetime_format=True for consistent parsing.\n",
      "  df_cf[\"DT\"]=pd.to_datetime(df_cf[\"DT\"])\n",
      "C:\\Users\\Admin\\AppData\\Local\\Temp\\ipykernel_2488\\905396716.py:2: UserWarning: Parsing '31-03-2015' in DD/MM/YYYY format. Provide format or specify infer_datetime_format=True for consistent parsing.\n",
      "  df_cf[\"DT\"]=pd.to_datetime(df_cf[\"DT\"])\n",
      "C:\\Users\\Admin\\AppData\\Local\\Temp\\ipykernel_2488\\905396716.py:2: UserWarning: Parsing '30-06-2015' in DD/MM/YYYY format. Provide format or specify infer_datetime_format=True for consistent parsing.\n",
      "  df_cf[\"DT\"]=pd.to_datetime(df_cf[\"DT\"])\n",
      "C:\\Users\\Admin\\AppData\\Local\\Temp\\ipykernel_2488\\905396716.py:2: UserWarning: Parsing '30-09-2015' in DD/MM/YYYY format. Provide format or specify infer_datetime_format=True for consistent parsing.\n",
      "  df_cf[\"DT\"]=pd.to_datetime(df_cf[\"DT\"])\n",
      "C:\\Users\\Admin\\AppData\\Local\\Temp\\ipykernel_2488\\905396716.py:2: UserWarning: Parsing '31-12-2015' in DD/MM/YYYY format. Provide format or specify infer_datetime_format=True for consistent parsing.\n",
      "  df_cf[\"DT\"]=pd.to_datetime(df_cf[\"DT\"])\n",
      "C:\\Users\\Admin\\AppData\\Local\\Temp\\ipykernel_2488\\905396716.py:2: UserWarning: Parsing '31-03-2016' in DD/MM/YYYY format. Provide format or specify infer_datetime_format=True for consistent parsing.\n",
      "  df_cf[\"DT\"]=pd.to_datetime(df_cf[\"DT\"])\n",
      "C:\\Users\\Admin\\AppData\\Local\\Temp\\ipykernel_2488\\905396716.py:2: UserWarning: Parsing '30-06-2016' in DD/MM/YYYY format. Provide format or specify infer_datetime_format=True for consistent parsing.\n",
      "  df_cf[\"DT\"]=pd.to_datetime(df_cf[\"DT\"])\n",
      "C:\\Users\\Admin\\AppData\\Local\\Temp\\ipykernel_2488\\905396716.py:2: UserWarning: Parsing '30-09-2016' in DD/MM/YYYY format. Provide format or specify infer_datetime_format=True for consistent parsing.\n",
      "  df_cf[\"DT\"]=pd.to_datetime(df_cf[\"DT\"])\n",
      "C:\\Users\\Admin\\AppData\\Local\\Temp\\ipykernel_2488\\905396716.py:2: UserWarning: Parsing '31-12-2016' in DD/MM/YYYY format. Provide format or specify infer_datetime_format=True for consistent parsing.\n",
      "  df_cf[\"DT\"]=pd.to_datetime(df_cf[\"DT\"])\n",
      "C:\\Users\\Admin\\AppData\\Local\\Temp\\ipykernel_2488\\905396716.py:2: UserWarning: Parsing '31-03-2017' in DD/MM/YYYY format. Provide format or specify infer_datetime_format=True for consistent parsing.\n",
      "  df_cf[\"DT\"]=pd.to_datetime(df_cf[\"DT\"])\n",
      "C:\\Users\\Admin\\AppData\\Local\\Temp\\ipykernel_2488\\905396716.py:2: UserWarning: Parsing '30-06-2017' in DD/MM/YYYY format. Provide format or specify infer_datetime_format=True for consistent parsing.\n",
      "  df_cf[\"DT\"]=pd.to_datetime(df_cf[\"DT\"])\n",
      "C:\\Users\\Admin\\AppData\\Local\\Temp\\ipykernel_2488\\905396716.py:2: UserWarning: Parsing '30-09-2017' in DD/MM/YYYY format. Provide format or specify infer_datetime_format=True for consistent parsing.\n",
      "  df_cf[\"DT\"]=pd.to_datetime(df_cf[\"DT\"])\n",
      "C:\\Users\\Admin\\AppData\\Local\\Temp\\ipykernel_2488\\905396716.py:2: UserWarning: Parsing '31-12-2017' in DD/MM/YYYY format. Provide format or specify infer_datetime_format=True for consistent parsing.\n",
      "  df_cf[\"DT\"]=pd.to_datetime(df_cf[\"DT\"])\n",
      "C:\\Users\\Admin\\AppData\\Local\\Temp\\ipykernel_2488\\905396716.py:2: UserWarning: Parsing '31-03-2018' in DD/MM/YYYY format. Provide format or specify infer_datetime_format=True for consistent parsing.\n",
      "  df_cf[\"DT\"]=pd.to_datetime(df_cf[\"DT\"])\n",
      "C:\\Users\\Admin\\AppData\\Local\\Temp\\ipykernel_2488\\905396716.py:2: UserWarning: Parsing '30-06-2018' in DD/MM/YYYY format. Provide format or specify infer_datetime_format=True for consistent parsing.\n",
      "  df_cf[\"DT\"]=pd.to_datetime(df_cf[\"DT\"])\n",
      "C:\\Users\\Admin\\AppData\\Local\\Temp\\ipykernel_2488\\905396716.py:2: UserWarning: Parsing '30-09-2018' in DD/MM/YYYY format. Provide format or specify infer_datetime_format=True for consistent parsing.\n",
      "  df_cf[\"DT\"]=pd.to_datetime(df_cf[\"DT\"])\n",
      "C:\\Users\\Admin\\AppData\\Local\\Temp\\ipykernel_2488\\905396716.py:2: UserWarning: Parsing '31-12-2018' in DD/MM/YYYY format. Provide format or specify infer_datetime_format=True for consistent parsing.\n",
      "  df_cf[\"DT\"]=pd.to_datetime(df_cf[\"DT\"])\n",
      "C:\\Users\\Admin\\AppData\\Local\\Temp\\ipykernel_2488\\905396716.py:2: UserWarning: Parsing '31-03-2019' in DD/MM/YYYY format. Provide format or specify infer_datetime_format=True for consistent parsing.\n",
      "  df_cf[\"DT\"]=pd.to_datetime(df_cf[\"DT\"])\n",
      "C:\\Users\\Admin\\AppData\\Local\\Temp\\ipykernel_2488\\905396716.py:2: UserWarning: Parsing '30-06-2019' in DD/MM/YYYY format. Provide format or specify infer_datetime_format=True for consistent parsing.\n",
      "  df_cf[\"DT\"]=pd.to_datetime(df_cf[\"DT\"])\n",
      "C:\\Users\\Admin\\AppData\\Local\\Temp\\ipykernel_2488\\905396716.py:2: UserWarning: Parsing '30-09-2019' in DD/MM/YYYY format. Provide format or specify infer_datetime_format=True for consistent parsing.\n",
      "  df_cf[\"DT\"]=pd.to_datetime(df_cf[\"DT\"])\n",
      "C:\\Users\\Admin\\AppData\\Local\\Temp\\ipykernel_2488\\905396716.py:2: UserWarning: Parsing '31-12-2019' in DD/MM/YYYY format. Provide format or specify infer_datetime_format=True for consistent parsing.\n",
      "  df_cf[\"DT\"]=pd.to_datetime(df_cf[\"DT\"])\n",
      "C:\\Users\\Admin\\AppData\\Local\\Temp\\ipykernel_2488\\905396716.py:2: UserWarning: Parsing '31-03-2020' in DD/MM/YYYY format. Provide format or specify infer_datetime_format=True for consistent parsing.\n",
      "  df_cf[\"DT\"]=pd.to_datetime(df_cf[\"DT\"])\n",
      "C:\\Users\\Admin\\AppData\\Local\\Temp\\ipykernel_2488\\905396716.py:2: UserWarning: Parsing '30-06-2020' in DD/MM/YYYY format. Provide format or specify infer_datetime_format=True for consistent parsing.\n",
      "  df_cf[\"DT\"]=pd.to_datetime(df_cf[\"DT\"])\n",
      "C:\\Users\\Admin\\AppData\\Local\\Temp\\ipykernel_2488\\905396716.py:2: UserWarning: Parsing '30-09-2020' in DD/MM/YYYY format. Provide format or specify infer_datetime_format=True for consistent parsing.\n",
      "  df_cf[\"DT\"]=pd.to_datetime(df_cf[\"DT\"])\n",
      "C:\\Users\\Admin\\AppData\\Local\\Temp\\ipykernel_2488\\905396716.py:2: UserWarning: Parsing '31-12-2020' in DD/MM/YYYY format. Provide format or specify infer_datetime_format=True for consistent parsing.\n",
      "  df_cf[\"DT\"]=pd.to_datetime(df_cf[\"DT\"])\n",
      "C:\\Users\\Admin\\AppData\\Local\\Temp\\ipykernel_2488\\905396716.py:2: UserWarning: Parsing '31-03-2021' in DD/MM/YYYY format. Provide format or specify infer_datetime_format=True for consistent parsing.\n",
      "  df_cf[\"DT\"]=pd.to_datetime(df_cf[\"DT\"])\n",
      "C:\\Users\\Admin\\AppData\\Local\\Temp\\ipykernel_2488\\905396716.py:2: UserWarning: Parsing '30-06-2021' in DD/MM/YYYY format. Provide format or specify infer_datetime_format=True for consistent parsing.\n",
      "  df_cf[\"DT\"]=pd.to_datetime(df_cf[\"DT\"])\n",
      "C:\\Users\\Admin\\AppData\\Local\\Temp\\ipykernel_2488\\905396716.py:2: UserWarning: Parsing '30-09-2021' in DD/MM/YYYY format. Provide format or specify infer_datetime_format=True for consistent parsing.\n",
      "  df_cf[\"DT\"]=pd.to_datetime(df_cf[\"DT\"])\n",
      "C:\\Users\\Admin\\AppData\\Local\\Temp\\ipykernel_2488\\905396716.py:2: UserWarning: Parsing '31-12-2021' in DD/MM/YYYY format. Provide format or specify infer_datetime_format=True for consistent parsing.\n",
      "  df_cf[\"DT\"]=pd.to_datetime(df_cf[\"DT\"])\n",
      "C:\\Users\\Admin\\AppData\\Local\\Temp\\ipykernel_2488\\905396716.py:2: UserWarning: Parsing '31-03-2022' in DD/MM/YYYY format. Provide format or specify infer_datetime_format=True for consistent parsing.\n",
      "  df_cf[\"DT\"]=pd.to_datetime(df_cf[\"DT\"])\n",
      "C:\\Users\\Admin\\AppData\\Local\\Temp\\ipykernel_2488\\905396716.py:2: UserWarning: Parsing '30-06-2022' in DD/MM/YYYY format. Provide format or specify infer_datetime_format=True for consistent parsing.\n",
      "  df_cf[\"DT\"]=pd.to_datetime(df_cf[\"DT\"])\n"
     ]
    }
   ],
   "source": [
    "# changing dt data type to datetime format\n",
    "df_cf[\"DT\"]=pd.to_datetime(df_cf[\"DT\"])"
   ]
  },
  {
   "cell_type": "code",
   "execution_count": 9,
   "id": "112b6ccb",
   "metadata": {},
   "outputs": [
    {
     "ename": "KeyError",
     "evalue": "\"None of ['DT'] are in the columns\"",
     "output_type": "error",
     "traceback": [
      "\u001b[1;31m---------------------------------------------------------------------------\u001b[0m",
      "\u001b[1;31mKeyError\u001b[0m                                  Traceback (most recent call last)",
      "Input \u001b[1;32mIn [9]\u001b[0m, in \u001b[0;36m<cell line: 2>\u001b[1;34m()\u001b[0m\n\u001b[0;32m      1\u001b[0m \u001b[38;5;66;03m#setting dt as the index\u001b[39;00m\n\u001b[1;32m----> 2\u001b[0m \u001b[43mdf_cf\u001b[49m\u001b[38;5;241;43m.\u001b[39;49m\u001b[43mset_index\u001b[49m\u001b[43m(\u001b[49m\u001b[38;5;124;43m\"\u001b[39;49m\u001b[38;5;124;43mDT\u001b[39;49m\u001b[38;5;124;43m\"\u001b[39;49m\u001b[43m,\u001b[49m\u001b[43minplace\u001b[49m\u001b[38;5;241;43m=\u001b[39;49m\u001b[38;5;28;43;01mTrue\u001b[39;49;00m\u001b[43m)\u001b[49m\n",
      "File \u001b[1;32m~\\anaconda3\\lib\\site-packages\\pandas\\util\\_decorators.py:311\u001b[0m, in \u001b[0;36mdeprecate_nonkeyword_arguments.<locals>.decorate.<locals>.wrapper\u001b[1;34m(*args, **kwargs)\u001b[0m\n\u001b[0;32m    305\u001b[0m \u001b[38;5;28;01mif\u001b[39;00m \u001b[38;5;28mlen\u001b[39m(args) \u001b[38;5;241m>\u001b[39m num_allow_args:\n\u001b[0;32m    306\u001b[0m     warnings\u001b[38;5;241m.\u001b[39mwarn(\n\u001b[0;32m    307\u001b[0m         msg\u001b[38;5;241m.\u001b[39mformat(arguments\u001b[38;5;241m=\u001b[39marguments),\n\u001b[0;32m    308\u001b[0m         \u001b[38;5;167;01mFutureWarning\u001b[39;00m,\n\u001b[0;32m    309\u001b[0m         stacklevel\u001b[38;5;241m=\u001b[39mstacklevel,\n\u001b[0;32m    310\u001b[0m     )\n\u001b[1;32m--> 311\u001b[0m \u001b[38;5;28;01mreturn\u001b[39;00m func(\u001b[38;5;241m*\u001b[39margs, \u001b[38;5;241m*\u001b[39m\u001b[38;5;241m*\u001b[39mkwargs)\n",
      "File \u001b[1;32m~\\anaconda3\\lib\\site-packages\\pandas\\core\\frame.py:5494\u001b[0m, in \u001b[0;36mDataFrame.set_index\u001b[1;34m(self, keys, drop, append, inplace, verify_integrity)\u001b[0m\n\u001b[0;32m   5491\u001b[0m                 missing\u001b[38;5;241m.\u001b[39mappend(col)\n\u001b[0;32m   5493\u001b[0m \u001b[38;5;28;01mif\u001b[39;00m missing:\n\u001b[1;32m-> 5494\u001b[0m     \u001b[38;5;28;01mraise\u001b[39;00m \u001b[38;5;167;01mKeyError\u001b[39;00m(\u001b[38;5;124mf\u001b[39m\u001b[38;5;124m\"\u001b[39m\u001b[38;5;124mNone of \u001b[39m\u001b[38;5;132;01m{\u001b[39;00mmissing\u001b[38;5;132;01m}\u001b[39;00m\u001b[38;5;124m are in the columns\u001b[39m\u001b[38;5;124m\"\u001b[39m)\n\u001b[0;32m   5496\u001b[0m \u001b[38;5;28;01mif\u001b[39;00m inplace:\n\u001b[0;32m   5497\u001b[0m     frame \u001b[38;5;241m=\u001b[39m \u001b[38;5;28mself\u001b[39m\n",
      "\u001b[1;31mKeyError\u001b[0m: \"None of ['DT'] are in the columns\""
     ]
    }
   ],
   "source": [
    "#setting dt as the index\n",
    "df_cf.set_index(\"DT\",inplace=True)"
   ]
  },
  {
   "cell_type": "code",
   "execution_count": 10,
   "id": "b0442153",
   "metadata": {},
   "outputs": [],
   "source": [
    "del df_cf[\"Cash_Flow_from_Investing_Activities\"],df_cf[\"Cash Flow from Operating Activities\"],df_cf[\"Net Cash Flow\"]"
   ]
  },
  {
   "cell_type": "code",
   "execution_count": 11,
   "id": "ce16578e",
   "metadata": {},
   "outputs": [
    {
     "data": {
      "text/plain": [
       "<AxesSubplot:xlabel='DT'>"
      ]
     },
     "execution_count": 11,
     "metadata": {},
     "output_type": "execute_result"
    },
    {
     "data": {
      "image/png": "[encoded data removed]",
      "text/plain": [
       "<Figure size 432x288 with 1 Axes>"
      ]
     },
     "metadata": {
      "needs_background": "light"
     },
     "output_type": "display_data"
    }
   ],
   "source": [
    "df_cf['Cash Flow from Financial Activities'].plot()"
   ]
  },
  {
   "cell_type": "code",
   "execution_count": 12,
   "id": "110cb8e0",
   "metadata": {},
   "outputs": [],
   "source": [
    "from statsmodels.tsa.stattools import adfuller"
   ]
  },
  {
   "cell_type": "code",
   "execution_count": 13,
   "id": "8e424b67",
   "metadata": {},
   "outputs": [],
   "source": [
    "def adf_test(series):\n",
    "    result=adfuller(series)\n",
    "    print('ADF Statistics: {}'.format(result[0]))\n",
    "    print('p- value: {}'.format(result[1]))\n",
    "    if result[1] <= 0.05:\n",
    "        print(\"strong evidence against the null hypothesis, reject the null hypothesis. Data has no unit root and is stationary\")\n",
    "    else:\n",
    "        print(\"weak evidence against null hypothesis, time series has a unit root, indicating it is non-stationary \")"
   ]
  },
  {
   "cell_type": "code",
   "execution_count": 14,
   "id": "5d8b2ff3",
   "metadata": {},
   "outputs": [
    {
     "name": "stdout",
     "output_type": "stream",
     "text": [
      "ADF Statistics: -0.31381453395626624\n",
      "p- value: 0.9235248646164462\n",
      "weak evidence against null hypothesis, time series has a unit root, indicating it is non-stationary \n"
     ]
    }
   ],
   "source": [
    "adf_test(df_cf['Cash Flow from Financial Activities'])"
   ]
  },
  {
   "cell_type": "code",
   "execution_count": 15,
   "id": "82a0fac1",
   "metadata": {},
   "outputs": [],
   "source": [
    "## Use Techniques Differencing\n",
    "df_cf['Cash Flow from Financial Activities1']=df_cf['Cash Flow from Financial Activities']-df_cf['Cash Flow from Financial Activities'].shift(1)"
   ]
  },
  {
   "cell_type": "code",
   "execution_count": 16,
   "id": "20b9b7b3",
   "metadata": {},
   "outputs": [
    {
     "data": {
      "text/html": [
       "<div>\n",
       "<style scoped>\n",
       "    .dataframe tbody tr th:only-of-type {\n",
       "        vertical-align: middle;\n",
       "    }\n",
       "\n",
       "    .dataframe tbody tr th {\n",
       "        vertical-align: top;\n",
       "    }\n",
       "\n",
       "    .dataframe thead th {\n",
       "        text-align: right;\n",
       "    }\n",
       "</style>\n",
       "<table border=\"1\" class=\"dataframe\">\n",
       "  <thead>\n",
       "    <tr style=\"text-align: right;\">\n",
       "      <th></th>\n",
       "      <th>Cash Flow from Financial Activities</th>\n",
       "      <th>Cash Flow from Financial Activities1</th>\n",
       "    </tr>\n",
       "    <tr>\n",
       "      <th>DT</th>\n",
       "      <th></th>\n",
       "      <th></th>\n",
       "    </tr>\n",
       "  </thead>\n",
       "  <tbody>\n",
       "    <tr>\n",
       "      <th>2009-03-31</th>\n",
       "      <td>-975.0</td>\n",
       "      <td>NaN</td>\n",
       "    </tr>\n",
       "    <tr>\n",
       "      <th>2009-06-30</th>\n",
       "      <td>-297.0</td>\n",
       "      <td>678.0</td>\n",
       "    </tr>\n",
       "    <tr>\n",
       "      <th>2009-09-30</th>\n",
       "      <td>-195.0</td>\n",
       "      <td>102.0</td>\n",
       "    </tr>\n",
       "    <tr>\n",
       "      <th>2009-12-31</th>\n",
       "      <td>-1629.0</td>\n",
       "      <td>-1434.0</td>\n",
       "    </tr>\n",
       "    <tr>\n",
       "      <th>2010-03-31</th>\n",
       "      <td>-5326.0</td>\n",
       "      <td>-3697.0</td>\n",
       "    </tr>\n",
       "  </tbody>\n",
       "</table>\n",
       "</div>"
      ],
      "text/plain": [
       "            Cash Flow from Financial Activities  \\\n",
       "DT                                                \n",
       "2009-03-31                               -975.0   \n",
       "2009-06-30                               -297.0   \n",
       "2009-09-30                               -195.0   \n",
       "2009-12-31                              -1629.0   \n",
       "2010-03-31                              -5326.0   \n",
       "\n",
       "            Cash Flow from Financial Activities1  \n",
       "DT                                                \n",
       "2009-03-31                                   NaN  \n",
       "2009-06-30                                 678.0  \n",
       "2009-09-30                                 102.0  \n",
       "2009-12-31                               -1434.0  \n",
       "2010-03-31                               -3697.0  "
      ]
     },
     "execution_count": 16,
     "metadata": {},
     "output_type": "execute_result"
    }
   ],
   "source": [
    "df_cf.head()"
   ]
  },
  {
   "cell_type": "code",
   "execution_count": 17,
   "id": "6dc76ecb",
   "metadata": {},
   "outputs": [
    {
     "name": "stdout",
     "output_type": "stream",
     "text": [
      "ADF Statistics: -5.604525495309633\n",
      "p- value: 1.2429312931616057e-06\n",
      "strong evidence against the null hypothesis, reject the null hypothesis. Data has no unit root and is stationary\n"
     ]
    }
   ],
   "source": [
    "adf_test(df_cf['Cash Flow from Financial Activities1'].dropna())"
   ]
  },
  {
   "cell_type": "code",
   "execution_count": 18,
   "id": "0af7add8",
   "metadata": {},
   "outputs": [],
   "source": [
    "from statsmodels.graphics.tsaplots import plot_acf,plot_pacf"
   ]
  },
  {
   "cell_type": "code",
   "execution_count": 19,
   "id": "a15dfd78",
   "metadata": {},
   "outputs": [
    {
     "data": {
      "image/png": "[encoded data removed]",
      "text/plain": [
       "<Figure size 432x288 with 1 Axes>"
      ]
     },
     "metadata": {
      "needs_background": "light"
     },
     "output_type": "display_data"
    }
   ],
   "source": [
    "acf = plot_acf(df_cf[\"Cash Flow from Financial Activities1\"].dropna())"
   ]
  },
  {
   "cell_type": "code",
   "execution_count": 20,
   "id": "1dc77a46",
   "metadata": {},
   "outputs": [
    {
     "name": "stderr",
     "output_type": "stream",
     "text": [
      "C:\\Users\\Admin\\anaconda3\\lib\\site-packages\\statsmodels\\graphics\\tsaplots.py:348: FutureWarning: The default method 'yw' can produce PACF values outside of the [-1,1] interval. After 0.13, the default will change tounadjusted Yule-Walker ('ywm'). You can use this method now by setting method='ywm'.\n",
      "  warnings.warn(\n"
     ]
    },
    {
     "data": {
      "image/png": "[encoded data removed]",
      "text/plain": [
       "<Figure size 432x288 with 1 Axes>"
      ]
     },
     "metadata": {
      "needs_background": "light"
     },
     "output_type": "display_data"
    }
   ],
   "source": [
    "pacf12 = plot_pacf(df_cf[\"Cash Flow from Financial Activities1\"].dropna())"
   ]
  },
  {
   "cell_type": "code",
   "execution_count": 21,
   "id": "ae360b92",
   "metadata": {},
   "outputs": [],
   "source": [
    "from datetime import datetime,timedelta\n",
    "train_dataset_end=datetime(2019,12,31)\n",
    "test_dataset_end=datetime(2022,6,30)"
   ]
  },
  {
   "cell_type": "code",
   "execution_count": 22,
   "id": "e3eb5f4d",
   "metadata": {},
   "outputs": [],
   "source": [
    "train_data=df_cf[:train_dataset_end]\n",
    "test_data=df_cf[train_dataset_end+timedelta(days=1):test_dataset_end]"
   ]
  },
  {
   "cell_type": "code",
   "execution_count": 23,
   "id": "b74c5226",
   "metadata": {},
   "outputs": [],
   "source": [
    "##prediction\n",
    "pred_start_date=test_data.index[0]\n",
    "pred_end_date=test_data.index[-1]"
   ]
  },
  {
   "cell_type": "code",
   "execution_count": 24,
   "id": "750c6af1",
   "metadata": {},
   "outputs": [
    {
     "data": {
      "text/html": [
       "<div>\n",
       "<style scoped>\n",
       "    .dataframe tbody tr th:only-of-type {\n",
       "        vertical-align: middle;\n",
       "    }\n",
       "\n",
       "    .dataframe tbody tr th {\n",
       "        vertical-align: top;\n",
       "    }\n",
       "\n",
       "    .dataframe thead th {\n",
       "        text-align: right;\n",
       "    }\n",
       "</style>\n",
       "<table border=\"1\" class=\"dataframe\">\n",
       "  <thead>\n",
       "    <tr style=\"text-align: right;\">\n",
       "      <th></th>\n",
       "      <th>Cash Flow from Financial Activities</th>\n",
       "      <th>Cash Flow from Financial Activities1</th>\n",
       "    </tr>\n",
       "    <tr>\n",
       "      <th>DT</th>\n",
       "      <th></th>\n",
       "      <th></th>\n",
       "    </tr>\n",
       "  </thead>\n",
       "  <tbody>\n",
       "    <tr>\n",
       "      <th>2020-03-31</th>\n",
       "      <td>-956.0</td>\n",
       "      <td>-2102.0</td>\n",
       "    </tr>\n",
       "    <tr>\n",
       "      <th>2020-06-30</th>\n",
       "      <td>986.0</td>\n",
       "      <td>1942.0</td>\n",
       "    </tr>\n",
       "    <tr>\n",
       "      <th>2020-09-30</th>\n",
       "      <td>-2580.0</td>\n",
       "      <td>-3566.0</td>\n",
       "    </tr>\n",
       "    <tr>\n",
       "      <th>2020-12-31</th>\n",
       "      <td>990.0</td>\n",
       "      <td>3570.0</td>\n",
       "    </tr>\n",
       "    <tr>\n",
       "      <th>2021-03-31</th>\n",
       "      <td>-832.0</td>\n",
       "      <td>-1822.0</td>\n",
       "    </tr>\n",
       "    <tr>\n",
       "      <th>2021-06-30</th>\n",
       "      <td>-1043.0</td>\n",
       "      <td>-211.0</td>\n",
       "    </tr>\n",
       "    <tr>\n",
       "      <th>2021-09-30</th>\n",
       "      <td>-1409.0</td>\n",
       "      <td>-366.0</td>\n",
       "    </tr>\n",
       "    <tr>\n",
       "      <th>2021-12-31</th>\n",
       "      <td>-1026.0</td>\n",
       "      <td>383.0</td>\n",
       "    </tr>\n",
       "    <tr>\n",
       "      <th>2022-03-31</th>\n",
       "      <td>-1675.0</td>\n",
       "      <td>-649.0</td>\n",
       "    </tr>\n",
       "    <tr>\n",
       "      <th>2022-06-30</th>\n",
       "      <td>1817.0</td>\n",
       "      <td>3492.0</td>\n",
       "    </tr>\n",
       "  </tbody>\n",
       "</table>\n",
       "</div>"
      ],
      "text/plain": [
       "            Cash Flow from Financial Activities  \\\n",
       "DT                                                \n",
       "2020-03-31                               -956.0   \n",
       "2020-06-30                                986.0   \n",
       "2020-09-30                              -2580.0   \n",
       "2020-12-31                                990.0   \n",
       "2021-03-31                               -832.0   \n",
       "2021-06-30                              -1043.0   \n",
       "2021-09-30                              -1409.0   \n",
       "2021-12-31                              -1026.0   \n",
       "2022-03-31                              -1675.0   \n",
       "2022-06-30                               1817.0   \n",
       "\n",
       "            Cash Flow from Financial Activities1  \n",
       "DT                                                \n",
       "2020-03-31                               -2102.0  \n",
       "2020-06-30                                1942.0  \n",
       "2020-09-30                               -3566.0  \n",
       "2020-12-31                                3570.0  \n",
       "2021-03-31                               -1822.0  \n",
       "2021-06-30                                -211.0  \n",
       "2021-09-30                                -366.0  \n",
       "2021-12-31                                 383.0  \n",
       "2022-03-31                                -649.0  \n",
       "2022-06-30                                3492.0  "
      ]
     },
     "execution_count": 24,
     "metadata": {},
     "output_type": "execute_result"
    }
   ],
   "source": [
    "test_data"
   ]
  },
  {
   "cell_type": "code",
   "execution_count": 25,
   "id": "61aaa492",
   "metadata": {},
   "outputs": [],
   "source": [
    "## create a ARIMA model\n",
    "from statsmodels.tsa.arima.model import ARIMA"
   ]
  },
  {
   "cell_type": "code",
   "execution_count": 83,
   "id": "47e1e274",
   "metadata": {},
   "outputs": [
    {
     "name": "stderr",
     "output_type": "stream",
     "text": [
      "C:\\Users\\Admin\\anaconda3\\lib\\site-packages\\statsmodels\\tsa\\base\\tsa_model.py:471: ValueWarning: No frequency information was provided, so inferred frequency Q-DEC will be used.\n",
      "  self._init_dates(dates, freq)\n",
      "C:\\Users\\Admin\\anaconda3\\lib\\site-packages\\statsmodels\\tsa\\base\\tsa_model.py:471: ValueWarning: No frequency information was provided, so inferred frequency Q-DEC will be used.\n",
      "  self._init_dates(dates, freq)\n",
      "C:\\Users\\Admin\\anaconda3\\lib\\site-packages\\statsmodels\\tsa\\base\\tsa_model.py:471: ValueWarning: No frequency information was provided, so inferred frequency Q-DEC will be used.\n",
      "  self._init_dates(dates, freq)\n"
     ]
    }
   ],
   "source": [
    "model_ARIMA=ARIMA(train_data['Cash Flow from Financial Activities1'],order=(7,1,1))"
   ]
  },
  {
   "cell_type": "code",
   "execution_count": 84,
   "id": "8a47ee21",
   "metadata": {},
   "outputs": [
    {
     "name": "stderr",
     "output_type": "stream",
     "text": [
      "C:\\Users\\Admin\\anaconda3\\lib\\site-packages\\statsmodels\\tsa\\statespace\\sarimax.py:966: UserWarning: Non-stationary starting autoregressive parameters found. Using zeros as starting parameters.\n",
      "  warn('Non-stationary starting autoregressive parameters'\n",
      "C:\\Users\\Admin\\anaconda3\\lib\\site-packages\\statsmodels\\base\\model.py:604: ConvergenceWarning: Maximum Likelihood optimization failed to converge. Check mle_retvals\n",
      "  warnings.warn(\"Maximum Likelihood optimization failed to \"\n"
     ]
    }
   ],
   "source": [
    "model_Arima_fit=model_ARIMA.fit()"
   ]
  },
  {
   "cell_type": "code",
   "execution_count": 85,
   "id": "2d248dad",
   "metadata": {
    "scrolled": true
   },
   "outputs": [
    {
     "data": {
      "text/html": [
       "<table class=\"simpletable\">\n",
       "<caption>SARIMAX Results</caption>\n",
       "<tr>\n",
       "  <th>Dep. Variable:</th>   <td>Cash Flow from Financial Activities1</td> <th>  No. Observations:  </th>    <td>44</td>   \n",
       "</tr>\n",
       "<tr>\n",
       "  <th>Model:</th>                      <td>ARIMA(7, 1, 1)</td>            <th>  Log Likelihood     </th> <td>-403.360</td>\n",
       "</tr>\n",
       "<tr>\n",
       "  <th>Date:</th>                      <td>Wed, 28 Sep 2022</td>           <th>  AIC                </th>  <td>824.719</td>\n",
       "</tr>\n",
       "<tr>\n",
       "  <th>Time:</th>                          <td>13:00:50</td>               <th>  BIC                </th>  <td>840.570</td>\n",
       "</tr>\n",
       "<tr>\n",
       "  <th>Sample:</th>                       <td>03-31-2009</td>              <th>  HQIC               </th>  <td>830.565</td>\n",
       "</tr>\n",
       "<tr>\n",
       "  <th></th>                             <td>- 12-31-2019</td>             <th>                     </th>     <td> </td>   \n",
       "</tr>\n",
       "<tr>\n",
       "  <th>Covariance Type:</th>                  <td>opg</td>                 <th>                     </th>     <td> </td>   \n",
       "</tr>\n",
       "</table>\n",
       "<table class=\"simpletable\">\n",
       "<tr>\n",
       "     <td></td>       <th>coef</th>     <th>std err</th>      <th>z</th>      <th>P>|z|</th>  <th>[0.025</th>    <th>0.975]</th>  \n",
       "</tr>\n",
       "<tr>\n",
       "  <th>ar.L1</th>  <td>   -0.9618</td> <td>    0.120</td> <td>   -8.004</td> <td> 0.000</td> <td>   -1.197</td> <td>   -0.726</td>\n",
       "</tr>\n",
       "<tr>\n",
       "  <th>ar.L2</th>  <td>   -0.8448</td> <td>    0.252</td> <td>   -3.353</td> <td> 0.001</td> <td>   -1.339</td> <td>   -0.351</td>\n",
       "</tr>\n",
       "<tr>\n",
       "  <th>ar.L3</th>  <td>   -1.1770</td> <td>    0.358</td> <td>   -3.291</td> <td> 0.001</td> <td>   -1.878</td> <td>   -0.476</td>\n",
       "</tr>\n",
       "<tr>\n",
       "  <th>ar.L4</th>  <td>   -0.8478</td> <td>    0.355</td> <td>   -2.387</td> <td> 0.017</td> <td>   -1.544</td> <td>   -0.152</td>\n",
       "</tr>\n",
       "<tr>\n",
       "  <th>ar.L5</th>  <td>   -0.7412</td> <td>    0.198</td> <td>   -3.736</td> <td> 0.000</td> <td>   -1.130</td> <td>   -0.352</td>\n",
       "</tr>\n",
       "<tr>\n",
       "  <th>ar.L6</th>  <td>   -0.7939</td> <td>    0.115</td> <td>   -6.876</td> <td> 0.000</td> <td>   -1.020</td> <td>   -0.568</td>\n",
       "</tr>\n",
       "<tr>\n",
       "  <th>ar.L7</th>  <td>   -0.4053</td> <td>    0.161</td> <td>   -2.514</td> <td> 0.012</td> <td>   -0.721</td> <td>   -0.089</td>\n",
       "</tr>\n",
       "<tr>\n",
       "  <th>ma.L1</th>  <td>   -0.9999</td> <td>    0.249</td> <td>   -4.021</td> <td> 0.000</td> <td>   -1.487</td> <td>   -0.512</td>\n",
       "</tr>\n",
       "<tr>\n",
       "  <th>sigma2</th> <td> 6.132e+06</td> <td> 4.06e-08</td> <td> 1.51e+14</td> <td> 0.000</td> <td> 6.13e+06</td> <td> 6.13e+06</td>\n",
       "</tr>\n",
       "</table>\n",
       "<table class=\"simpletable\">\n",
       "<tr>\n",
       "  <th>Ljung-Box (L1) (Q):</th>     <td>0.02</td> <th>  Jarque-Bera (JB):  </th> <td>15.48</td>\n",
       "</tr>\n",
       "<tr>\n",
       "  <th>Prob(Q):</th>                <td>0.90</td> <th>  Prob(JB):          </th> <td>0.00</td> \n",
       "</tr>\n",
       "<tr>\n",
       "  <th>Heteroskedasticity (H):</th> <td>0.15</td> <th>  Skew:              </th> <td>-0.60</td>\n",
       "</tr>\n",
       "<tr>\n",
       "  <th>Prob(H) (two-sided):</th>    <td>0.00</td> <th>  Kurtosis:          </th> <td>5.68</td> \n",
       "</tr>\n",
       "</table><br/><br/>Warnings:<br/>[1] Covariance matrix calculated using the outer product of gradients (complex-step).<br/>[2] Covariance matrix is singular or near-singular, with condition number 1.42e+30. Standard errors may be unstable."
      ],
      "text/plain": [
       "<class 'statsmodels.iolib.summary.Summary'>\n",
       "\"\"\"\n",
       "                                        SARIMAX Results                                         \n",
       "================================================================================================\n",
       "Dep. Variable:     Cash Flow from Financial Activities1   No. Observations:                   44\n",
       "Model:                                   ARIMA(7, 1, 1)   Log Likelihood                -403.360\n",
       "Date:                                  Wed, 28 Sep 2022   AIC                            824.719\n",
       "Time:                                          13:00:50   BIC                            840.570\n",
       "Sample:                                      03-31-2009   HQIC                           830.565\n",
       "                                           - 12-31-2019                                         \n",
       "Covariance Type:                                    opg                                         \n",
       "==============================================================================\n",
       "                 coef    std err          z      P>|z|      [0.025      0.975]\n",
       "------------------------------------------------------------------------------\n",
       "ar.L1         -0.9618      0.120     -8.004      0.000      -1.197      -0.726\n",
       "ar.L2         -0.8448      0.252     -3.353      0.001      -1.339      -0.351\n",
       "ar.L3         -1.1770      0.358     -3.291      0.001      -1.878      -0.476\n",
       "ar.L4         -0.8478      0.355     -2.387      0.017      -1.544      -0.152\n",
       "ar.L5         -0.7412      0.198     -3.736      0.000      -1.130      -0.352\n",
       "ar.L6         -0.7939      0.115     -6.876      0.000      -1.020      -0.568\n",
       "ar.L7         -0.4053      0.161     -2.514      0.012      -0.721      -0.089\n",
       "ma.L1         -0.9999      0.249     -4.021      0.000      -1.487      -0.512\n",
       "sigma2      6.132e+06   4.06e-08   1.51e+14      0.000    6.13e+06    6.13e+06\n",
       "===================================================================================\n",
       "Ljung-Box (L1) (Q):                   0.02   Jarque-Bera (JB):                15.48\n",
       "Prob(Q):                              0.90   Prob(JB):                         0.00\n",
       "Heteroskedasticity (H):               0.15   Skew:                            -0.60\n",
       "Prob(H) (two-sided):                  0.00   Kurtosis:                         5.68\n",
       "===================================================================================\n",
       "\n",
       "Warnings:\n",
       "[1] Covariance matrix calculated using the outer product of gradients (complex-step).\n",
       "[2] Covariance matrix is singular or near-singular, with condition number 1.42e+30. Standard errors may be unstable.\n",
       "\"\"\""
      ]
     },
     "execution_count": 85,
     "metadata": {},
     "output_type": "execute_result"
    }
   ],
   "source": [
    "model_Arima_fit.summary()"
   ]
  },
  {
   "cell_type": "code",
   "execution_count": 86,
   "id": "8b0d6df4",
   "metadata": {},
   "outputs": [
    {
     "name": "stdout",
     "output_type": "stream",
     "text": [
      "2020-03-31 00:00:00\n",
      "2022-06-30 00:00:00\n"
     ]
    }
   ],
   "source": [
    "##prediction\n",
    "pred_start_date=test_data.index[0]\n",
    "pred_end_date=test_data.index[-1]\n",
    "print(pred_start_date)\n",
    "print(pred_end_date)"
   ]
  },
  {
   "cell_type": "code",
   "execution_count": 87,
   "id": "4a44ffea",
   "metadata": {},
   "outputs": [],
   "source": [
    "pred=model_Arima_fit.predict(start=pred_start_date,end=pred_end_date)\n",
    "residuals=test_data['Cash Flow from Financial Activities1']-pred"
   ]
  },
  {
   "cell_type": "code",
   "execution_count": 88,
   "id": "64203025",
   "metadata": {},
   "outputs": [
    {
     "data": {
      "text/plain": [
       "2020-03-31   -1957.421516\n",
       "2020-06-30    2530.414309\n",
       "2020-09-30   -4386.351420\n",
       "2020-12-31    2436.262017\n",
       "2021-03-31     222.322368\n",
       "2021-06-30    1155.939658\n",
       "2021-09-30   -2201.114324\n",
       "2021-12-31    1264.508518\n",
       "2022-03-31     160.546616\n",
       "2022-06-30     482.392019\n",
       "Freq: Q-DEC, Name: predicted_mean, dtype: float64"
      ]
     },
     "execution_count": 88,
     "metadata": {},
     "output_type": "execute_result"
    }
   ],
   "source": [
    "pred"
   ]
  },
  {
   "cell_type": "code",
   "execution_count": 89,
   "id": "123c76a7",
   "metadata": {},
   "outputs": [
    {
     "data": {
      "text/plain": [
       "DT\n",
       "2020-03-31    -144.578484\n",
       "2020-06-30    -588.414309\n",
       "2020-09-30     820.351420\n",
       "2020-12-31    1133.737983\n",
       "2021-03-31   -2044.322368\n",
       "2021-06-30   -1366.939658\n",
       "2021-09-30    1835.114324\n",
       "2021-12-31    -881.508518\n",
       "2022-03-31    -809.546616\n",
       "2022-06-30    3009.607981\n",
       "dtype: float64"
      ]
     },
     "execution_count": 89,
     "metadata": {},
     "output_type": "execute_result"
    }
   ],
   "source": [
    "residuals"
   ]
  },
  {
   "cell_type": "code",
   "execution_count": 90,
   "id": "b0d66cd9",
   "metadata": {},
   "outputs": [
    {
     "data": {
      "text/plain": [
       "<AxesSubplot:ylabel='Density'>"
      ]
     },
     "execution_count": 90,
     "metadata": {},
     "output_type": "execute_result"
    },
    {
     "data": {
      "image/png": "[encoded data removed]",
      "text/plain": [
       "<Figure size 432x288 with 1 Axes>"
      ]
     },
     "metadata": {
      "needs_background": "light"
     },
     "output_type": "display_data"
    }
   ],
   "source": [
    "model_Arima_fit.resid.plot(kind='kde')"
   ]
  },
  {
   "cell_type": "code",
   "execution_count": 91,
   "id": "7540708f",
   "metadata": {},
   "outputs": [
    {
     "name": "stderr",
     "output_type": "stream",
     "text": [
      "C:\\Users\\Admin\\AppData\\Local\\Temp\\ipykernel_2488\\95659616.py:1: SettingWithCopyWarning: \n",
      "A value is trying to be set on a copy of a slice from a DataFrame.\n",
      "Try using .loc[row_indexer,col_indexer] = value instead\n",
      "\n",
      "See the caveats in the documentation: https://pandas.pydata.org/pandas-docs/stable/user_guide/indexing.html#returning-a-view-versus-a-copy\n",
      "  test_data['Predicted_ARIMA']=pred\n"
     ]
    }
   ],
   "source": [
    "test_data['Predicted_ARIMA']=pred"
   ]
  },
  {
   "cell_type": "code",
   "execution_count": 92,
   "id": "e26d7117",
   "metadata": {
    "scrolled": true
   },
   "outputs": [
    {
     "data": {
      "text/plain": [
       "<AxesSubplot:xlabel='DT'>"
      ]
     },
     "execution_count": 92,
     "metadata": {},
     "output_type": "execute_result"
    },
    {
     "data": {
      "image/png": "[encoded data removed]",
      "text/plain": [
       "<Figure size 1080x360 with 1 Axes>"
      ]
     },
     "metadata": {
      "needs_background": "light"
     },
     "output_type": "display_data"
    }
   ],
   "source": [
    "test_data[['Cash Flow from Financial Activities1','Predicted_ARIMA']].plot(figsize=(15,5))"
   ]
  },
  {
   "cell_type": "code",
   "execution_count": 93,
   "id": "1de8ed67",
   "metadata": {},
   "outputs": [
    {
     "data": {
      "text/html": [
       "<div>\n",
       "<style scoped>\n",
       "    .dataframe tbody tr th:only-of-type {\n",
       "        vertical-align: middle;\n",
       "    }\n",
       "\n",
       "    .dataframe tbody tr th {\n",
       "        vertical-align: top;\n",
       "    }\n",
       "\n",
       "    .dataframe thead th {\n",
       "        text-align: right;\n",
       "    }\n",
       "</style>\n",
       "<table border=\"1\" class=\"dataframe\">\n",
       "  <thead>\n",
       "    <tr style=\"text-align: right;\">\n",
       "      <th></th>\n",
       "      <th>Cash Flow from Financial Activities</th>\n",
       "      <th>Cash Flow from Financial Activities1</th>\n",
       "      <th>Predicted_ARIMA</th>\n",
       "    </tr>\n",
       "    <tr>\n",
       "      <th>DT</th>\n",
       "      <th></th>\n",
       "      <th></th>\n",
       "      <th></th>\n",
       "    </tr>\n",
       "  </thead>\n",
       "  <tbody>\n",
       "    <tr>\n",
       "      <th>2020-03-31</th>\n",
       "      <td>-956.0</td>\n",
       "      <td>-2102.0</td>\n",
       "      <td>-1957.421516</td>\n",
       "    </tr>\n",
       "    <tr>\n",
       "      <th>2020-06-30</th>\n",
       "      <td>986.0</td>\n",
       "      <td>1942.0</td>\n",
       "      <td>2530.414309</td>\n",
       "    </tr>\n",
       "    <tr>\n",
       "      <th>2020-09-30</th>\n",
       "      <td>-2580.0</td>\n",
       "      <td>-3566.0</td>\n",
       "      <td>-4386.351420</td>\n",
       "    </tr>\n",
       "    <tr>\n",
       "      <th>2020-12-31</th>\n",
       "      <td>990.0</td>\n",
       "      <td>3570.0</td>\n",
       "      <td>2436.262017</td>\n",
       "    </tr>\n",
       "    <tr>\n",
       "      <th>2021-03-31</th>\n",
       "      <td>-832.0</td>\n",
       "      <td>-1822.0</td>\n",
       "      <td>222.322368</td>\n",
       "    </tr>\n",
       "    <tr>\n",
       "      <th>2021-06-30</th>\n",
       "      <td>-1043.0</td>\n",
       "      <td>-211.0</td>\n",
       "      <td>1155.939658</td>\n",
       "    </tr>\n",
       "    <tr>\n",
       "      <th>2021-09-30</th>\n",
       "      <td>-1409.0</td>\n",
       "      <td>-366.0</td>\n",
       "      <td>-2201.114324</td>\n",
       "    </tr>\n",
       "    <tr>\n",
       "      <th>2021-12-31</th>\n",
       "      <td>-1026.0</td>\n",
       "      <td>383.0</td>\n",
       "      <td>1264.508518</td>\n",
       "    </tr>\n",
       "    <tr>\n",
       "      <th>2022-03-31</th>\n",
       "      <td>-1675.0</td>\n",
       "      <td>-649.0</td>\n",
       "      <td>160.546616</td>\n",
       "    </tr>\n",
       "    <tr>\n",
       "      <th>2022-06-30</th>\n",
       "      <td>1817.0</td>\n",
       "      <td>3492.0</td>\n",
       "      <td>482.392019</td>\n",
       "    </tr>\n",
       "  </tbody>\n",
       "</table>\n",
       "</div>"
      ],
      "text/plain": [
       "            Cash Flow from Financial Activities  \\\n",
       "DT                                                \n",
       "2020-03-31                               -956.0   \n",
       "2020-06-30                                986.0   \n",
       "2020-09-30                              -2580.0   \n",
       "2020-12-31                                990.0   \n",
       "2021-03-31                               -832.0   \n",
       "2021-06-30                              -1043.0   \n",
       "2021-09-30                              -1409.0   \n",
       "2021-12-31                              -1026.0   \n",
       "2022-03-31                              -1675.0   \n",
       "2022-06-30                               1817.0   \n",
       "\n",
       "            Cash Flow from Financial Activities1  Predicted_ARIMA  \n",
       "DT                                                                 \n",
       "2020-03-31                               -2102.0     -1957.421516  \n",
       "2020-06-30                                1942.0      2530.414309  \n",
       "2020-09-30                               -3566.0     -4386.351420  \n",
       "2020-12-31                                3570.0      2436.262017  \n",
       "2021-03-31                               -1822.0       222.322368  \n",
       "2021-06-30                                -211.0      1155.939658  \n",
       "2021-09-30                                -366.0     -2201.114324  \n",
       "2021-12-31                                 383.0      1264.508518  \n",
       "2022-03-31                                -649.0       160.546616  \n",
       "2022-06-30                                3492.0       482.392019  "
      ]
     },
     "execution_count": 93,
     "metadata": {},
     "output_type": "execute_result"
    }
   ],
   "source": [
    "test_data"
   ]
  },
  {
   "cell_type": "code",
   "execution_count": 94,
   "id": "22860da8",
   "metadata": {},
   "outputs": [
    {
     "data": {
      "text/plain": [
       "<AxesSubplot:xlabel='DT'>"
      ]
     },
     "execution_count": 94,
     "metadata": {},
     "output_type": "execute_result"
    },
    {
     "data": {
      "image/png": "[encoded data removed]",
      "text/plain": [
       "<Figure size 1080x360 with 1 Axes>"
      ]
     },
     "metadata": {
      "needs_background": "light"
     },
     "output_type": "display_data"
    }
   ],
   "source": [
    "test_data[['Cash Flow from Financial Activities1','Predicted_ARIMA']].plot.bar(figsize=(15,5))"
   ]
  },
  {
   "cell_type": "code",
   "execution_count": 95,
   "id": "c1eb2446",
   "metadata": {},
   "outputs": [],
   "source": [
    "from pandas.tseries.offsets import DateOffset\n",
    "future_dates=[test_data.index[-1]+ DateOffset(months=x)for x in range(0,24)]"
   ]
  },
  {
   "cell_type": "code",
   "execution_count": 96,
   "id": "f403a2ae",
   "metadata": {},
   "outputs": [
    {
     "data": {
      "text/plain": [
       "[Timestamp('2022-06-30 00:00:00'),\n",
       " Timestamp('2022-07-30 00:00:00'),\n",
       " Timestamp('2022-08-30 00:00:00'),\n",
       " Timestamp('2022-09-30 00:00:00'),\n",
       " Timestamp('2022-10-30 00:00:00'),\n",
       " Timestamp('2022-11-30 00:00:00'),\n",
       " Timestamp('2022-12-30 00:00:00'),\n",
       " Timestamp('2023-01-30 00:00:00'),\n",
       " Timestamp('2023-02-28 00:00:00'),\n",
       " Timestamp('2023-03-30 00:00:00'),\n",
       " Timestamp('2023-04-30 00:00:00'),\n",
       " Timestamp('2023-05-30 00:00:00'),\n",
       " Timestamp('2023-06-30 00:00:00'),\n",
       " Timestamp('2023-07-30 00:00:00'),\n",
       " Timestamp('2023-08-30 00:00:00'),\n",
       " Timestamp('2023-09-30 00:00:00'),\n",
       " Timestamp('2023-10-30 00:00:00'),\n",
       " Timestamp('2023-11-30 00:00:00'),\n",
       " Timestamp('2023-12-30 00:00:00'),\n",
       " Timestamp('2024-01-30 00:00:00'),\n",
       " Timestamp('2024-02-29 00:00:00'),\n",
       " Timestamp('2024-03-30 00:00:00'),\n",
       " Timestamp('2024-04-30 00:00:00'),\n",
       " Timestamp('2024-05-30 00:00:00')]"
      ]
     },
     "execution_count": 96,
     "metadata": {},
     "output_type": "execute_result"
    }
   ],
   "source": [
    "future_dates"
   ]
  },
  {
   "cell_type": "code",
   "execution_count": 97,
   "id": "c02ff542",
   "metadata": {},
   "outputs": [],
   "source": [
    "future_datest_df=pd.DataFrame(index=future_dates[1:],columns=test_data.columns)"
   ]
  },
  {
   "cell_type": "code",
   "execution_count": 98,
   "id": "02f3708d",
   "metadata": {},
   "outputs": [
    {
     "data": {
      "text/html": [
       "<div>\n",
       "<style scoped>\n",
       "    .dataframe tbody tr th:only-of-type {\n",
       "        vertical-align: middle;\n",
       "    }\n",
       "\n",
       "    .dataframe tbody tr th {\n",
       "        vertical-align: top;\n",
       "    }\n",
       "\n",
       "    .dataframe thead th {\n",
       "        text-align: right;\n",
       "    }\n",
       "</style>\n",
       "<table border=\"1\" class=\"dataframe\">\n",
       "  <thead>\n",
       "    <tr style=\"text-align: right;\">\n",
       "      <th></th>\n",
       "      <th>Cash Flow from Financial Activities</th>\n",
       "      <th>Cash Flow from Financial Activities1</th>\n",
       "      <th>Predicted_ARIMA</th>\n",
       "    </tr>\n",
       "  </thead>\n",
       "  <tbody>\n",
       "    <tr>\n",
       "      <th>2022-07-30</th>\n",
       "      <td>NaN</td>\n",
       "      <td>NaN</td>\n",
       "      <td>NaN</td>\n",
       "    </tr>\n",
       "    <tr>\n",
       "      <th>2022-08-30</th>\n",
       "      <td>NaN</td>\n",
       "      <td>NaN</td>\n",
       "      <td>NaN</td>\n",
       "    </tr>\n",
       "    <tr>\n",
       "      <th>2022-09-30</th>\n",
       "      <td>NaN</td>\n",
       "      <td>NaN</td>\n",
       "      <td>NaN</td>\n",
       "    </tr>\n",
       "    <tr>\n",
       "      <th>2022-10-30</th>\n",
       "      <td>NaN</td>\n",
       "      <td>NaN</td>\n",
       "      <td>NaN</td>\n",
       "    </tr>\n",
       "    <tr>\n",
       "      <th>2022-11-30</th>\n",
       "      <td>NaN</td>\n",
       "      <td>NaN</td>\n",
       "      <td>NaN</td>\n",
       "    </tr>\n",
       "    <tr>\n",
       "      <th>2022-12-30</th>\n",
       "      <td>NaN</td>\n",
       "      <td>NaN</td>\n",
       "      <td>NaN</td>\n",
       "    </tr>\n",
       "    <tr>\n",
       "      <th>2023-01-30</th>\n",
       "      <td>NaN</td>\n",
       "      <td>NaN</td>\n",
       "      <td>NaN</td>\n",
       "    </tr>\n",
       "    <tr>\n",
       "      <th>2023-02-28</th>\n",
       "      <td>NaN</td>\n",
       "      <td>NaN</td>\n",
       "      <td>NaN</td>\n",
       "    </tr>\n",
       "    <tr>\n",
       "      <th>2023-03-30</th>\n",
       "      <td>NaN</td>\n",
       "      <td>NaN</td>\n",
       "      <td>NaN</td>\n",
       "    </tr>\n",
       "    <tr>\n",
       "      <th>2023-04-30</th>\n",
       "      <td>NaN</td>\n",
       "      <td>NaN</td>\n",
       "      <td>NaN</td>\n",
       "    </tr>\n",
       "    <tr>\n",
       "      <th>2023-05-30</th>\n",
       "      <td>NaN</td>\n",
       "      <td>NaN</td>\n",
       "      <td>NaN</td>\n",
       "    </tr>\n",
       "    <tr>\n",
       "      <th>2023-06-30</th>\n",
       "      <td>NaN</td>\n",
       "      <td>NaN</td>\n",
       "      <td>NaN</td>\n",
       "    </tr>\n",
       "    <tr>\n",
       "      <th>2023-07-30</th>\n",
       "      <td>NaN</td>\n",
       "      <td>NaN</td>\n",
       "      <td>NaN</td>\n",
       "    </tr>\n",
       "    <tr>\n",
       "      <th>2023-08-30</th>\n",
       "      <td>NaN</td>\n",
       "      <td>NaN</td>\n",
       "      <td>NaN</td>\n",
       "    </tr>\n",
       "    <tr>\n",
       "      <th>2023-09-30</th>\n",
       "      <td>NaN</td>\n",
       "      <td>NaN</td>\n",
       "      <td>NaN</td>\n",
       "    </tr>\n",
       "    <tr>\n",
       "      <th>2023-10-30</th>\n",
       "      <td>NaN</td>\n",
       "      <td>NaN</td>\n",
       "      <td>NaN</td>\n",
       "    </tr>\n",
       "    <tr>\n",
       "      <th>2023-11-30</th>\n",
       "      <td>NaN</td>\n",
       "      <td>NaN</td>\n",
       "      <td>NaN</td>\n",
       "    </tr>\n",
       "    <tr>\n",
       "      <th>2023-12-30</th>\n",
       "      <td>NaN</td>\n",
       "      <td>NaN</td>\n",
       "      <td>NaN</td>\n",
       "    </tr>\n",
       "    <tr>\n",
       "      <th>2024-01-30</th>\n",
       "      <td>NaN</td>\n",
       "      <td>NaN</td>\n",
       "      <td>NaN</td>\n",
       "    </tr>\n",
       "    <tr>\n",
       "      <th>2024-02-29</th>\n",
       "      <td>NaN</td>\n",
       "      <td>NaN</td>\n",
       "      <td>NaN</td>\n",
       "    </tr>\n",
       "    <tr>\n",
       "      <th>2024-03-30</th>\n",
       "      <td>NaN</td>\n",
       "      <td>NaN</td>\n",
       "      <td>NaN</td>\n",
       "    </tr>\n",
       "    <tr>\n",
       "      <th>2024-04-30</th>\n",
       "      <td>NaN</td>\n",
       "      <td>NaN</td>\n",
       "      <td>NaN</td>\n",
       "    </tr>\n",
       "    <tr>\n",
       "      <th>2024-05-30</th>\n",
       "      <td>NaN</td>\n",
       "      <td>NaN</td>\n",
       "      <td>NaN</td>\n",
       "    </tr>\n",
       "  </tbody>\n",
       "</table>\n",
       "</div>"
      ],
      "text/plain": [
       "           Cash Flow from Financial Activities  \\\n",
       "2022-07-30                                 NaN   \n",
       "2022-08-30                                 NaN   \n",
       "2022-09-30                                 NaN   \n",
       "2022-10-30                                 NaN   \n",
       "2022-11-30                                 NaN   \n",
       "2022-12-30                                 NaN   \n",
       "2023-01-30                                 NaN   \n",
       "2023-02-28                                 NaN   \n",
       "2023-03-30                                 NaN   \n",
       "2023-04-30                                 NaN   \n",
       "2023-05-30                                 NaN   \n",
       "2023-06-30                                 NaN   \n",
       "2023-07-30                                 NaN   \n",
       "2023-08-30                                 NaN   \n",
       "2023-09-30                                 NaN   \n",
       "2023-10-30                                 NaN   \n",
       "2023-11-30                                 NaN   \n",
       "2023-12-30                                 NaN   \n",
       "2024-01-30                                 NaN   \n",
       "2024-02-29                                 NaN   \n",
       "2024-03-30                                 NaN   \n",
       "2024-04-30                                 NaN   \n",
       "2024-05-30                                 NaN   \n",
       "\n",
       "           Cash Flow from Financial Activities1 Predicted_ARIMA  \n",
       "2022-07-30                                  NaN             NaN  \n",
       "2022-08-30                                  NaN             NaN  \n",
       "2022-09-30                                  NaN             NaN  \n",
       "2022-10-30                                  NaN             NaN  \n",
       "2022-11-30                                  NaN             NaN  \n",
       "2022-12-30                                  NaN             NaN  \n",
       "2023-01-30                                  NaN             NaN  \n",
       "2023-02-28                                  NaN             NaN  \n",
       "2023-03-30                                  NaN             NaN  \n",
       "2023-04-30                                  NaN             NaN  \n",
       "2023-05-30                                  NaN             NaN  \n",
       "2023-06-30                                  NaN             NaN  \n",
       "2023-07-30                                  NaN             NaN  \n",
       "2023-08-30                                  NaN             NaN  \n",
       "2023-09-30                                  NaN             NaN  \n",
       "2023-10-30                                  NaN             NaN  \n",
       "2023-11-30                                  NaN             NaN  \n",
       "2023-12-30                                  NaN             NaN  \n",
       "2024-01-30                                  NaN             NaN  \n",
       "2024-02-29                                  NaN             NaN  \n",
       "2024-03-30                                  NaN             NaN  \n",
       "2024-04-30                                  NaN             NaN  \n",
       "2024-05-30                                  NaN             NaN  "
      ]
     },
     "execution_count": 98,
     "metadata": {},
     "output_type": "execute_result"
    }
   ],
   "source": [
    "future_datest_df"
   ]
  },
  {
   "cell_type": "code",
   "execution_count": 99,
   "id": "8a4e35f8",
   "metadata": {},
   "outputs": [],
   "source": [
    "future_df=pd.concat([test_data,future_datest_df])"
   ]
  },
  {
   "cell_type": "code",
   "execution_count": 100,
   "id": "78fe8cad",
   "metadata": {},
   "outputs": [
    {
     "data": {
      "text/html": [
       "<div>\n",
       "<style scoped>\n",
       "    .dataframe tbody tr th:only-of-type {\n",
       "        vertical-align: middle;\n",
       "    }\n",
       "\n",
       "    .dataframe tbody tr th {\n",
       "        vertical-align: top;\n",
       "    }\n",
       "\n",
       "    .dataframe thead th {\n",
       "        text-align: right;\n",
       "    }\n",
       "</style>\n",
       "<table border=\"1\" class=\"dataframe\">\n",
       "  <thead>\n",
       "    <tr style=\"text-align: right;\">\n",
       "      <th></th>\n",
       "      <th>Cash Flow from Financial Activities</th>\n",
       "      <th>Cash Flow from Financial Activities1</th>\n",
       "      <th>Predicted_ARIMA</th>\n",
       "    </tr>\n",
       "  </thead>\n",
       "  <tbody>\n",
       "    <tr>\n",
       "      <th>2020-03-31</th>\n",
       "      <td>-956.0</td>\n",
       "      <td>-2102.0</td>\n",
       "      <td>-1957.421516</td>\n",
       "    </tr>\n",
       "    <tr>\n",
       "      <th>2020-06-30</th>\n",
       "      <td>986.0</td>\n",
       "      <td>1942.0</td>\n",
       "      <td>2530.414309</td>\n",
       "    </tr>\n",
       "    <tr>\n",
       "      <th>2020-09-30</th>\n",
       "      <td>-2580.0</td>\n",
       "      <td>-3566.0</td>\n",
       "      <td>-4386.35142</td>\n",
       "    </tr>\n",
       "    <tr>\n",
       "      <th>2020-12-31</th>\n",
       "      <td>990.0</td>\n",
       "      <td>3570.0</td>\n",
       "      <td>2436.262017</td>\n",
       "    </tr>\n",
       "    <tr>\n",
       "      <th>2021-03-31</th>\n",
       "      <td>-832.0</td>\n",
       "      <td>-1822.0</td>\n",
       "      <td>222.322368</td>\n",
       "    </tr>\n",
       "    <tr>\n",
       "      <th>2021-06-30</th>\n",
       "      <td>-1043.0</td>\n",
       "      <td>-211.0</td>\n",
       "      <td>1155.939658</td>\n",
       "    </tr>\n",
       "    <tr>\n",
       "      <th>2021-09-30</th>\n",
       "      <td>-1409.0</td>\n",
       "      <td>-366.0</td>\n",
       "      <td>-2201.114324</td>\n",
       "    </tr>\n",
       "    <tr>\n",
       "      <th>2021-12-31</th>\n",
       "      <td>-1026.0</td>\n",
       "      <td>383.0</td>\n",
       "      <td>1264.508518</td>\n",
       "    </tr>\n",
       "    <tr>\n",
       "      <th>2022-03-31</th>\n",
       "      <td>-1675.0</td>\n",
       "      <td>-649.0</td>\n",
       "      <td>160.546616</td>\n",
       "    </tr>\n",
       "    <tr>\n",
       "      <th>2022-06-30</th>\n",
       "      <td>1817.0</td>\n",
       "      <td>3492.0</td>\n",
       "      <td>482.392019</td>\n",
       "    </tr>\n",
       "    <tr>\n",
       "      <th>2022-07-30</th>\n",
       "      <td>NaN</td>\n",
       "      <td>NaN</td>\n",
       "      <td>NaN</td>\n",
       "    </tr>\n",
       "    <tr>\n",
       "      <th>2022-08-30</th>\n",
       "      <td>NaN</td>\n",
       "      <td>NaN</td>\n",
       "      <td>NaN</td>\n",
       "    </tr>\n",
       "    <tr>\n",
       "      <th>2022-09-30</th>\n",
       "      <td>NaN</td>\n",
       "      <td>NaN</td>\n",
       "      <td>NaN</td>\n",
       "    </tr>\n",
       "    <tr>\n",
       "      <th>2022-10-30</th>\n",
       "      <td>NaN</td>\n",
       "      <td>NaN</td>\n",
       "      <td>NaN</td>\n",
       "    </tr>\n",
       "    <tr>\n",
       "      <th>2022-11-30</th>\n",
       "      <td>NaN</td>\n",
       "      <td>NaN</td>\n",
       "      <td>NaN</td>\n",
       "    </tr>\n",
       "    <tr>\n",
       "      <th>2022-12-30</th>\n",
       "      <td>NaN</td>\n",
       "      <td>NaN</td>\n",
       "      <td>NaN</td>\n",
       "    </tr>\n",
       "    <tr>\n",
       "      <th>2023-01-30</th>\n",
       "      <td>NaN</td>\n",
       "      <td>NaN</td>\n",
       "      <td>NaN</td>\n",
       "    </tr>\n",
       "    <tr>\n",
       "      <th>2023-02-28</th>\n",
       "      <td>NaN</td>\n",
       "      <td>NaN</td>\n",
       "      <td>NaN</td>\n",
       "    </tr>\n",
       "    <tr>\n",
       "      <th>2023-03-30</th>\n",
       "      <td>NaN</td>\n",
       "      <td>NaN</td>\n",
       "      <td>NaN</td>\n",
       "    </tr>\n",
       "    <tr>\n",
       "      <th>2023-04-30</th>\n",
       "      <td>NaN</td>\n",
       "      <td>NaN</td>\n",
       "      <td>NaN</td>\n",
       "    </tr>\n",
       "    <tr>\n",
       "      <th>2023-05-30</th>\n",
       "      <td>NaN</td>\n",
       "      <td>NaN</td>\n",
       "      <td>NaN</td>\n",
       "    </tr>\n",
       "    <tr>\n",
       "      <th>2023-06-30</th>\n",
       "      <td>NaN</td>\n",
       "      <td>NaN</td>\n",
       "      <td>NaN</td>\n",
       "    </tr>\n",
       "    <tr>\n",
       "      <th>2023-07-30</th>\n",
       "      <td>NaN</td>\n",
       "      <td>NaN</td>\n",
       "      <td>NaN</td>\n",
       "    </tr>\n",
       "    <tr>\n",
       "      <th>2023-08-30</th>\n",
       "      <td>NaN</td>\n",
       "      <td>NaN</td>\n",
       "      <td>NaN</td>\n",
       "    </tr>\n",
       "    <tr>\n",
       "      <th>2023-09-30</th>\n",
       "      <td>NaN</td>\n",
       "      <td>NaN</td>\n",
       "      <td>NaN</td>\n",
       "    </tr>\n",
       "    <tr>\n",
       "      <th>2023-10-30</th>\n",
       "      <td>NaN</td>\n",
       "      <td>NaN</td>\n",
       "      <td>NaN</td>\n",
       "    </tr>\n",
       "    <tr>\n",
       "      <th>2023-11-30</th>\n",
       "      <td>NaN</td>\n",
       "      <td>NaN</td>\n",
       "      <td>NaN</td>\n",
       "    </tr>\n",
       "    <tr>\n",
       "      <th>2023-12-30</th>\n",
       "      <td>NaN</td>\n",
       "      <td>NaN</td>\n",
       "      <td>NaN</td>\n",
       "    </tr>\n",
       "    <tr>\n",
       "      <th>2024-01-30</th>\n",
       "      <td>NaN</td>\n",
       "      <td>NaN</td>\n",
       "      <td>NaN</td>\n",
       "    </tr>\n",
       "    <tr>\n",
       "      <th>2024-02-29</th>\n",
       "      <td>NaN</td>\n",
       "      <td>NaN</td>\n",
       "      <td>NaN</td>\n",
       "    </tr>\n",
       "    <tr>\n",
       "      <th>2024-03-30</th>\n",
       "      <td>NaN</td>\n",
       "      <td>NaN</td>\n",
       "      <td>NaN</td>\n",
       "    </tr>\n",
       "    <tr>\n",
       "      <th>2024-04-30</th>\n",
       "      <td>NaN</td>\n",
       "      <td>NaN</td>\n",
       "      <td>NaN</td>\n",
       "    </tr>\n",
       "    <tr>\n",
       "      <th>2024-05-30</th>\n",
       "      <td>NaN</td>\n",
       "      <td>NaN</td>\n",
       "      <td>NaN</td>\n",
       "    </tr>\n",
       "  </tbody>\n",
       "</table>\n",
       "</div>"
      ],
      "text/plain": [
       "           Cash Flow from Financial Activities  \\\n",
       "2020-03-31                              -956.0   \n",
       "2020-06-30                               986.0   \n",
       "2020-09-30                             -2580.0   \n",
       "2020-12-31                               990.0   \n",
       "2021-03-31                              -832.0   \n",
       "2021-06-30                             -1043.0   \n",
       "2021-09-30                             -1409.0   \n",
       "2021-12-31                             -1026.0   \n",
       "2022-03-31                             -1675.0   \n",
       "2022-06-30                              1817.0   \n",
       "2022-07-30                                 NaN   \n",
       "2022-08-30                                 NaN   \n",
       "2022-09-30                                 NaN   \n",
       "2022-10-30                                 NaN   \n",
       "2022-11-30                                 NaN   \n",
       "2022-12-30                                 NaN   \n",
       "2023-01-30                                 NaN   \n",
       "2023-02-28                                 NaN   \n",
       "2023-03-30                                 NaN   \n",
       "2023-04-30                                 NaN   \n",
       "2023-05-30                                 NaN   \n",
       "2023-06-30                                 NaN   \n",
       "2023-07-30                                 NaN   \n",
       "2023-08-30                                 NaN   \n",
       "2023-09-30                                 NaN   \n",
       "2023-10-30                                 NaN   \n",
       "2023-11-30                                 NaN   \n",
       "2023-12-30                                 NaN   \n",
       "2024-01-30                                 NaN   \n",
       "2024-02-29                                 NaN   \n",
       "2024-03-30                                 NaN   \n",
       "2024-04-30                                 NaN   \n",
       "2024-05-30                                 NaN   \n",
       "\n",
       "           Cash Flow from Financial Activities1 Predicted_ARIMA  \n",
       "2020-03-31                              -2102.0    -1957.421516  \n",
       "2020-06-30                               1942.0     2530.414309  \n",
       "2020-09-30                              -3566.0     -4386.35142  \n",
       "2020-12-31                               3570.0     2436.262017  \n",
       "2021-03-31                              -1822.0      222.322368  \n",
       "2021-06-30                               -211.0     1155.939658  \n",
       "2021-09-30                               -366.0    -2201.114324  \n",
       "2021-12-31                                383.0     1264.508518  \n",
       "2022-03-31                               -649.0      160.546616  \n",
       "2022-06-30                               3492.0      482.392019  \n",
       "2022-07-30                                  NaN             NaN  \n",
       "2022-08-30                                  NaN             NaN  \n",
       "2022-09-30                                  NaN             NaN  \n",
       "2022-10-30                                  NaN             NaN  \n",
       "2022-11-30                                  NaN             NaN  \n",
       "2022-12-30                                  NaN             NaN  \n",
       "2023-01-30                                  NaN             NaN  \n",
       "2023-02-28                                  NaN             NaN  \n",
       "2023-03-30                                  NaN             NaN  \n",
       "2023-04-30                                  NaN             NaN  \n",
       "2023-05-30                                  NaN             NaN  \n",
       "2023-06-30                                  NaN             NaN  \n",
       "2023-07-30                                  NaN             NaN  \n",
       "2023-08-30                                  NaN             NaN  \n",
       "2023-09-30                                  NaN             NaN  \n",
       "2023-10-30                                  NaN             NaN  \n",
       "2023-11-30                                  NaN             NaN  \n",
       "2023-12-30                                  NaN             NaN  \n",
       "2024-01-30                                  NaN             NaN  \n",
       "2024-02-29                                  NaN             NaN  \n",
       "2024-03-30                                  NaN             NaN  \n",
       "2024-04-30                                  NaN             NaN  \n",
       "2024-05-30                                  NaN             NaN  "
      ]
     },
     "execution_count": 100,
     "metadata": {},
     "output_type": "execute_result"
    }
   ],
   "source": [
    "future_df"
   ]
  },
  {
   "cell_type": "code",
   "execution_count": 101,
   "id": "e15d388c",
   "metadata": {},
   "outputs": [
    {
     "name": "stdout",
     "output_type": "stream",
     "text": [
      "2022-07-30 00:00:00\n",
      "2024-05-30 00:00:00\n"
     ]
    }
   ],
   "source": [
    "##prediction\n",
    "pred_start_date=future_datest_df.index[0]\n",
    "pred_end_date=future_datest_df.index[-1]\n",
    "print(pred_start_date)\n",
    "print(pred_end_date)"
   ]
  },
  {
   "cell_type": "code",
   "execution_count": 102,
   "id": "c549f328",
   "metadata": {},
   "outputs": [],
   "source": [
    "pred_future=model_Arima_fit.predict(start=pred_start_date,end=pred_end_date)\n",
    "residuals=test_data['Cash Flow from Financial Activities1']-pred"
   ]
  },
  {
   "cell_type": "code",
   "execution_count": 103,
   "id": "aaebe693",
   "metadata": {},
   "outputs": [
    {
     "data": {
      "text/plain": [
       "2022-09-30   -1827.124523\n",
       "2022-12-31    1127.876580\n",
       "2023-03-31     511.941185\n",
       "2023-06-30     481.016457\n",
       "2023-09-30   -1255.695729\n",
       "2023-12-31     564.258530\n",
       "2024-03-31     352.353553\n",
       "2024-06-30     135.677903\n",
       "Freq: Q-DEC, Name: predicted_mean, dtype: float64"
      ]
     },
     "execution_count": 103,
     "metadata": {},
     "output_type": "execute_result"
    }
   ],
   "source": [
    "pred_future"
   ]
  },
  {
   "cell_type": "code",
   "execution_count": 104,
   "id": "cecdc429",
   "metadata": {},
   "outputs": [
    {
     "data": {
      "text/plain": [
       "<AxesSubplot:>"
      ]
     },
     "execution_count": 104,
     "metadata": {},
     "output_type": "execute_result"
    },
    {
     "data": {
      "image/png": "[encoded data removed]",
      "text/plain": [
       "<Figure size 1440x1080 with 1 Axes>"
      ]
     },
     "metadata": {
      "needs_background": "light"
     },
     "output_type": "display_data"
    }
   ],
   "source": [
    "pred_future.plot.bar(figsize=(20,15))"
   ]
  },
  {
   "cell_type": "code",
   "execution_count": null,
   "id": "547f4777",
   "metadata": {},
   "outputs": [],
   "source": []
  }
 ],
 "metadata": {
  "kernelspec": {
   "display_name": "Python 3 (ipykernel)",
   "language": "python",
   "name": "python3"
  },
  "language_info": {
   "codemirror_mode": {
    "name": "ipython",
    "version": 3
   },
   "file_extension": ".py",
   "mimetype": "text/x-python",
   "name": "python",
   "nbconvert_exporter": "python",
   "pygments_lexer": "ipython3",
   "version": "3.9.12"
  }
 },
 "nbformat": 4,
 "nbformat_minor": 5
}

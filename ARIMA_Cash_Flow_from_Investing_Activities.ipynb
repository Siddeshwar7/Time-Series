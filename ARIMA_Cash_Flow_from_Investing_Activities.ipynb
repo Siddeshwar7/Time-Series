{
 "cells": [
  {
   "cell_type": "code",
   "execution_count": 302,
   "id": "86cdbdc7",
   "metadata": {},
   "outputs": [],
   "source": [
    "#importing the Library\n",
    "import numpy as np\n",
    "import matplotlib.pyplot as plt\n",
    "import statsmodels.api as sms\n",
    "import pandas as pd\n",
    "\n",
    "%matplotlib inline"
   ]
  },
  {
   "cell_type": "code",
   "execution_count": 303,
   "id": "531d8a93",
   "metadata": {},
   "outputs": [],
   "source": [
    "#importing the dataset \n",
    "df_cf=pd.read_csv(\"C:/Users/Admin/Documents/Coca_cola_Cashflow_statement.csv\")"
   ]
  },
  {
   "cell_type": "code",
   "execution_count": 304,
   "id": "33e3c5d4",
   "metadata": {},
   "outputs": [
    {
     "data": {
      "text/html": [
       "<div>\n",
       "<style scoped>\n",
       "    .dataframe tbody tr th:only-of-type {\n",
       "        vertical-align: middle;\n",
       "    }\n",
       "\n",
       "    .dataframe tbody tr th {\n",
       "        vertical-align: top;\n",
       "    }\n",
       "\n",
       "    .dataframe thead th {\n",
       "        text-align: right;\n",
       "    }\n",
       "</style>\n",
       "<table border=\"1\" class=\"dataframe\">\n",
       "  <thead>\n",
       "    <tr style=\"text-align: right;\">\n",
       "      <th></th>\n",
       "      <th>DT</th>\n",
       "      <th>Cash_Flow_from_Investing_Activities</th>\n",
       "      <th>Cash Flow from Operating Activities</th>\n",
       "      <th>Cash Flow from Financial Activities</th>\n",
       "      <th>Net Cash Flow</th>\n",
       "    </tr>\n",
       "  </thead>\n",
       "  <tbody>\n",
       "    <tr>\n",
       "      <th>0</th>\n",
       "      <td>31-03-2009</td>\n",
       "      <td>-599</td>\n",
       "      <td>3923.0</td>\n",
       "      <td>-975.0</td>\n",
       "      <td>1295.0</td>\n",
       "    </tr>\n",
       "    <tr>\n",
       "      <th>1</th>\n",
       "      <td>30-06-2009</td>\n",
       "      <td>-565</td>\n",
       "      <td>623.0</td>\n",
       "      <td>-297.0</td>\n",
       "      <td>-2344.0</td>\n",
       "    </tr>\n",
       "    <tr>\n",
       "      <th>2</th>\n",
       "      <td>30-09-2009</td>\n",
       "      <td>-396</td>\n",
       "      <td>3394.0</td>\n",
       "      <td>-195.0</td>\n",
       "      <td>-1617.0</td>\n",
       "    </tr>\n",
       "    <tr>\n",
       "      <th>3</th>\n",
       "      <td>31-12-2009</td>\n",
       "      <td>-2589</td>\n",
       "      <td>3706.0</td>\n",
       "      <td>-1629.0</td>\n",
       "      <td>2113.0</td>\n",
       "    </tr>\n",
       "    <tr>\n",
       "      <th>4</th>\n",
       "      <td>31-03-2010</td>\n",
       "      <td>-1368</td>\n",
       "      <td>3889.0</td>\n",
       "      <td>-5326.0</td>\n",
       "      <td>704.0</td>\n",
       "    </tr>\n",
       "  </tbody>\n",
       "</table>\n",
       "</div>"
      ],
      "text/plain": [
       "           DT  Cash_Flow_from_Investing_Activities  \\\n",
       "0  31-03-2009                                 -599   \n",
       "1  30-06-2009                                 -565   \n",
       "2  30-09-2009                                 -396   \n",
       "3  31-12-2009                                -2589   \n",
       "4  31-03-2010                                -1368   \n",
       "\n",
       "   Cash Flow from Operating Activities  Cash Flow from Financial Activities  \\\n",
       "0                               3923.0                               -975.0   \n",
       "1                                623.0                               -297.0   \n",
       "2                               3394.0                               -195.0   \n",
       "3                               3706.0                              -1629.0   \n",
       "4                               3889.0                              -5326.0   \n",
       "\n",
       "   Net Cash Flow  \n",
       "0         1295.0  \n",
       "1        -2344.0  \n",
       "2        -1617.0  \n",
       "3         2113.0  \n",
       "4          704.0  "
      ]
     },
     "execution_count": 304,
     "metadata": {},
     "output_type": "execute_result"
    }
   ],
   "source": [
    "df_cf.head()"
   ]
  },
  {
   "cell_type": "code",
   "execution_count": 305,
   "id": "9caeff35",
   "metadata": {},
   "outputs": [
    {
     "data": {
      "text/plain": [
       "DT                                     0\n",
       "Cash_Flow_from_Investing_Activities    0\n",
       "Cash Flow from Operating Activities    0\n",
       "Cash Flow from Financial Activities    0\n",
       "Net Cash Flow                          0\n",
       "dtype: int64"
      ]
     },
     "execution_count": 305,
     "metadata": {},
     "output_type": "execute_result"
    }
   ],
   "source": [
    "#checking for null values\n",
    "df_cf.isnull().sum()"
   ]
  },
  {
   "cell_type": "code",
   "execution_count": 306,
   "id": "7fc43889",
   "metadata": {},
   "outputs": [
    {
     "data": {
      "text/html": [
       "<div>\n",
       "<style scoped>\n",
       "    .dataframe tbody tr th:only-of-type {\n",
       "        vertical-align: middle;\n",
       "    }\n",
       "\n",
       "    .dataframe tbody tr th {\n",
       "        vertical-align: top;\n",
       "    }\n",
       "\n",
       "    .dataframe thead th {\n",
       "        text-align: right;\n",
       "    }\n",
       "</style>\n",
       "<table border=\"1\" class=\"dataframe\">\n",
       "  <thead>\n",
       "    <tr style=\"text-align: right;\">\n",
       "      <th></th>\n",
       "      <th>DT</th>\n",
       "      <th>Cash_Flow_from_Investing_Activities</th>\n",
       "      <th>Cash Flow from Operating Activities</th>\n",
       "      <th>Cash Flow from Financial Activities</th>\n",
       "      <th>Net Cash Flow</th>\n",
       "    </tr>\n",
       "  </thead>\n",
       "  <tbody>\n",
       "    <tr>\n",
       "      <th>49</th>\n",
       "      <td>30-06-2021</td>\n",
       "      <td>2034</td>\n",
       "      <td>1326.0</td>\n",
       "      <td>-1043.0</td>\n",
       "      <td>-1337.0</td>\n",
       "    </tr>\n",
       "    <tr>\n",
       "      <th>50</th>\n",
       "      <td>30-09-2021</td>\n",
       "      <td>166</td>\n",
       "      <td>1916.0</td>\n",
       "      <td>-1409.0</td>\n",
       "      <td>-1825.0</td>\n",
       "    </tr>\n",
       "    <tr>\n",
       "      <th>51</th>\n",
       "      <td>31-12-2021</td>\n",
       "      <td>-4684</td>\n",
       "      <td>2608.0</td>\n",
       "      <td>-1026.0</td>\n",
       "      <td>1199.0</td>\n",
       "    </tr>\n",
       "    <tr>\n",
       "      <th>52</th>\n",
       "      <td>31-03-2022</td>\n",
       "      <td>146</td>\n",
       "      <td>2789.0</td>\n",
       "      <td>-1675.0</td>\n",
       "      <td>831.0</td>\n",
       "    </tr>\n",
       "    <tr>\n",
       "      <th>53</th>\n",
       "      <td>30-06-2022</td>\n",
       "      <td>-1291</td>\n",
       "      <td>873.0</td>\n",
       "      <td>1817.0</td>\n",
       "      <td>2115.0</td>\n",
       "    </tr>\n",
       "  </tbody>\n",
       "</table>\n",
       "</div>"
      ],
      "text/plain": [
       "            DT  Cash_Flow_from_Investing_Activities  \\\n",
       "49  30-06-2021                                 2034   \n",
       "50  30-09-2021                                  166   \n",
       "51  31-12-2021                                -4684   \n",
       "52  31-03-2022                                  146   \n",
       "53  30-06-2022                                -1291   \n",
       "\n",
       "    Cash Flow from Operating Activities  Cash Flow from Financial Activities  \\\n",
       "49                               1326.0                              -1043.0   \n",
       "50                               1916.0                              -1409.0   \n",
       "51                               2608.0                              -1026.0   \n",
       "52                               2789.0                              -1675.0   \n",
       "53                                873.0                               1817.0   \n",
       "\n",
       "    Net Cash Flow  \n",
       "49        -1337.0  \n",
       "50        -1825.0  \n",
       "51         1199.0  \n",
       "52          831.0  \n",
       "53         2115.0  "
      ]
     },
     "execution_count": 306,
     "metadata": {},
     "output_type": "execute_result"
    }
   ],
   "source": [
    "df_cf.tail()"
   ]
  },
  {
   "cell_type": "code",
   "execution_count": 307,
   "id": "96375d98",
   "metadata": {},
   "outputs": [
    {
     "name": "stdout",
     "output_type": "stream",
     "text": [
      "<class 'pandas.core.frame.DataFrame'>\n",
      "RangeIndex: 54 entries, 0 to 53\n",
      "Data columns (total 5 columns):\n",
      " #   Column                               Non-Null Count  Dtype  \n",
      "---  ------                               --------------  -----  \n",
      " 0   DT                                   54 non-null     object \n",
      " 1   Cash_Flow_from_Investing_Activities  54 non-null     int64  \n",
      " 2   Cash Flow from Operating Activities  54 non-null     float64\n",
      " 3   Cash Flow from Financial Activities  54 non-null     float64\n",
      " 4   Net Cash Flow                        54 non-null     float64\n",
      "dtypes: float64(3), int64(1), object(1)\n",
      "memory usage: 2.2+ KB\n"
     ]
    }
   ],
   "source": [
    "df_cf.info()"
   ]
  },
  {
   "cell_type": "code",
   "execution_count": 308,
   "id": "e0da8d80",
   "metadata": {},
   "outputs": [
    {
     "name": "stderr",
     "output_type": "stream",
     "text": [
      "C:\\Users\\Admin\\AppData\\Local\\Temp\\ipykernel_2488\\905396716.py:2: UserWarning: Parsing '31-03-2009' in DD/MM/YYYY format. Provide format or specify infer_datetime_format=True for consistent parsing.\n",
      "  df_cf[\"DT\"]=pd.to_datetime(df_cf[\"DT\"])\n",
      "C:\\Users\\Admin\\AppData\\Local\\Temp\\ipykernel_2488\\905396716.py:2: UserWarning: Parsing '30-06-2009' in DD/MM/YYYY format. Provide format or specify infer_datetime_format=True for consistent parsing.\n",
      "  df_cf[\"DT\"]=pd.to_datetime(df_cf[\"DT\"])\n",
      "C:\\Users\\Admin\\AppData\\Local\\Temp\\ipykernel_2488\\905396716.py:2: UserWarning: Parsing '30-09-2009' in DD/MM/YYYY format. Provide format or specify infer_datetime_format=True for consistent parsing.\n",
      "  df_cf[\"DT\"]=pd.to_datetime(df_cf[\"DT\"])\n",
      "C:\\Users\\Admin\\AppData\\Local\\Temp\\ipykernel_2488\\905396716.py:2: UserWarning: Parsing '31-12-2009' in DD/MM/YYYY format. Provide format or specify infer_datetime_format=True for consistent parsing.\n",
      "  df_cf[\"DT\"]=pd.to_datetime(df_cf[\"DT\"])\n",
      "C:\\Users\\Admin\\AppData\\Local\\Temp\\ipykernel_2488\\905396716.py:2: UserWarning: Parsing '31-03-2010' in DD/MM/YYYY format. Provide format or specify infer_datetime_format=True for consistent parsing.\n",
      "  df_cf[\"DT\"]=pd.to_datetime(df_cf[\"DT\"])\n",
      "C:\\Users\\Admin\\AppData\\Local\\Temp\\ipykernel_2488\\905396716.py:2: UserWarning: Parsing '30-06-2010' in DD/MM/YYYY format. Provide format or specify infer_datetime_format=True for consistent parsing.\n",
      "  df_cf[\"DT\"]=pd.to_datetime(df_cf[\"DT\"])\n",
      "C:\\Users\\Admin\\AppData\\Local\\Temp\\ipykernel_2488\\905396716.py:2: UserWarning: Parsing '30-09-2010' in DD/MM/YYYY format. Provide format or specify infer_datetime_format=True for consistent parsing.\n",
      "  df_cf[\"DT\"]=pd.to_datetime(df_cf[\"DT\"])\n",
      "C:\\Users\\Admin\\AppData\\Local\\Temp\\ipykernel_2488\\905396716.py:2: UserWarning: Parsing '31-12-2010' in DD/MM/YYYY format. Provide format or specify infer_datetime_format=True for consistent parsing.\n",
      "  df_cf[\"DT\"]=pd.to_datetime(df_cf[\"DT\"])\n",
      "C:\\Users\\Admin\\AppData\\Local\\Temp\\ipykernel_2488\\905396716.py:2: UserWarning: Parsing '31-03-2011' in DD/MM/YYYY format. Provide format or specify infer_datetime_format=True for consistent parsing.\n",
      "  df_cf[\"DT\"]=pd.to_datetime(df_cf[\"DT\"])\n",
      "C:\\Users\\Admin\\AppData\\Local\\Temp\\ipykernel_2488\\905396716.py:2: UserWarning: Parsing '30-06-2011' in DD/MM/YYYY format. Provide format or specify infer_datetime_format=True for consistent parsing.\n",
      "  df_cf[\"DT\"]=pd.to_datetime(df_cf[\"DT\"])\n",
      "C:\\Users\\Admin\\AppData\\Local\\Temp\\ipykernel_2488\\905396716.py:2: UserWarning: Parsing '30-09-2011' in DD/MM/YYYY format. Provide format or specify infer_datetime_format=True for consistent parsing.\n",
      "  df_cf[\"DT\"]=pd.to_datetime(df_cf[\"DT\"])\n",
      "C:\\Users\\Admin\\AppData\\Local\\Temp\\ipykernel_2488\\905396716.py:2: UserWarning: Parsing '31-12-2011' in DD/MM/YYYY format. Provide format or specify infer_datetime_format=True for consistent parsing.\n",
      "  df_cf[\"DT\"]=pd.to_datetime(df_cf[\"DT\"])\n",
      "C:\\Users\\Admin\\AppData\\Local\\Temp\\ipykernel_2488\\905396716.py:2: UserWarning: Parsing '31-03-2012' in DD/MM/YYYY format. Provide format or specify infer_datetime_format=True for consistent parsing.\n",
      "  df_cf[\"DT\"]=pd.to_datetime(df_cf[\"DT\"])\n",
      "C:\\Users\\Admin\\AppData\\Local\\Temp\\ipykernel_2488\\905396716.py:2: UserWarning: Parsing '30-06-2012' in DD/MM/YYYY format. Provide format or specify infer_datetime_format=True for consistent parsing.\n",
      "  df_cf[\"DT\"]=pd.to_datetime(df_cf[\"DT\"])\n",
      "C:\\Users\\Admin\\AppData\\Local\\Temp\\ipykernel_2488\\905396716.py:2: UserWarning: Parsing '30-09-2012' in DD/MM/YYYY format. Provide format or specify infer_datetime_format=True for consistent parsing.\n",
      "  df_cf[\"DT\"]=pd.to_datetime(df_cf[\"DT\"])\n",
      "C:\\Users\\Admin\\AppData\\Local\\Temp\\ipykernel_2488\\905396716.py:2: UserWarning: Parsing '31-12-2012' in DD/MM/YYYY format. Provide format or specify infer_datetime_format=True for consistent parsing.\n",
      "  df_cf[\"DT\"]=pd.to_datetime(df_cf[\"DT\"])\n",
      "C:\\Users\\Admin\\AppData\\Local\\Temp\\ipykernel_2488\\905396716.py:2: UserWarning: Parsing '31-03-2013' in DD/MM/YYYY format. Provide format or specify infer_datetime_format=True for consistent parsing.\n",
      "  df_cf[\"DT\"]=pd.to_datetime(df_cf[\"DT\"])\n",
      "C:\\Users\\Admin\\AppData\\Local\\Temp\\ipykernel_2488\\905396716.py:2: UserWarning: Parsing '30-06-2013' in DD/MM/YYYY format. Provide format or specify infer_datetime_format=True for consistent parsing.\n",
      "  df_cf[\"DT\"]=pd.to_datetime(df_cf[\"DT\"])\n",
      "C:\\Users\\Admin\\AppData\\Local\\Temp\\ipykernel_2488\\905396716.py:2: UserWarning: Parsing '30-09-2013' in DD/MM/YYYY format. Provide format or specify infer_datetime_format=True for consistent parsing.\n",
      "  df_cf[\"DT\"]=pd.to_datetime(df_cf[\"DT\"])\n",
      "C:\\Users\\Admin\\AppData\\Local\\Temp\\ipykernel_2488\\905396716.py:2: UserWarning: Parsing '31-12-2013' in DD/MM/YYYY format. Provide format or specify infer_datetime_format=True for consistent parsing.\n",
      "  df_cf[\"DT\"]=pd.to_datetime(df_cf[\"DT\"])\n",
      "C:\\Users\\Admin\\AppData\\Local\\Temp\\ipykernel_2488\\905396716.py:2: UserWarning: Parsing '31-03-2014' in DD/MM/YYYY format. Provide format or specify infer_datetime_format=True for consistent parsing.\n",
      "  df_cf[\"DT\"]=pd.to_datetime(df_cf[\"DT\"])\n",
      "C:\\Users\\Admin\\AppData\\Local\\Temp\\ipykernel_2488\\905396716.py:2: UserWarning: Parsing '30-06-2014' in DD/MM/YYYY format. Provide format or specify infer_datetime_format=True for consistent parsing.\n",
      "  df_cf[\"DT\"]=pd.to_datetime(df_cf[\"DT\"])\n",
      "C:\\Users\\Admin\\AppData\\Local\\Temp\\ipykernel_2488\\905396716.py:2: UserWarning: Parsing '30-09-2014' in DD/MM/YYYY format. Provide format or specify infer_datetime_format=True for consistent parsing.\n",
      "  df_cf[\"DT\"]=pd.to_datetime(df_cf[\"DT\"])\n",
      "C:\\Users\\Admin\\AppData\\Local\\Temp\\ipykernel_2488\\905396716.py:2: UserWarning: Parsing '31-12-2014' in DD/MM/YYYY format. Provide format or specify infer_datetime_format=True for consistent parsing.\n",
      "  df_cf[\"DT\"]=pd.to_datetime(df_cf[\"DT\"])\n",
      "C:\\Users\\Admin\\AppData\\Local\\Temp\\ipykernel_2488\\905396716.py:2: UserWarning: Parsing '31-03-2015' in DD/MM/YYYY format. Provide format or specify infer_datetime_format=True for consistent parsing.\n",
      "  df_cf[\"DT\"]=pd.to_datetime(df_cf[\"DT\"])\n",
      "C:\\Users\\Admin\\AppData\\Local\\Temp\\ipykernel_2488\\905396716.py:2: UserWarning: Parsing '30-06-2015' in DD/MM/YYYY format. Provide format or specify infer_datetime_format=True for consistent parsing.\n",
      "  df_cf[\"DT\"]=pd.to_datetime(df_cf[\"DT\"])\n",
      "C:\\Users\\Admin\\AppData\\Local\\Temp\\ipykernel_2488\\905396716.py:2: UserWarning: Parsing '30-09-2015' in DD/MM/YYYY format. Provide format or specify infer_datetime_format=True for consistent parsing.\n",
      "  df_cf[\"DT\"]=pd.to_datetime(df_cf[\"DT\"])\n",
      "C:\\Users\\Admin\\AppData\\Local\\Temp\\ipykernel_2488\\905396716.py:2: UserWarning: Parsing '31-12-2015' in DD/MM/YYYY format. Provide format or specify infer_datetime_format=True for consistent parsing.\n",
      "  df_cf[\"DT\"]=pd.to_datetime(df_cf[\"DT\"])\n",
      "C:\\Users\\Admin\\AppData\\Local\\Temp\\ipykernel_2488\\905396716.py:2: UserWarning: Parsing '31-03-2016' in DD/MM/YYYY format. Provide format or specify infer_datetime_format=True for consistent parsing.\n",
      "  df_cf[\"DT\"]=pd.to_datetime(df_cf[\"DT\"])\n",
      "C:\\Users\\Admin\\AppData\\Local\\Temp\\ipykernel_2488\\905396716.py:2: UserWarning: Parsing '30-06-2016' in DD/MM/YYYY format. Provide format or specify infer_datetime_format=True for consistent parsing.\n",
      "  df_cf[\"DT\"]=pd.to_datetime(df_cf[\"DT\"])\n",
      "C:\\Users\\Admin\\AppData\\Local\\Temp\\ipykernel_2488\\905396716.py:2: UserWarning: Parsing '30-09-2016' in DD/MM/YYYY format. Provide format or specify infer_datetime_format=True for consistent parsing.\n",
      "  df_cf[\"DT\"]=pd.to_datetime(df_cf[\"DT\"])\n",
      "C:\\Users\\Admin\\AppData\\Local\\Temp\\ipykernel_2488\\905396716.py:2: UserWarning: Parsing '31-12-2016' in DD/MM/YYYY format. Provide format or specify infer_datetime_format=True for consistent parsing.\n",
      "  df_cf[\"DT\"]=pd.to_datetime(df_cf[\"DT\"])\n",
      "C:\\Users\\Admin\\AppData\\Local\\Temp\\ipykernel_2488\\905396716.py:2: UserWarning: Parsing '31-03-2017' in DD/MM/YYYY format. Provide format or specify infer_datetime_format=True for consistent parsing.\n",
      "  df_cf[\"DT\"]=pd.to_datetime(df_cf[\"DT\"])\n",
      "C:\\Users\\Admin\\AppData\\Local\\Temp\\ipykernel_2488\\905396716.py:2: UserWarning: Parsing '30-06-2017' in DD/MM/YYYY format. Provide format or specify infer_datetime_format=True for consistent parsing.\n",
      "  df_cf[\"DT\"]=pd.to_datetime(df_cf[\"DT\"])\n",
      "C:\\Users\\Admin\\AppData\\Local\\Temp\\ipykernel_2488\\905396716.py:2: UserWarning: Parsing '30-09-2017' in DD/MM/YYYY format. Provide format or specify infer_datetime_format=True for consistent parsing.\n",
      "  df_cf[\"DT\"]=pd.to_datetime(df_cf[\"DT\"])\n",
      "C:\\Users\\Admin\\AppData\\Local\\Temp\\ipykernel_2488\\905396716.py:2: UserWarning: Parsing '31-12-2017' in DD/MM/YYYY format. Provide format or specify infer_datetime_format=True for consistent parsing.\n",
      "  df_cf[\"DT\"]=pd.to_datetime(df_cf[\"DT\"])\n",
      "C:\\Users\\Admin\\AppData\\Local\\Temp\\ipykernel_2488\\905396716.py:2: UserWarning: Parsing '31-03-2018' in DD/MM/YYYY format. Provide format or specify infer_datetime_format=True for consistent parsing.\n",
      "  df_cf[\"DT\"]=pd.to_datetime(df_cf[\"DT\"])\n",
      "C:\\Users\\Admin\\AppData\\Local\\Temp\\ipykernel_2488\\905396716.py:2: UserWarning: Parsing '30-06-2018' in DD/MM/YYYY format. Provide format or specify infer_datetime_format=True for consistent parsing.\n",
      "  df_cf[\"DT\"]=pd.to_datetime(df_cf[\"DT\"])\n",
      "C:\\Users\\Admin\\AppData\\Local\\Temp\\ipykernel_2488\\905396716.py:2: UserWarning: Parsing '30-09-2018' in DD/MM/YYYY format. Provide format or specify infer_datetime_format=True for consistent parsing.\n",
      "  df_cf[\"DT\"]=pd.to_datetime(df_cf[\"DT\"])\n",
      "C:\\Users\\Admin\\AppData\\Local\\Temp\\ipykernel_2488\\905396716.py:2: UserWarning: Parsing '31-12-2018' in DD/MM/YYYY format. Provide format or specify infer_datetime_format=True for consistent parsing.\n",
      "  df_cf[\"DT\"]=pd.to_datetime(df_cf[\"DT\"])\n",
      "C:\\Users\\Admin\\AppData\\Local\\Temp\\ipykernel_2488\\905396716.py:2: UserWarning: Parsing '31-03-2019' in DD/MM/YYYY format. Provide format or specify infer_datetime_format=True for consistent parsing.\n",
      "  df_cf[\"DT\"]=pd.to_datetime(df_cf[\"DT\"])\n",
      "C:\\Users\\Admin\\AppData\\Local\\Temp\\ipykernel_2488\\905396716.py:2: UserWarning: Parsing '30-06-2019' in DD/MM/YYYY format. Provide format or specify infer_datetime_format=True for consistent parsing.\n",
      "  df_cf[\"DT\"]=pd.to_datetime(df_cf[\"DT\"])\n",
      "C:\\Users\\Admin\\AppData\\Local\\Temp\\ipykernel_2488\\905396716.py:2: UserWarning: Parsing '30-09-2019' in DD/MM/YYYY format. Provide format or specify infer_datetime_format=True for consistent parsing.\n",
      "  df_cf[\"DT\"]=pd.to_datetime(df_cf[\"DT\"])\n",
      "C:\\Users\\Admin\\AppData\\Local\\Temp\\ipykernel_2488\\905396716.py:2: UserWarning: Parsing '31-12-2019' in DD/MM/YYYY format. Provide format or specify infer_datetime_format=True for consistent parsing.\n",
      "  df_cf[\"DT\"]=pd.to_datetime(df_cf[\"DT\"])\n",
      "C:\\Users\\Admin\\AppData\\Local\\Temp\\ipykernel_2488\\905396716.py:2: UserWarning: Parsing '31-03-2020' in DD/MM/YYYY format. Provide format or specify infer_datetime_format=True for consistent parsing.\n",
      "  df_cf[\"DT\"]=pd.to_datetime(df_cf[\"DT\"])\n",
      "C:\\Users\\Admin\\AppData\\Local\\Temp\\ipykernel_2488\\905396716.py:2: UserWarning: Parsing '30-06-2020' in DD/MM/YYYY format. Provide format or specify infer_datetime_format=True for consistent parsing.\n",
      "  df_cf[\"DT\"]=pd.to_datetime(df_cf[\"DT\"])\n",
      "C:\\Users\\Admin\\AppData\\Local\\Temp\\ipykernel_2488\\905396716.py:2: UserWarning: Parsing '30-09-2020' in DD/MM/YYYY format. Provide format or specify infer_datetime_format=True for consistent parsing.\n",
      "  df_cf[\"DT\"]=pd.to_datetime(df_cf[\"DT\"])\n",
      "C:\\Users\\Admin\\AppData\\Local\\Temp\\ipykernel_2488\\905396716.py:2: UserWarning: Parsing '31-12-2020' in DD/MM/YYYY format. Provide format or specify infer_datetime_format=True for consistent parsing.\n",
      "  df_cf[\"DT\"]=pd.to_datetime(df_cf[\"DT\"])\n",
      "C:\\Users\\Admin\\AppData\\Local\\Temp\\ipykernel_2488\\905396716.py:2: UserWarning: Parsing '31-03-2021' in DD/MM/YYYY format. Provide format or specify infer_datetime_format=True for consistent parsing.\n",
      "  df_cf[\"DT\"]=pd.to_datetime(df_cf[\"DT\"])\n",
      "C:\\Users\\Admin\\AppData\\Local\\Temp\\ipykernel_2488\\905396716.py:2: UserWarning: Parsing '30-06-2021' in DD/MM/YYYY format. Provide format or specify infer_datetime_format=True for consistent parsing.\n",
      "  df_cf[\"DT\"]=pd.to_datetime(df_cf[\"DT\"])\n",
      "C:\\Users\\Admin\\AppData\\Local\\Temp\\ipykernel_2488\\905396716.py:2: UserWarning: Parsing '30-09-2021' in DD/MM/YYYY format. Provide format or specify infer_datetime_format=True for consistent parsing.\n",
      "  df_cf[\"DT\"]=pd.to_datetime(df_cf[\"DT\"])\n",
      "C:\\Users\\Admin\\AppData\\Local\\Temp\\ipykernel_2488\\905396716.py:2: UserWarning: Parsing '31-12-2021' in DD/MM/YYYY format. Provide format or specify infer_datetime_format=True for consistent parsing.\n",
      "  df_cf[\"DT\"]=pd.to_datetime(df_cf[\"DT\"])\n",
      "C:\\Users\\Admin\\AppData\\Local\\Temp\\ipykernel_2488\\905396716.py:2: UserWarning: Parsing '31-03-2022' in DD/MM/YYYY format. Provide format or specify infer_datetime_format=True for consistent parsing.\n",
      "  df_cf[\"DT\"]=pd.to_datetime(df_cf[\"DT\"])\n",
      "C:\\Users\\Admin\\AppData\\Local\\Temp\\ipykernel_2488\\905396716.py:2: UserWarning: Parsing '30-06-2022' in DD/MM/YYYY format. Provide format or specify infer_datetime_format=True for consistent parsing.\n",
      "  df_cf[\"DT\"]=pd.to_datetime(df_cf[\"DT\"])\n"
     ]
    }
   ],
   "source": [
    "# changing dt data type to datetime format\n",
    "df_cf[\"DT\"]=pd.to_datetime(df_cf[\"DT\"])"
   ]
  },
  {
   "cell_type": "code",
   "execution_count": 309,
   "id": "112b6ccb",
   "metadata": {},
   "outputs": [],
   "source": [
    "#setting dt as the index\n",
    "df_cf.set_index(\"DT\",inplace=True)"
   ]
  },
  {
   "cell_type": "code",
   "execution_count": 310,
   "id": "b0442153",
   "metadata": {},
   "outputs": [],
   "source": [
    "del df_cf[\"Net Cash Flow\"],df_cf[\"Cash Flow from Operating Activities\"],df_cf[\"Cash Flow from Financial Activities\"]"
   ]
  },
  {
   "cell_type": "code",
   "execution_count": 311,
   "id": "ce16578e",
   "metadata": {},
   "outputs": [
    {
     "data": {
      "text/plain": [
       "<AxesSubplot:xlabel='DT'>"
      ]
     },
     "execution_count": 311,
     "metadata": {},
     "output_type": "execute_result"
    },
    {
     "data": {
      "image/png": "[encoded data removed]",
      "text/plain": [
       "<Figure size 432x288 with 1 Axes>"
      ]
     },
     "metadata": {
      "needs_background": "light"
     },
     "output_type": "display_data"
    }
   ],
   "source": [
    "df_cf['Cash_Flow_from_Investing_Activities'].plot()"
   ]
  },
  {
   "cell_type": "code",
   "execution_count": 312,
   "id": "110cb8e0",
   "metadata": {},
   "outputs": [],
   "source": [
    "from statsmodels.tsa.stattools import adfuller"
   ]
  },
  {
   "cell_type": "code",
   "execution_count": 313,
   "id": "8e424b67",
   "metadata": {},
   "outputs": [],
   "source": [
    "def adf_test(series):\n",
    "    result=adfuller(series)\n",
    "    print('ADF Statistics: {}'.format(result[0]))\n",
    "    print('p- value: {}'.format(result[1]))\n",
    "    if result[1] <= 0.05:\n",
    "        print(\"strong evidence against the null hypothesis, reject the null hypothesis. Data has no unit root and is stationary\")\n",
    "    else:\n",
    "        print(\"weak evidence against null hypothesis, time series has a unit root, indicating it is non-stationary \")"
   ]
  },
  {
   "cell_type": "code",
   "execution_count": 314,
   "id": "5d8b2ff3",
   "metadata": {},
   "outputs": [
    {
     "name": "stdout",
     "output_type": "stream",
     "text": [
      "ADF Statistics: -6.904545004278857\n",
      "p- value: 1.2570125508017653e-09\n",
      "strong evidence against the null hypothesis, reject the null hypothesis. Data has no unit root and is stationary\n"
     ]
    }
   ],
   "source": [
    "adf_test(df_cf['Cash_Flow_from_Investing_Activities'])"
   ]
  },
  {
   "cell_type": "code",
   "execution_count": 315,
   "id": "20b9b7b3",
   "metadata": {},
   "outputs": [
    {
     "data": {
      "text/html": [
       "<div>\n",
       "<style scoped>\n",
       "    .dataframe tbody tr th:only-of-type {\n",
       "        vertical-align: middle;\n",
       "    }\n",
       "\n",
       "    .dataframe tbody tr th {\n",
       "        vertical-align: top;\n",
       "    }\n",
       "\n",
       "    .dataframe thead th {\n",
       "        text-align: right;\n",
       "    }\n",
       "</style>\n",
       "<table border=\"1\" class=\"dataframe\">\n",
       "  <thead>\n",
       "    <tr style=\"text-align: right;\">\n",
       "      <th></th>\n",
       "      <th>Cash_Flow_from_Investing_Activities</th>\n",
       "    </tr>\n",
       "    <tr>\n",
       "      <th>DT</th>\n",
       "      <th></th>\n",
       "    </tr>\n",
       "  </thead>\n",
       "  <tbody>\n",
       "    <tr>\n",
       "      <th>2009-03-31</th>\n",
       "      <td>-599</td>\n",
       "    </tr>\n",
       "    <tr>\n",
       "      <th>2009-06-30</th>\n",
       "      <td>-565</td>\n",
       "    </tr>\n",
       "    <tr>\n",
       "      <th>2009-09-30</th>\n",
       "      <td>-396</td>\n",
       "    </tr>\n",
       "    <tr>\n",
       "      <th>2009-12-31</th>\n",
       "      <td>-2589</td>\n",
       "    </tr>\n",
       "    <tr>\n",
       "      <th>2010-03-31</th>\n",
       "      <td>-1368</td>\n",
       "    </tr>\n",
       "  </tbody>\n",
       "</table>\n",
       "</div>"
      ],
      "text/plain": [
       "            Cash_Flow_from_Investing_Activities\n",
       "DT                                             \n",
       "2009-03-31                                 -599\n",
       "2009-06-30                                 -565\n",
       "2009-09-30                                 -396\n",
       "2009-12-31                                -2589\n",
       "2010-03-31                                -1368"
      ]
     },
     "execution_count": 315,
     "metadata": {},
     "output_type": "execute_result"
    }
   ],
   "source": [
    "df_cf.head()"
   ]
  },
  {
   "cell_type": "code",
   "execution_count": 316,
   "id": "0af7add8",
   "metadata": {},
   "outputs": [],
   "source": [
    "from statsmodels.graphics.tsaplots import plot_acf,plot_pacf"
   ]
  },
  {
   "cell_type": "code",
   "execution_count": 317,
   "id": "a15dfd78",
   "metadata": {},
   "outputs": [
    {
     "data": {
      "image/png": "[encoded data removed]",
      "text/plain": [
       "<Figure size 432x288 with 1 Axes>"
      ]
     },
     "metadata": {
      "needs_background": "light"
     },
     "output_type": "display_data"
    }
   ],
   "source": [
    "acf = plot_acf(df_cf[\"Cash_Flow_from_Investing_Activities\"].dropna())"
   ]
  },
  {
   "cell_type": "code",
   "execution_count": 318,
   "id": "1dc77a46",
   "metadata": {},
   "outputs": [
    {
     "name": "stderr",
     "output_type": "stream",
     "text": [
      "C:\\Users\\Admin\\anaconda3\\lib\\site-packages\\statsmodels\\graphics\\tsaplots.py:348: FutureWarning: The default method 'yw' can produce PACF values outside of the [-1,1] interval. After 0.13, the default will change tounadjusted Yule-Walker ('ywm'). You can use this method now by setting method='ywm'.\n",
      "  warnings.warn(\n"
     ]
    },
    {
     "data": {
      "image/png": "[encoded data removed]",
      "text/plain": [
       "<Figure size 432x288 with 1 Axes>"
      ]
     },
     "metadata": {
      "needs_background": "light"
     },
     "output_type": "display_data"
    }
   ],
   "source": [
    "pacf12 = plot_pacf(df_cf[\"Cash_Flow_from_Investing_Activities\"].dropna())"
   ]
  },
  {
   "cell_type": "code",
   "execution_count": 319,
   "id": "ae360b92",
   "metadata": {},
   "outputs": [],
   "source": [
    "from datetime import datetime,timedelta\n",
    "train_dataset_end=datetime(2019,12,31)\n",
    "test_dataset_end=datetime(2022,6,30)"
   ]
  },
  {
   "cell_type": "code",
   "execution_count": 320,
   "id": "e3eb5f4d",
   "metadata": {},
   "outputs": [],
   "source": [
    "train_data=df_cf[:train_dataset_end]\n",
    "test_data=df_cf[train_dataset_end+timedelta(days=1):test_dataset_end]"
   ]
  },
  {
   "cell_type": "code",
   "execution_count": 321,
   "id": "b74c5226",
   "metadata": {},
   "outputs": [],
   "source": [
    "##prediction\n",
    "pred_start_date=test_data.index[0]\n",
    "pred_end_date=test_data.index[-1]"
   ]
  },
  {
   "cell_type": "code",
   "execution_count": 322,
   "id": "750c6af1",
   "metadata": {},
   "outputs": [
    {
     "data": {
      "text/html": [
       "<div>\n",
       "<style scoped>\n",
       "    .dataframe tbody tr th:only-of-type {\n",
       "        vertical-align: middle;\n",
       "    }\n",
       "\n",
       "    .dataframe tbody tr th {\n",
       "        vertical-align: top;\n",
       "    }\n",
       "\n",
       "    .dataframe thead th {\n",
       "        text-align: right;\n",
       "    }\n",
       "</style>\n",
       "<table border=\"1\" class=\"dataframe\">\n",
       "  <thead>\n",
       "    <tr style=\"text-align: right;\">\n",
       "      <th></th>\n",
       "      <th>Cash_Flow_from_Investing_Activities</th>\n",
       "    </tr>\n",
       "    <tr>\n",
       "      <th>DT</th>\n",
       "      <th></th>\n",
       "    </tr>\n",
       "  </thead>\n",
       "  <tbody>\n",
       "    <tr>\n",
       "      <th>2020-03-31</th>\n",
       "      <td>-1084</td>\n",
       "    </tr>\n",
       "    <tr>\n",
       "      <th>2020-06-30</th>\n",
       "      <td>-5883</td>\n",
       "    </tr>\n",
       "    <tr>\n",
       "      <th>2020-09-30</th>\n",
       "      <td>-105</td>\n",
       "    </tr>\n",
       "    <tr>\n",
       "      <th>2020-12-31</th>\n",
       "      <td>5595</td>\n",
       "    </tr>\n",
       "    <tr>\n",
       "      <th>2021-03-31</th>\n",
       "      <td>-281</td>\n",
       "    </tr>\n",
       "    <tr>\n",
       "      <th>2021-06-30</th>\n",
       "      <td>2034</td>\n",
       "    </tr>\n",
       "    <tr>\n",
       "      <th>2021-09-30</th>\n",
       "      <td>166</td>\n",
       "    </tr>\n",
       "    <tr>\n",
       "      <th>2021-12-31</th>\n",
       "      <td>-4684</td>\n",
       "    </tr>\n",
       "    <tr>\n",
       "      <th>2022-03-31</th>\n",
       "      <td>146</td>\n",
       "    </tr>\n",
       "    <tr>\n",
       "      <th>2022-06-30</th>\n",
       "      <td>-1291</td>\n",
       "    </tr>\n",
       "  </tbody>\n",
       "</table>\n",
       "</div>"
      ],
      "text/plain": [
       "            Cash_Flow_from_Investing_Activities\n",
       "DT                                             \n",
       "2020-03-31                                -1084\n",
       "2020-06-30                                -5883\n",
       "2020-09-30                                 -105\n",
       "2020-12-31                                 5595\n",
       "2021-03-31                                 -281\n",
       "2021-06-30                                 2034\n",
       "2021-09-30                                  166\n",
       "2021-12-31                                -4684\n",
       "2022-03-31                                  146\n",
       "2022-06-30                                -1291"
      ]
     },
     "execution_count": 322,
     "metadata": {},
     "output_type": "execute_result"
    }
   ],
   "source": [
    "test_data"
   ]
  },
  {
   "cell_type": "code",
   "execution_count": 323,
   "id": "61aaa492",
   "metadata": {},
   "outputs": [],
   "source": [
    "## create a ARIMA model\n",
    "from statsmodels.tsa.arima.model import ARIMA"
   ]
  },
  {
   "cell_type": "code",
   "execution_count": 497,
   "id": "47e1e274",
   "metadata": {},
   "outputs": [
    {
     "name": "stderr",
     "output_type": "stream",
     "text": [
      "C:\\Users\\Admin\\anaconda3\\lib\\site-packages\\statsmodels\\tsa\\base\\tsa_model.py:471: ValueWarning: No frequency information was provided, so inferred frequency Q-DEC will be used.\n",
      "  self._init_dates(dates, freq)\n",
      "C:\\Users\\Admin\\anaconda3\\lib\\site-packages\\statsmodels\\tsa\\base\\tsa_model.py:471: ValueWarning: No frequency information was provided, so inferred frequency Q-DEC will be used.\n",
      "  self._init_dates(dates, freq)\n",
      "C:\\Users\\Admin\\anaconda3\\lib\\site-packages\\statsmodels\\tsa\\base\\tsa_model.py:471: ValueWarning: No frequency information was provided, so inferred frequency Q-DEC will be used.\n",
      "  self._init_dates(dates, freq)\n"
     ]
    }
   ],
   "source": [
    "model_ARIMA=ARIMA(train_data['Cash_Flow_from_Investing_Activities'],order=(0,0,0))"
   ]
  },
  {
   "cell_type": "code",
   "execution_count": 498,
   "id": "8a47ee21",
   "metadata": {},
   "outputs": [],
   "source": [
    "model_Arima_fit=model_ARIMA.fit()"
   ]
  },
  {
   "cell_type": "code",
   "execution_count": 499,
   "id": "2d248dad",
   "metadata": {
    "scrolled": true
   },
   "outputs": [
    {
     "data": {
      "text/html": [
       "<table class=\"simpletable\">\n",
       "<caption>SARIMAX Results</caption>\n",
       "<tr>\n",
       "  <th>Dep. Variable:</th>   <td>Cash_Flow_from_Investing_Activities</td> <th>  No. Observations:  </th>    <td>44</td>   \n",
       "</tr>\n",
       "<tr>\n",
       "  <th>Model:</th>                          <td>ARIMA</td>                <th>  Log Likelihood     </th> <td>-386.257</td>\n",
       "</tr>\n",
       "<tr>\n",
       "  <th>Date:</th>                     <td>Wed, 28 Sep 2022</td>           <th>  AIC                </th>  <td>776.514</td>\n",
       "</tr>\n",
       "<tr>\n",
       "  <th>Time:</th>                         <td>14:00:07</td>               <th>  BIC                </th>  <td>780.082</td>\n",
       "</tr>\n",
       "<tr>\n",
       "  <th>Sample:</th>                      <td>03-31-2009</td>              <th>  HQIC               </th>  <td>777.837</td>\n",
       "</tr>\n",
       "<tr>\n",
       "  <th></th>                            <td>- 12-31-2019</td>             <th>                     </th>     <td> </td>   \n",
       "</tr>\n",
       "<tr>\n",
       "  <th>Covariance Type:</th>                 <td>opg</td>                 <th>                     </th>     <td> </td>   \n",
       "</tr>\n",
       "</table>\n",
       "<table class=\"simpletable\">\n",
       "<tr>\n",
       "     <td></td>       <th>coef</th>     <th>std err</th>      <th>z</th>      <th>P>|z|</th>  <th>[0.025</th>    <th>0.975]</th>  \n",
       "</tr>\n",
       "<tr>\n",
       "  <th>const</th>  <td> -948.9274</td> <td>  241.883</td> <td>   -3.923</td> <td> 0.000</td> <td>-1423.009</td> <td> -474.846</td>\n",
       "</tr>\n",
       "<tr>\n",
       "  <th>sigma2</th> <td> 2.466e+06</td> <td>  5.4e+05</td> <td>    4.567</td> <td> 0.000</td> <td> 1.41e+06</td> <td> 3.52e+06</td>\n",
       "</tr>\n",
       "</table>\n",
       "<table class=\"simpletable\">\n",
       "<tr>\n",
       "  <th>Ljung-Box (L1) (Q):</th>     <td>0.07</td> <th>  Jarque-Bera (JB):  </th> <td>0.63</td> \n",
       "</tr>\n",
       "<tr>\n",
       "  <th>Prob(Q):</th>                <td>0.80</td> <th>  Prob(JB):          </th> <td>0.73</td> \n",
       "</tr>\n",
       "<tr>\n",
       "  <th>Heteroskedasticity (H):</th> <td>1.90</td> <th>  Skew:              </th> <td>-0.29</td>\n",
       "</tr>\n",
       "<tr>\n",
       "  <th>Prob(H) (two-sided):</th>    <td>0.23</td> <th>  Kurtosis:          </th> <td>2.98</td> \n",
       "</tr>\n",
       "</table><br/><br/>Warnings:<br/>[1] Covariance matrix calculated using the outer product of gradients (complex-step)."
      ],
      "text/plain": [
       "<class 'statsmodels.iolib.summary.Summary'>\n",
       "\"\"\"\n",
       "                                        SARIMAX Results                                        \n",
       "===============================================================================================\n",
       "Dep. Variable:     Cash_Flow_from_Investing_Activities   No. Observations:                   44\n",
       "Model:                                           ARIMA   Log Likelihood                -386.257\n",
       "Date:                                 Wed, 28 Sep 2022   AIC                            776.514\n",
       "Time:                                         14:00:07   BIC                            780.082\n",
       "Sample:                                     03-31-2009   HQIC                           777.837\n",
       "                                          - 12-31-2019                                         \n",
       "Covariance Type:                                   opg                                         \n",
       "==============================================================================\n",
       "                 coef    std err          z      P>|z|      [0.025      0.975]\n",
       "------------------------------------------------------------------------------\n",
       "const       -948.9274    241.883     -3.923      0.000   -1423.009    -474.846\n",
       "sigma2      2.466e+06    5.4e+05      4.567      0.000    1.41e+06    3.52e+06\n",
       "===================================================================================\n",
       "Ljung-Box (L1) (Q):                   0.07   Jarque-Bera (JB):                 0.63\n",
       "Prob(Q):                              0.80   Prob(JB):                         0.73\n",
       "Heteroskedasticity (H):               1.90   Skew:                            -0.29\n",
       "Prob(H) (two-sided):                  0.23   Kurtosis:                         2.98\n",
       "===================================================================================\n",
       "\n",
       "Warnings:\n",
       "[1] Covariance matrix calculated using the outer product of gradients (complex-step).\n",
       "\"\"\""
      ]
     },
     "execution_count": 499,
     "metadata": {},
     "output_type": "execute_result"
    }
   ],
   "source": [
    "model_Arima_fit.summary()"
   ]
  },
  {
   "cell_type": "code",
   "execution_count": 500,
   "id": "8b0d6df4",
   "metadata": {},
   "outputs": [
    {
     "name": "stdout",
     "output_type": "stream",
     "text": [
      "2020-03-31 00:00:00\n",
      "2022-06-30 00:00:00\n"
     ]
    }
   ],
   "source": [
    "##prediction\n",
    "pred_start_date=test_data.index[0]\n",
    "pred_end_date=test_data.index[-1]\n",
    "print(pred_start_date)\n",
    "print(pred_end_date)"
   ]
  },
  {
   "cell_type": "code",
   "execution_count": 501,
   "id": "4a44ffea",
   "metadata": {},
   "outputs": [],
   "source": [
    "pred=model_Arima_fit.predict(start=pred_start_date,end=pred_end_date)\n",
    "residuals=test_data['Cash_Flow_from_Investing_Activities']-pred"
   ]
  },
  {
   "cell_type": "code",
   "execution_count": 502,
   "id": "64203025",
   "metadata": {},
   "outputs": [
    {
     "data": {
      "text/plain": [
       "2020-03-31   -948.927419\n",
       "2020-06-30   -948.927419\n",
       "2020-09-30   -948.927419\n",
       "2020-12-31   -948.927419\n",
       "2021-03-31   -948.927419\n",
       "2021-06-30   -948.927419\n",
       "2021-09-30   -948.927419\n",
       "2021-12-31   -948.927419\n",
       "2022-03-31   -948.927419\n",
       "2022-06-30   -948.927419\n",
       "Freq: Q-DEC, Name: predicted_mean, dtype: float64"
      ]
     },
     "execution_count": 502,
     "metadata": {},
     "output_type": "execute_result"
    }
   ],
   "source": [
    "pred"
   ]
  },
  {
   "cell_type": "code",
   "execution_count": 503,
   "id": "123c76a7",
   "metadata": {},
   "outputs": [
    {
     "data": {
      "text/plain": [
       "DT\n",
       "2020-03-31    -135.072581\n",
       "2020-06-30   -4934.072581\n",
       "2020-09-30     843.927419\n",
       "2020-12-31    6543.927419\n",
       "2021-03-31     667.927419\n",
       "2021-06-30    2982.927419\n",
       "2021-09-30    1114.927419\n",
       "2021-12-31   -3735.072581\n",
       "2022-03-31    1094.927419\n",
       "2022-06-30    -342.072581\n",
       "dtype: float64"
      ]
     },
     "execution_count": 503,
     "metadata": {},
     "output_type": "execute_result"
    }
   ],
   "source": [
    "residuals"
   ]
  },
  {
   "cell_type": "code",
   "execution_count": 504,
   "id": "b0d66cd9",
   "metadata": {},
   "outputs": [
    {
     "data": {
      "text/plain": [
       "<AxesSubplot:ylabel='Density'>"
      ]
     },
     "execution_count": 504,
     "metadata": {},
     "output_type": "execute_result"
    },
    {
     "data": {
      "image/png": "[encoded data removed]",
      "text/plain": [
       "<Figure size 432x288 with 1 Axes>"
      ]
     },
     "metadata": {
      "needs_background": "light"
     },
     "output_type": "display_data"
    }
   ],
   "source": [
    "model_Arima_fit.resid.plot(kind='kde')"
   ]
  },
  {
   "cell_type": "code",
   "execution_count": 505,
   "id": "7540708f",
   "metadata": {},
   "outputs": [
    {
     "name": "stderr",
     "output_type": "stream",
     "text": [
      "C:\\Users\\Admin\\AppData\\Local\\Temp\\ipykernel_2488\\95659616.py:1: SettingWithCopyWarning: \n",
      "A value is trying to be set on a copy of a slice from a DataFrame.\n",
      "Try using .loc[row_indexer,col_indexer] = value instead\n",
      "\n",
      "See the caveats in the documentation: https://pandas.pydata.org/pandas-docs/stable/user_guide/indexing.html#returning-a-view-versus-a-copy\n",
      "  test_data['Predicted_ARIMA']=pred\n"
     ]
    }
   ],
   "source": [
    "test_data['Predicted_ARIMA']=pred"
   ]
  },
  {
   "cell_type": "code",
   "execution_count": 506,
   "id": "e26d7117",
   "metadata": {
    "scrolled": true
   },
   "outputs": [
    {
     "data": {
      "text/plain": [
       "<AxesSubplot:xlabel='DT'>"
      ]
     },
     "execution_count": 506,
     "metadata": {},
     "output_type": "execute_result"
    },
    {
     "data": {
      "image/png": "[encoded data removed]",
      "text/plain": [
       "<Figure size 1080x360 with 1 Axes>"
      ]
     },
     "metadata": {
      "needs_background": "light"
     },
     "output_type": "display_data"
    }
   ],
   "source": [
    "test_data[['Cash_Flow_from_Investing_Activities','Predicted_ARIMA']].plot(figsize=(15,5))"
   ]
  },
  {
   "cell_type": "code",
   "execution_count": 507,
   "id": "1de8ed67",
   "metadata": {},
   "outputs": [
    {
     "data": {
      "text/html": [
       "<div>\n",
       "<style scoped>\n",
       "    .dataframe tbody tr th:only-of-type {\n",
       "        vertical-align: middle;\n",
       "    }\n",
       "\n",
       "    .dataframe tbody tr th {\n",
       "        vertical-align: top;\n",
       "    }\n",
       "\n",
       "    .dataframe thead th {\n",
       "        text-align: right;\n",
       "    }\n",
       "</style>\n",
       "<table border=\"1\" class=\"dataframe\">\n",
       "  <thead>\n",
       "    <tr style=\"text-align: right;\">\n",
       "      <th></th>\n",
       "      <th>Cash_Flow_from_Investing_Activities</th>\n",
       "      <th>Predicted_ARIMA</th>\n",
       "    </tr>\n",
       "    <tr>\n",
       "      <th>DT</th>\n",
       "      <th></th>\n",
       "      <th></th>\n",
       "    </tr>\n",
       "  </thead>\n",
       "  <tbody>\n",
       "    <tr>\n",
       "      <th>2020-03-31</th>\n",
       "      <td>-1084</td>\n",
       "      <td>-948.927419</td>\n",
       "    </tr>\n",
       "    <tr>\n",
       "      <th>2020-06-30</th>\n",
       "      <td>-5883</td>\n",
       "      <td>-948.927419</td>\n",
       "    </tr>\n",
       "    <tr>\n",
       "      <th>2020-09-30</th>\n",
       "      <td>-105</td>\n",
       "      <td>-948.927419</td>\n",
       "    </tr>\n",
       "    <tr>\n",
       "      <th>2020-12-31</th>\n",
       "      <td>5595</td>\n",
       "      <td>-948.927419</td>\n",
       "    </tr>\n",
       "    <tr>\n",
       "      <th>2021-03-31</th>\n",
       "      <td>-281</td>\n",
       "      <td>-948.927419</td>\n",
       "    </tr>\n",
       "    <tr>\n",
       "      <th>2021-06-30</th>\n",
       "      <td>2034</td>\n",
       "      <td>-948.927419</td>\n",
       "    </tr>\n",
       "    <tr>\n",
       "      <th>2021-09-30</th>\n",
       "      <td>166</td>\n",
       "      <td>-948.927419</td>\n",
       "    </tr>\n",
       "    <tr>\n",
       "      <th>2021-12-31</th>\n",
       "      <td>-4684</td>\n",
       "      <td>-948.927419</td>\n",
       "    </tr>\n",
       "    <tr>\n",
       "      <th>2022-03-31</th>\n",
       "      <td>146</td>\n",
       "      <td>-948.927419</td>\n",
       "    </tr>\n",
       "    <tr>\n",
       "      <th>2022-06-30</th>\n",
       "      <td>-1291</td>\n",
       "      <td>-948.927419</td>\n",
       "    </tr>\n",
       "  </tbody>\n",
       "</table>\n",
       "</div>"
      ],
      "text/plain": [
       "            Cash_Flow_from_Investing_Activities  Predicted_ARIMA\n",
       "DT                                                              \n",
       "2020-03-31                                -1084      -948.927419\n",
       "2020-06-30                                -5883      -948.927419\n",
       "2020-09-30                                 -105      -948.927419\n",
       "2020-12-31                                 5595      -948.927419\n",
       "2021-03-31                                 -281      -948.927419\n",
       "2021-06-30                                 2034      -948.927419\n",
       "2021-09-30                                  166      -948.927419\n",
       "2021-12-31                                -4684      -948.927419\n",
       "2022-03-31                                  146      -948.927419\n",
       "2022-06-30                                -1291      -948.927419"
      ]
     },
     "execution_count": 507,
     "metadata": {},
     "output_type": "execute_result"
    }
   ],
   "source": [
    "test_data"
   ]
  },
  {
   "cell_type": "code",
   "execution_count": 508,
   "id": "22860da8",
   "metadata": {},
   "outputs": [
    {
     "data": {
      "text/plain": [
       "<AxesSubplot:xlabel='DT'>"
      ]
     },
     "execution_count": 508,
     "metadata": {},
     "output_type": "execute_result"
    },
    {
     "data": {
      "image/png": "[encoded data removed]",
      "text/plain": [
       "<Figure size 1080x360 with 1 Axes>"
      ]
     },
     "metadata": {
      "needs_background": "light"
     },
     "output_type": "display_data"
    }
   ],
   "source": [
    "test_data[['Cash_Flow_from_Investing_Activities','Predicted_ARIMA']].plot.bar(figsize=(15,5))"
   ]
  },
  {
   "cell_type": "code",
   "execution_count": 509,
   "id": "c1eb2446",
   "metadata": {},
   "outputs": [],
   "source": [
    "from pandas.tseries.offsets import DateOffset\n",
    "future_dates=[test_data.index[-1]+ DateOffset(months=x)for x in range(0,24)]"
   ]
  },
  {
   "cell_type": "code",
   "execution_count": 510,
   "id": "f403a2ae",
   "metadata": {},
   "outputs": [
    {
     "data": {
      "text/plain": [
       "[Timestamp('2022-06-30 00:00:00'),\n",
       " Timestamp('2022-07-30 00:00:00'),\n",
       " Timestamp('2022-08-30 00:00:00'),\n",
       " Timestamp('2022-09-30 00:00:00'),\n",
       " Timestamp('2022-10-30 00:00:00'),\n",
       " Timestamp('2022-11-30 00:00:00'),\n",
       " Timestamp('2022-12-30 00:00:00'),\n",
       " Timestamp('2023-01-30 00:00:00'),\n",
       " Timestamp('2023-02-28 00:00:00'),\n",
       " Timestamp('2023-03-30 00:00:00'),\n",
       " Timestamp('2023-04-30 00:00:00'),\n",
       " Timestamp('2023-05-30 00:00:00'),\n",
       " Timestamp('2023-06-30 00:00:00'),\n",
       " Timestamp('2023-07-30 00:00:00'),\n",
       " Timestamp('2023-08-30 00:00:00'),\n",
       " Timestamp('2023-09-30 00:00:00'),\n",
       " Timestamp('2023-10-30 00:00:00'),\n",
       " Timestamp('2023-11-30 00:00:00'),\n",
       " Timestamp('2023-12-30 00:00:00'),\n",
       " Timestamp('2024-01-30 00:00:00'),\n",
       " Timestamp('2024-02-29 00:00:00'),\n",
       " Timestamp('2024-03-30 00:00:00'),\n",
       " Timestamp('2024-04-30 00:00:00'),\n",
       " Timestamp('2024-05-30 00:00:00')]"
      ]
     },
     "execution_count": 510,
     "metadata": {},
     "output_type": "execute_result"
    }
   ],
   "source": [
    "future_dates"
   ]
  },
  {
   "cell_type": "code",
   "execution_count": 511,
   "id": "c02ff542",
   "metadata": {},
   "outputs": [],
   "source": [
    "future_datest_df=pd.DataFrame(index=future_dates[1:],columns=test_data.columns)"
   ]
  },
  {
   "cell_type": "code",
   "execution_count": 512,
   "id": "02f3708d",
   "metadata": {},
   "outputs": [
    {
     "data": {
      "text/html": [
       "<div>\n",
       "<style scoped>\n",
       "    .dataframe tbody tr th:only-of-type {\n",
       "        vertical-align: middle;\n",
       "    }\n",
       "\n",
       "    .dataframe tbody tr th {\n",
       "        vertical-align: top;\n",
       "    }\n",
       "\n",
       "    .dataframe thead th {\n",
       "        text-align: right;\n",
       "    }\n",
       "</style>\n",
       "<table border=\"1\" class=\"dataframe\">\n",
       "  <thead>\n",
       "    <tr style=\"text-align: right;\">\n",
       "      <th></th>\n",
       "      <th>Cash_Flow_from_Investing_Activities</th>\n",
       "      <th>Predicted_ARIMA</th>\n",
       "    </tr>\n",
       "  </thead>\n",
       "  <tbody>\n",
       "    <tr>\n",
       "      <th>2022-07-30</th>\n",
       "      <td>NaN</td>\n",
       "      <td>NaN</td>\n",
       "    </tr>\n",
       "    <tr>\n",
       "      <th>2022-08-30</th>\n",
       "      <td>NaN</td>\n",
       "      <td>NaN</td>\n",
       "    </tr>\n",
       "    <tr>\n",
       "      <th>2022-09-30</th>\n",
       "      <td>NaN</td>\n",
       "      <td>NaN</td>\n",
       "    </tr>\n",
       "    <tr>\n",
       "      <th>2022-10-30</th>\n",
       "      <td>NaN</td>\n",
       "      <td>NaN</td>\n",
       "    </tr>\n",
       "    <tr>\n",
       "      <th>2022-11-30</th>\n",
       "      <td>NaN</td>\n",
       "      <td>NaN</td>\n",
       "    </tr>\n",
       "    <tr>\n",
       "      <th>2022-12-30</th>\n",
       "      <td>NaN</td>\n",
       "      <td>NaN</td>\n",
       "    </tr>\n",
       "    <tr>\n",
       "      <th>2023-01-30</th>\n",
       "      <td>NaN</td>\n",
       "      <td>NaN</td>\n",
       "    </tr>\n",
       "    <tr>\n",
       "      <th>2023-02-28</th>\n",
       "      <td>NaN</td>\n",
       "      <td>NaN</td>\n",
       "    </tr>\n",
       "    <tr>\n",
       "      <th>2023-03-30</th>\n",
       "      <td>NaN</td>\n",
       "      <td>NaN</td>\n",
       "    </tr>\n",
       "    <tr>\n",
       "      <th>2023-04-30</th>\n",
       "      <td>NaN</td>\n",
       "      <td>NaN</td>\n",
       "    </tr>\n",
       "    <tr>\n",
       "      <th>2023-05-30</th>\n",
       "      <td>NaN</td>\n",
       "      <td>NaN</td>\n",
       "    </tr>\n",
       "    <tr>\n",
       "      <th>2023-06-30</th>\n",
       "      <td>NaN</td>\n",
       "      <td>NaN</td>\n",
       "    </tr>\n",
       "    <tr>\n",
       "      <th>2023-07-30</th>\n",
       "      <td>NaN</td>\n",
       "      <td>NaN</td>\n",
       "    </tr>\n",
       "    <tr>\n",
       "      <th>2023-08-30</th>\n",
       "      <td>NaN</td>\n",
       "      <td>NaN</td>\n",
       "    </tr>\n",
       "    <tr>\n",
       "      <th>2023-09-30</th>\n",
       "      <td>NaN</td>\n",
       "      <td>NaN</td>\n",
       "    </tr>\n",
       "    <tr>\n",
       "      <th>2023-10-30</th>\n",
       "      <td>NaN</td>\n",
       "      <td>NaN</td>\n",
       "    </tr>\n",
       "    <tr>\n",
       "      <th>2023-11-30</th>\n",
       "      <td>NaN</td>\n",
       "      <td>NaN</td>\n",
       "    </tr>\n",
       "    <tr>\n",
       "      <th>2023-12-30</th>\n",
       "      <td>NaN</td>\n",
       "      <td>NaN</td>\n",
       "    </tr>\n",
       "    <tr>\n",
       "      <th>2024-01-30</th>\n",
       "      <td>NaN</td>\n",
       "      <td>NaN</td>\n",
       "    </tr>\n",
       "    <tr>\n",
       "      <th>2024-02-29</th>\n",
       "      <td>NaN</td>\n",
       "      <td>NaN</td>\n",
       "    </tr>\n",
       "    <tr>\n",
       "      <th>2024-03-30</th>\n",
       "      <td>NaN</td>\n",
       "      <td>NaN</td>\n",
       "    </tr>\n",
       "    <tr>\n",
       "      <th>2024-04-30</th>\n",
       "      <td>NaN</td>\n",
       "      <td>NaN</td>\n",
       "    </tr>\n",
       "    <tr>\n",
       "      <th>2024-05-30</th>\n",
       "      <td>NaN</td>\n",
       "      <td>NaN</td>\n",
       "    </tr>\n",
       "  </tbody>\n",
       "</table>\n",
       "</div>"
      ],
      "text/plain": [
       "           Cash_Flow_from_Investing_Activities Predicted_ARIMA\n",
       "2022-07-30                                 NaN             NaN\n",
       "2022-08-30                                 NaN             NaN\n",
       "2022-09-30                                 NaN             NaN\n",
       "2022-10-30                                 NaN             NaN\n",
       "2022-11-30                                 NaN             NaN\n",
       "2022-12-30                                 NaN             NaN\n",
       "2023-01-30                                 NaN             NaN\n",
       "2023-02-28                                 NaN             NaN\n",
       "2023-03-30                                 NaN             NaN\n",
       "2023-04-30                                 NaN             NaN\n",
       "2023-05-30                                 NaN             NaN\n",
       "2023-06-30                                 NaN             NaN\n",
       "2023-07-30                                 NaN             NaN\n",
       "2023-08-30                                 NaN             NaN\n",
       "2023-09-30                                 NaN             NaN\n",
       "2023-10-30                                 NaN             NaN\n",
       "2023-11-30                                 NaN             NaN\n",
       "2023-12-30                                 NaN             NaN\n",
       "2024-01-30                                 NaN             NaN\n",
       "2024-02-29                                 NaN             NaN\n",
       "2024-03-30                                 NaN             NaN\n",
       "2024-04-30                                 NaN             NaN\n",
       "2024-05-30                                 NaN             NaN"
      ]
     },
     "execution_count": 512,
     "metadata": {},
     "output_type": "execute_result"
    }
   ],
   "source": [
    "future_datest_df"
   ]
  },
  {
   "cell_type": "code",
   "execution_count": 513,
   "id": "8a4e35f8",
   "metadata": {},
   "outputs": [],
   "source": [
    "future_df=pd.concat([test_data,future_datest_df])"
   ]
  },
  {
   "cell_type": "code",
   "execution_count": 514,
   "id": "78fe8cad",
   "metadata": {},
   "outputs": [
    {
     "data": {
      "text/html": [
       "<div>\n",
       "<style scoped>\n",
       "    .dataframe tbody tr th:only-of-type {\n",
       "        vertical-align: middle;\n",
       "    }\n",
       "\n",
       "    .dataframe tbody tr th {\n",
       "        vertical-align: top;\n",
       "    }\n",
       "\n",
       "    .dataframe thead th {\n",
       "        text-align: right;\n",
       "    }\n",
       "</style>\n",
       "<table border=\"1\" class=\"dataframe\">\n",
       "  <thead>\n",
       "    <tr style=\"text-align: right;\">\n",
       "      <th></th>\n",
       "      <th>Cash_Flow_from_Investing_Activities</th>\n",
       "      <th>Predicted_ARIMA</th>\n",
       "    </tr>\n",
       "  </thead>\n",
       "  <tbody>\n",
       "    <tr>\n",
       "      <th>2020-03-31</th>\n",
       "      <td>-1084</td>\n",
       "      <td>-948.927419</td>\n",
       "    </tr>\n",
       "    <tr>\n",
       "      <th>2020-06-30</th>\n",
       "      <td>-5883</td>\n",
       "      <td>-948.927419</td>\n",
       "    </tr>\n",
       "    <tr>\n",
       "      <th>2020-09-30</th>\n",
       "      <td>-105</td>\n",
       "      <td>-948.927419</td>\n",
       "    </tr>\n",
       "    <tr>\n",
       "      <th>2020-12-31</th>\n",
       "      <td>5595</td>\n",
       "      <td>-948.927419</td>\n",
       "    </tr>\n",
       "    <tr>\n",
       "      <th>2021-03-31</th>\n",
       "      <td>-281</td>\n",
       "      <td>-948.927419</td>\n",
       "    </tr>\n",
       "    <tr>\n",
       "      <th>2021-06-30</th>\n",
       "      <td>2034</td>\n",
       "      <td>-948.927419</td>\n",
       "    </tr>\n",
       "    <tr>\n",
       "      <th>2021-09-30</th>\n",
       "      <td>166</td>\n",
       "      <td>-948.927419</td>\n",
       "    </tr>\n",
       "    <tr>\n",
       "      <th>2021-12-31</th>\n",
       "      <td>-4684</td>\n",
       "      <td>-948.927419</td>\n",
       "    </tr>\n",
       "    <tr>\n",
       "      <th>2022-03-31</th>\n",
       "      <td>146</td>\n",
       "      <td>-948.927419</td>\n",
       "    </tr>\n",
       "    <tr>\n",
       "      <th>2022-06-30</th>\n",
       "      <td>-1291</td>\n",
       "      <td>-948.927419</td>\n",
       "    </tr>\n",
       "    <tr>\n",
       "      <th>2022-07-30</th>\n",
       "      <td>NaN</td>\n",
       "      <td>NaN</td>\n",
       "    </tr>\n",
       "    <tr>\n",
       "      <th>2022-08-30</th>\n",
       "      <td>NaN</td>\n",
       "      <td>NaN</td>\n",
       "    </tr>\n",
       "    <tr>\n",
       "      <th>2022-09-30</th>\n",
       "      <td>NaN</td>\n",
       "      <td>NaN</td>\n",
       "    </tr>\n",
       "    <tr>\n",
       "      <th>2022-10-30</th>\n",
       "      <td>NaN</td>\n",
       "      <td>NaN</td>\n",
       "    </tr>\n",
       "    <tr>\n",
       "      <th>2022-11-30</th>\n",
       "      <td>NaN</td>\n",
       "      <td>NaN</td>\n",
       "    </tr>\n",
       "    <tr>\n",
       "      <th>2022-12-30</th>\n",
       "      <td>NaN</td>\n",
       "      <td>NaN</td>\n",
       "    </tr>\n",
       "    <tr>\n",
       "      <th>2023-01-30</th>\n",
       "      <td>NaN</td>\n",
       "      <td>NaN</td>\n",
       "    </tr>\n",
       "    <tr>\n",
       "      <th>2023-02-28</th>\n",
       "      <td>NaN</td>\n",
       "      <td>NaN</td>\n",
       "    </tr>\n",
       "    <tr>\n",
       "      <th>2023-03-30</th>\n",
       "      <td>NaN</td>\n",
       "      <td>NaN</td>\n",
       "    </tr>\n",
       "    <tr>\n",
       "      <th>2023-04-30</th>\n",
       "      <td>NaN</td>\n",
       "      <td>NaN</td>\n",
       "    </tr>\n",
       "    <tr>\n",
       "      <th>2023-05-30</th>\n",
       "      <td>NaN</td>\n",
       "      <td>NaN</td>\n",
       "    </tr>\n",
       "    <tr>\n",
       "      <th>2023-06-30</th>\n",
       "      <td>NaN</td>\n",
       "      <td>NaN</td>\n",
       "    </tr>\n",
       "    <tr>\n",
       "      <th>2023-07-30</th>\n",
       "      <td>NaN</td>\n",
       "      <td>NaN</td>\n",
       "    </tr>\n",
       "    <tr>\n",
       "      <th>2023-08-30</th>\n",
       "      <td>NaN</td>\n",
       "      <td>NaN</td>\n",
       "    </tr>\n",
       "    <tr>\n",
       "      <th>2023-09-30</th>\n",
       "      <td>NaN</td>\n",
       "      <td>NaN</td>\n",
       "    </tr>\n",
       "    <tr>\n",
       "      <th>2023-10-30</th>\n",
       "      <td>NaN</td>\n",
       "      <td>NaN</td>\n",
       "    </tr>\n",
       "    <tr>\n",
       "      <th>2023-11-30</th>\n",
       "      <td>NaN</td>\n",
       "      <td>NaN</td>\n",
       "    </tr>\n",
       "    <tr>\n",
       "      <th>2023-12-30</th>\n",
       "      <td>NaN</td>\n",
       "      <td>NaN</td>\n",
       "    </tr>\n",
       "    <tr>\n",
       "      <th>2024-01-30</th>\n",
       "      <td>NaN</td>\n",
       "      <td>NaN</td>\n",
       "    </tr>\n",
       "    <tr>\n",
       "      <th>2024-02-29</th>\n",
       "      <td>NaN</td>\n",
       "      <td>NaN</td>\n",
       "    </tr>\n",
       "    <tr>\n",
       "      <th>2024-03-30</th>\n",
       "      <td>NaN</td>\n",
       "      <td>NaN</td>\n",
       "    </tr>\n",
       "    <tr>\n",
       "      <th>2024-04-30</th>\n",
       "      <td>NaN</td>\n",
       "      <td>NaN</td>\n",
       "    </tr>\n",
       "    <tr>\n",
       "      <th>2024-05-30</th>\n",
       "      <td>NaN</td>\n",
       "      <td>NaN</td>\n",
       "    </tr>\n",
       "  </tbody>\n",
       "</table>\n",
       "</div>"
      ],
      "text/plain": [
       "           Cash_Flow_from_Investing_Activities Predicted_ARIMA\n",
       "2020-03-31                               -1084     -948.927419\n",
       "2020-06-30                               -5883     -948.927419\n",
       "2020-09-30                                -105     -948.927419\n",
       "2020-12-31                                5595     -948.927419\n",
       "2021-03-31                                -281     -948.927419\n",
       "2021-06-30                                2034     -948.927419\n",
       "2021-09-30                                 166     -948.927419\n",
       "2021-12-31                               -4684     -948.927419\n",
       "2022-03-31                                 146     -948.927419\n",
       "2022-06-30                               -1291     -948.927419\n",
       "2022-07-30                                 NaN             NaN\n",
       "2022-08-30                                 NaN             NaN\n",
       "2022-09-30                                 NaN             NaN\n",
       "2022-10-30                                 NaN             NaN\n",
       "2022-11-30                                 NaN             NaN\n",
       "2022-12-30                                 NaN             NaN\n",
       "2023-01-30                                 NaN             NaN\n",
       "2023-02-28                                 NaN             NaN\n",
       "2023-03-30                                 NaN             NaN\n",
       "2023-04-30                                 NaN             NaN\n",
       "2023-05-30                                 NaN             NaN\n",
       "2023-06-30                                 NaN             NaN\n",
       "2023-07-30                                 NaN             NaN\n",
       "2023-08-30                                 NaN             NaN\n",
       "2023-09-30                                 NaN             NaN\n",
       "2023-10-30                                 NaN             NaN\n",
       "2023-11-30                                 NaN             NaN\n",
       "2023-12-30                                 NaN             NaN\n",
       "2024-01-30                                 NaN             NaN\n",
       "2024-02-29                                 NaN             NaN\n",
       "2024-03-30                                 NaN             NaN\n",
       "2024-04-30                                 NaN             NaN\n",
       "2024-05-30                                 NaN             NaN"
      ]
     },
     "execution_count": 514,
     "metadata": {},
     "output_type": "execute_result"
    }
   ],
   "source": [
    "future_df"
   ]
  },
  {
   "cell_type": "code",
   "execution_count": 515,
   "id": "e15d388c",
   "metadata": {},
   "outputs": [
    {
     "name": "stdout",
     "output_type": "stream",
     "text": [
      "2022-07-30 00:00:00\n",
      "2024-05-30 00:00:00\n"
     ]
    }
   ],
   "source": [
    "##prediction\n",
    "pred_start_date=future_datest_df.index[0]\n",
    "pred_end_date=future_datest_df.index[-1]\n",
    "print(pred_start_date)\n",
    "print(pred_end_date)"
   ]
  },
  {
   "cell_type": "code",
   "execution_count": 516,
   "id": "c549f328",
   "metadata": {},
   "outputs": [],
   "source": [
    "pred_future=model_Arima_fit.predict(start=pred_start_date,end=pred_end_date)\n",
    "residuals=test_data['Cash_Flow_from_Investing_Activities']-pred"
   ]
  },
  {
   "cell_type": "code",
   "execution_count": 517,
   "id": "aaebe693",
   "metadata": {},
   "outputs": [
    {
     "data": {
      "text/plain": [
       "2022-09-30   -948.927419\n",
       "2022-12-31   -948.927419\n",
       "2023-03-31   -948.927419\n",
       "2023-06-30   -948.927419\n",
       "2023-09-30   -948.927419\n",
       "2023-12-31   -948.927419\n",
       "2024-03-31   -948.927419\n",
       "2024-06-30   -948.927419\n",
       "Freq: Q-DEC, Name: predicted_mean, dtype: float64"
      ]
     },
     "execution_count": 517,
     "metadata": {},
     "output_type": "execute_result"
    }
   ],
   "source": [
    "pred_future"
   ]
  },
  {
   "cell_type": "code",
   "execution_count": 518,
   "id": "cecdc429",
   "metadata": {},
   "outputs": [
    {
     "data": {
      "text/plain": [
       "<AxesSubplot:>"
      ]
     },
     "execution_count": 518,
     "metadata": {},
     "output_type": "execute_result"
    },
    {
     "data": {
      "image/png": "[encoded data removed]",
      "text/plain": [
       "<Figure size 1440x1080 with 1 Axes>"
      ]
     },
     "metadata": {
      "needs_background": "light"
     },
     "output_type": "display_data"
    }
   ],
   "source": [
    "pred_future.plot.bar(figsize=(20,15))"
   ]
  },
  {
   "cell_type": "code",
   "execution_count": null,
   "id": "2f5d97c4",
   "metadata": {},
   "outputs": [],
   "source": []
  },
  {
   "cell_type": "code",
   "execution_count": null,
   "id": "93861914",
   "metadata": {},
   "outputs": [],
   "source": []
  }
 ],
 "metadata": {
  "kernelspec": {
   "display_name": "Python 3 (ipykernel)",
   "language": "python",
   "name": "python3"
  },
  "language_info": {
   "codemirror_mode": {
    "name": "ipython",
    "version": 3
   },
   "file_extension": ".py",
   "mimetype": "text/x-python",
   "name": "python",
   "nbconvert_exporter": "python",
   "pygments_lexer": "ipython3",
   "version": "3.9.12"
  }
 },
 "nbformat": 4,
 "nbformat_minor": 5
}
